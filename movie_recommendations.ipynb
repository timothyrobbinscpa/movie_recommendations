{
 "cells": [
  {
   "cell_type": "markdown",
   "id": "6fc1aa1c-0a13-4a9c-a9f8-ebb4bcc5d202",
   "metadata": {},
   "source": [
    "https://www.kaggle.com/datasets/parasharmanas/movie-recommendation-system/data"
   ]
  },
  {
   "cell_type": "markdown",
   "id": "bc724fac-579a-4b4d-9ede-ef9ba529c192",
   "metadata": {
    "tags": []
   },
   "source": [
    "# Import Libraries and Read Data"
   ]
  },
  {
   "cell_type": "code",
   "execution_count": 1,
   "id": "83071143-09f7-47da-ade9-f4386b430bb4",
   "metadata": {},
   "outputs": [],
   "source": [
    "import pandas as pd\n",
    "import numpy as np\n",
    "import matplotlib.pyplot as plt\n",
    "import seaborn as sns\n"
   ]
  },
  {
   "cell_type": "code",
   "execution_count": 2,
   "id": "277afcf0-4571-4f38-9384-c784325dc799",
   "metadata": {
    "tags": []
   },
   "outputs": [],
   "source": [
    "movies_df = pd.read_csv('movies.csv')"
   ]
  },
  {
   "cell_type": "code",
   "execution_count": 3,
   "id": "61f018c4-f975-41fc-84df-8779b022252c",
   "metadata": {
    "tags": []
   },
   "outputs": [
    {
     "data": {
      "text/plain": [
       "(9742, 3)"
      ]
     },
     "execution_count": 3,
     "metadata": {},
     "output_type": "execute_result"
    }
   ],
   "source": [
    "movies_df.shape"
   ]
  },
  {
   "cell_type": "code",
   "execution_count": 4,
   "id": "64404589-3eb3-4003-9e71-ce9294b9dac8",
   "metadata": {
    "tags": []
   },
   "outputs": [
    {
     "data": {
      "text/plain": [
       "(100836, 4)"
      ]
     },
     "execution_count": 4,
     "metadata": {},
     "output_type": "execute_result"
    }
   ],
   "source": [
    "ratings = pd.read_csv('ratings.csv')\n",
    "\n",
    "ratings.shape"
   ]
  },
  {
   "cell_type": "code",
   "execution_count": 5,
   "id": "35d3f1a5-0da4-45b4-8037-a635fb068458",
   "metadata": {
    "tags": []
   },
   "outputs": [
    {
     "data": {
      "text/html": [
       "<div>\n",
       "<style scoped>\n",
       "    .dataframe tbody tr th:only-of-type {\n",
       "        vertical-align: middle;\n",
       "    }\n",
       "\n",
       "    .dataframe tbody tr th {\n",
       "        vertical-align: top;\n",
       "    }\n",
       "\n",
       "    .dataframe thead th {\n",
       "        text-align: right;\n",
       "    }\n",
       "</style>\n",
       "<table border=\"1\" class=\"dataframe\">\n",
       "  <thead>\n",
       "    <tr style=\"text-align: right;\">\n",
       "      <th></th>\n",
       "      <th>movieId</th>\n",
       "      <th>title</th>\n",
       "      <th>genres</th>\n",
       "    </tr>\n",
       "  </thead>\n",
       "  <tbody>\n",
       "    <tr>\n",
       "      <th>0</th>\n",
       "      <td>1</td>\n",
       "      <td>Toy Story (1995)</td>\n",
       "      <td>Adventure|Animation|Children|Comedy|Fantasy</td>\n",
       "    </tr>\n",
       "    <tr>\n",
       "      <th>1</th>\n",
       "      <td>2</td>\n",
       "      <td>Jumanji (1995)</td>\n",
       "      <td>Adventure|Children|Fantasy</td>\n",
       "    </tr>\n",
       "    <tr>\n",
       "      <th>2</th>\n",
       "      <td>3</td>\n",
       "      <td>Grumpier Old Men (1995)</td>\n",
       "      <td>Comedy|Romance</td>\n",
       "    </tr>\n",
       "    <tr>\n",
       "      <th>3</th>\n",
       "      <td>4</td>\n",
       "      <td>Waiting to Exhale (1995)</td>\n",
       "      <td>Comedy|Drama|Romance</td>\n",
       "    </tr>\n",
       "    <tr>\n",
       "      <th>4</th>\n",
       "      <td>5</td>\n",
       "      <td>Father of the Bride Part II (1995)</td>\n",
       "      <td>Comedy</td>\n",
       "    </tr>\n",
       "  </tbody>\n",
       "</table>\n",
       "</div>"
      ],
      "text/plain": [
       "   movieId                               title  \\\n",
       "0        1                    Toy Story (1995)   \n",
       "1        2                      Jumanji (1995)   \n",
       "2        3             Grumpier Old Men (1995)   \n",
       "3        4            Waiting to Exhale (1995)   \n",
       "4        5  Father of the Bride Part II (1995)   \n",
       "\n",
       "                                        genres  \n",
       "0  Adventure|Animation|Children|Comedy|Fantasy  \n",
       "1                   Adventure|Children|Fantasy  \n",
       "2                               Comedy|Romance  \n",
       "3                         Comedy|Drama|Romance  \n",
       "4                                       Comedy  "
      ]
     },
     "execution_count": 5,
     "metadata": {},
     "output_type": "execute_result"
    }
   ],
   "source": [
    "movies_df.head()"
   ]
  },
  {
   "cell_type": "code",
   "execution_count": 6,
   "id": "63625d11-c687-45d2-b36c-36fa80121294",
   "metadata": {
    "tags": []
   },
   "outputs": [
    {
     "data": {
      "text/html": [
       "<div>\n",
       "<style scoped>\n",
       "    .dataframe tbody tr th:only-of-type {\n",
       "        vertical-align: middle;\n",
       "    }\n",
       "\n",
       "    .dataframe tbody tr th {\n",
       "        vertical-align: top;\n",
       "    }\n",
       "\n",
       "    .dataframe thead th {\n",
       "        text-align: right;\n",
       "    }\n",
       "</style>\n",
       "<table border=\"1\" class=\"dataframe\">\n",
       "  <thead>\n",
       "    <tr style=\"text-align: right;\">\n",
       "      <th></th>\n",
       "      <th>userId</th>\n",
       "      <th>movieId</th>\n",
       "      <th>rating</th>\n",
       "      <th>timestamp</th>\n",
       "    </tr>\n",
       "  </thead>\n",
       "  <tbody>\n",
       "    <tr>\n",
       "      <th>0</th>\n",
       "      <td>1</td>\n",
       "      <td>1</td>\n",
       "      <td>4.0</td>\n",
       "      <td>964982703</td>\n",
       "    </tr>\n",
       "    <tr>\n",
       "      <th>1</th>\n",
       "      <td>1</td>\n",
       "      <td>3</td>\n",
       "      <td>4.0</td>\n",
       "      <td>964981247</td>\n",
       "    </tr>\n",
       "    <tr>\n",
       "      <th>2</th>\n",
       "      <td>1</td>\n",
       "      <td>6</td>\n",
       "      <td>4.0</td>\n",
       "      <td>964982224</td>\n",
       "    </tr>\n",
       "    <tr>\n",
       "      <th>3</th>\n",
       "      <td>1</td>\n",
       "      <td>47</td>\n",
       "      <td>5.0</td>\n",
       "      <td>964983815</td>\n",
       "    </tr>\n",
       "    <tr>\n",
       "      <th>4</th>\n",
       "      <td>1</td>\n",
       "      <td>50</td>\n",
       "      <td>5.0</td>\n",
       "      <td>964982931</td>\n",
       "    </tr>\n",
       "  </tbody>\n",
       "</table>\n",
       "</div>"
      ],
      "text/plain": [
       "   userId  movieId  rating  timestamp\n",
       "0       1        1     4.0  964982703\n",
       "1       1        3     4.0  964981247\n",
       "2       1        6     4.0  964982224\n",
       "3       1       47     5.0  964983815\n",
       "4       1       50     5.0  964982931"
      ]
     },
     "execution_count": 6,
     "metadata": {},
     "output_type": "execute_result"
    }
   ],
   "source": [
    "ratings.head()"
   ]
  },
  {
   "cell_type": "markdown",
   "id": "e96dd8c3-2044-4972-8175-9ed3392effcb",
   "metadata": {},
   "source": [
    "## Merge the two dataframes"
   ]
  },
  {
   "cell_type": "code",
   "execution_count": 7,
   "id": "3fe6ac6d-52be-4881-870d-4236e7f55fc2",
   "metadata": {
    "tags": []
   },
   "outputs": [],
   "source": [
    "df = movies_df.merge(ratings, on='movieId')"
   ]
  },
  {
   "cell_type": "markdown",
   "id": "506be1d2-ba61-4bba-b8b9-df151d3c200c",
   "metadata": {},
   "source": [
    "# EDA"
   ]
  },
  {
   "cell_type": "markdown",
   "id": "a87e13df-a5d9-4b2d-8b1d-3a21b181b175",
   "metadata": {},
   "source": [
    "## Initial Analysis"
   ]
  },
  {
   "cell_type": "code",
   "execution_count": 8,
   "id": "8023d3f3-4f5c-4c94-a3d6-b08ab9e63219",
   "metadata": {
    "tags": []
   },
   "outputs": [
    {
     "data": {
      "text/plain": [
       "({'Data Dimensions': (100836, 6),\n",
       "  'Data Types': movieId        int64\n",
       "  title         object\n",
       "  genres        object\n",
       "  userId         int64\n",
       "  rating       float64\n",
       "  timestamp      int64\n",
       "  dtype: object,\n",
       "  'Missing Values': movieId      0\n",
       "  title        0\n",
       "  genres       0\n",
       "  userId       0\n",
       "  rating       0\n",
       "  timestamp    0\n",
       "  dtype: int64},\n",
       " count    100836.000000\n",
       " mean          3.501557\n",
       " std           1.042529\n",
       " min           0.500000\n",
       " 25%           3.000000\n",
       " 50%           3.500000\n",
       " 75%           4.000000\n",
       " max           5.000000\n",
       " Name: rating, dtype: float64,\n",
       "                                   count      mean\n",
       " title                                            \n",
       " Forrest Gump (1994)                 329  4.164134\n",
       " Shawshank Redemption, The (1994)    317  4.429022\n",
       " Pulp Fiction (1994)                 307  4.197068\n",
       " Silence of the Lambs, The (1991)    279  4.161290\n",
       " Matrix, The (1999)                  278  4.192446,\n",
       "         count      mean\n",
       " userId                 \n",
       " 414      2698  3.391957\n",
       " 599      2478  2.642050\n",
       " 474      2108  3.398956\n",
       " 448      1864  2.847371\n",
       " 274      1346  3.235884)"
      ]
     },
     "execution_count": 8,
     "metadata": {},
     "output_type": "execute_result"
    }
   ],
   "source": [
    "# Basic Overview\n",
    "overview = {\n",
    "    'Data Dimensions': df.shape,\n",
    "    'Data Types': df.dtypes,\n",
    "    'Missing Values': df.isnull().sum()\n",
    "}\n",
    "\n",
    "# Summary Statistics for Ratings\n",
    "ratings_summary = df['rating'].describe()\n",
    "\n",
    "# Preparing data for Movie Popularity and User Engagement analysis\n",
    "movie_popularity = df.groupby('title')['rating'].agg(['count', 'mean']).sort_values(by='count', ascending=False)\n",
    "user_engagement = df.groupby('userId')['rating'].agg(['count', 'mean']).sort_values(by='count', ascending=False)\n",
    "\n",
    "overview, ratings_summary, movie_popularity.head(), user_engagement.head()\n"
   ]
  },
  {
   "cell_type": "code",
   "execution_count": 9,
   "id": "ee229b73-6991-484c-8b8e-428ec1725f0e",
   "metadata": {
    "tags": []
   },
   "outputs": [
    {
     "name": "stdout",
     "output_type": "stream",
     "text": [
      "<class 'pandas.core.frame.DataFrame'>\n",
      "RangeIndex: 100836 entries, 0 to 100835\n",
      "Data columns (total 6 columns):\n",
      " #   Column     Non-Null Count   Dtype  \n",
      "---  ------     --------------   -----  \n",
      " 0   movieId    100836 non-null  int64  \n",
      " 1   title      100836 non-null  object \n",
      " 2   genres     100836 non-null  object \n",
      " 3   userId     100836 non-null  int64  \n",
      " 4   rating     100836 non-null  float64\n",
      " 5   timestamp  100836 non-null  int64  \n",
      "dtypes: float64(1), int64(3), object(2)\n",
      "memory usage: 4.6+ MB\n"
     ]
    }
   ],
   "source": [
    "df.info()"
   ]
  },
  {
   "cell_type": "code",
   "execution_count": 10,
   "id": "9d2f25df-fb26-40dd-8b55-cb83b7bef9e7",
   "metadata": {
    "tags": []
   },
   "outputs": [
    {
     "data": {
      "text/html": [
       "<div>\n",
       "<style scoped>\n",
       "    .dataframe tbody tr th:only-of-type {\n",
       "        vertical-align: middle;\n",
       "    }\n",
       "\n",
       "    .dataframe tbody tr th {\n",
       "        vertical-align: top;\n",
       "    }\n",
       "\n",
       "    .dataframe thead th {\n",
       "        text-align: right;\n",
       "    }\n",
       "</style>\n",
       "<table border=\"1\" class=\"dataframe\">\n",
       "  <thead>\n",
       "    <tr style=\"text-align: right;\">\n",
       "      <th></th>\n",
       "      <th>movieId</th>\n",
       "      <th>userId</th>\n",
       "      <th>rating</th>\n",
       "      <th>timestamp</th>\n",
       "    </tr>\n",
       "  </thead>\n",
       "  <tbody>\n",
       "    <tr>\n",
       "      <th>count</th>\n",
       "      <td>100836.000000</td>\n",
       "      <td>100836.000000</td>\n",
       "      <td>100836.000000</td>\n",
       "      <td>1.008360e+05</td>\n",
       "    </tr>\n",
       "    <tr>\n",
       "      <th>mean</th>\n",
       "      <td>19435.295718</td>\n",
       "      <td>326.127564</td>\n",
       "      <td>3.501557</td>\n",
       "      <td>1.205946e+09</td>\n",
       "    </tr>\n",
       "    <tr>\n",
       "      <th>std</th>\n",
       "      <td>35530.987199</td>\n",
       "      <td>182.618491</td>\n",
       "      <td>1.042529</td>\n",
       "      <td>2.162610e+08</td>\n",
       "    </tr>\n",
       "    <tr>\n",
       "      <th>min</th>\n",
       "      <td>1.000000</td>\n",
       "      <td>1.000000</td>\n",
       "      <td>0.500000</td>\n",
       "      <td>8.281246e+08</td>\n",
       "    </tr>\n",
       "    <tr>\n",
       "      <th>25%</th>\n",
       "      <td>1199.000000</td>\n",
       "      <td>177.000000</td>\n",
       "      <td>3.000000</td>\n",
       "      <td>1.019124e+09</td>\n",
       "    </tr>\n",
       "    <tr>\n",
       "      <th>50%</th>\n",
       "      <td>2991.000000</td>\n",
       "      <td>325.000000</td>\n",
       "      <td>3.500000</td>\n",
       "      <td>1.186087e+09</td>\n",
       "    </tr>\n",
       "    <tr>\n",
       "      <th>75%</th>\n",
       "      <td>8122.000000</td>\n",
       "      <td>477.000000</td>\n",
       "      <td>4.000000</td>\n",
       "      <td>1.435994e+09</td>\n",
       "    </tr>\n",
       "    <tr>\n",
       "      <th>max</th>\n",
       "      <td>193609.000000</td>\n",
       "      <td>610.000000</td>\n",
       "      <td>5.000000</td>\n",
       "      <td>1.537799e+09</td>\n",
       "    </tr>\n",
       "  </tbody>\n",
       "</table>\n",
       "</div>"
      ],
      "text/plain": [
       "             movieId         userId         rating     timestamp\n",
       "count  100836.000000  100836.000000  100836.000000  1.008360e+05\n",
       "mean    19435.295718     326.127564       3.501557  1.205946e+09\n",
       "std     35530.987199     182.618491       1.042529  2.162610e+08\n",
       "min         1.000000       1.000000       0.500000  8.281246e+08\n",
       "25%      1199.000000     177.000000       3.000000  1.019124e+09\n",
       "50%      2991.000000     325.000000       3.500000  1.186087e+09\n",
       "75%      8122.000000     477.000000       4.000000  1.435994e+09\n",
       "max    193609.000000     610.000000       5.000000  1.537799e+09"
      ]
     },
     "execution_count": 10,
     "metadata": {},
     "output_type": "execute_result"
    }
   ],
   "source": [
    "df.describe()"
   ]
  },
  {
   "cell_type": "code",
   "execution_count": 11,
   "id": "8c4b472f-992e-4592-b9a8-daa3aaec289a",
   "metadata": {
    "tags": []
   },
   "outputs": [
    {
     "data": {
      "text/plain": [
       "movieId       9724\n",
       "title         9719\n",
       "genres         951\n",
       "userId         610\n",
       "rating          10\n",
       "timestamp    85043\n",
       "dtype: int64"
      ]
     },
     "execution_count": 11,
     "metadata": {},
     "output_type": "execute_result"
    }
   ],
   "source": [
    "df.nunique()"
   ]
  },
  {
   "cell_type": "code",
   "execution_count": 12,
   "id": "11c6f778-c401-46d9-9632-33248d5a277f",
   "metadata": {
    "tags": []
   },
   "outputs": [
    {
     "data": {
      "text/plain": [
       "movieId      0\n",
       "title        0\n",
       "genres       0\n",
       "userId       0\n",
       "rating       0\n",
       "timestamp    0\n",
       "dtype: int64"
      ]
     },
     "execution_count": 12,
     "metadata": {},
     "output_type": "execute_result"
    }
   ],
   "source": [
    "df.isna().sum()"
   ]
  },
  {
   "cell_type": "code",
   "execution_count": 13,
   "id": "5033d4f1-4f14-45e8-a2b8-47a4af367af0",
   "metadata": {
    "tags": []
   },
   "outputs": [
    {
     "data": {
      "text/plain": [
       "0"
      ]
     },
     "execution_count": 13,
     "metadata": {},
     "output_type": "execute_result"
    }
   ],
   "source": [
    "df.duplicated().sum()"
   ]
  },
  {
   "cell_type": "code",
   "execution_count": null,
   "id": "ec22ab21-3756-46b0-82fb-1313a722bca3",
   "metadata": {},
   "outputs": [],
   "source": []
  },
  {
   "cell_type": "code",
   "execution_count": null,
   "id": "433b2e44-7c8b-418c-a46a-cf14ffb87447",
   "metadata": {},
   "outputs": [],
   "source": []
  },
  {
   "cell_type": "code",
   "execution_count": null,
   "id": "80c4a466-e251-4bbb-b106-1cf77c20bf7b",
   "metadata": {},
   "outputs": [],
   "source": []
  },
  {
   "cell_type": "code",
   "execution_count": null,
   "id": "253e455d-9782-422f-a6ae-a4991370fcc0",
   "metadata": {},
   "outputs": [],
   "source": []
  },
  {
   "cell_type": "code",
   "execution_count": 14,
   "id": "3758fc1b-8da7-48cf-9e3e-300af21d3f1b",
   "metadata": {
    "tags": []
   },
   "outputs": [
    {
     "data": {
      "text/plain": [
       "237"
      ]
     },
     "execution_count": 14,
     "metadata": {},
     "output_type": "execute_result"
    }
   ],
   "source": [
    "df['genres'].value_counts().nunique()"
   ]
  },
  {
   "cell_type": "code",
   "execution_count": 15,
   "id": "11c1ee18-e1f3-42c1-9eb5-2d85f3bd177e",
   "metadata": {
    "tags": []
   },
   "outputs": [
    {
     "data": {
      "text/html": [
       "<div>\n",
       "<style scoped>\n",
       "    .dataframe tbody tr th:only-of-type {\n",
       "        vertical-align: middle;\n",
       "    }\n",
       "\n",
       "    .dataframe tbody tr th {\n",
       "        vertical-align: top;\n",
       "    }\n",
       "\n",
       "    .dataframe thead th {\n",
       "        text-align: right;\n",
       "    }\n",
       "</style>\n",
       "<table border=\"1\" class=\"dataframe\">\n",
       "  <thead>\n",
       "    <tr style=\"text-align: right;\">\n",
       "      <th></th>\n",
       "      <th>movieId</th>\n",
       "      <th>title</th>\n",
       "      <th>genres</th>\n",
       "      <th>userId</th>\n",
       "      <th>rating</th>\n",
       "      <th>timestamp</th>\n",
       "    </tr>\n",
       "  </thead>\n",
       "  <tbody>\n",
       "    <tr>\n",
       "      <th>0</th>\n",
       "      <td>1</td>\n",
       "      <td>Toy Story (1995)</td>\n",
       "      <td>[Adventure, Animation, Children, Comedy, Fantasy]</td>\n",
       "      <td>1</td>\n",
       "      <td>4.0</td>\n",
       "      <td>964982703</td>\n",
       "    </tr>\n",
       "    <tr>\n",
       "      <th>1</th>\n",
       "      <td>1</td>\n",
       "      <td>Toy Story (1995)</td>\n",
       "      <td>[Adventure, Animation, Children, Comedy, Fantasy]</td>\n",
       "      <td>5</td>\n",
       "      <td>4.0</td>\n",
       "      <td>847434962</td>\n",
       "    </tr>\n",
       "    <tr>\n",
       "      <th>2</th>\n",
       "      <td>1</td>\n",
       "      <td>Toy Story (1995)</td>\n",
       "      <td>[Adventure, Animation, Children, Comedy, Fantasy]</td>\n",
       "      <td>7</td>\n",
       "      <td>4.5</td>\n",
       "      <td>1106635946</td>\n",
       "    </tr>\n",
       "    <tr>\n",
       "      <th>3</th>\n",
       "      <td>1</td>\n",
       "      <td>Toy Story (1995)</td>\n",
       "      <td>[Adventure, Animation, Children, Comedy, Fantasy]</td>\n",
       "      <td>15</td>\n",
       "      <td>2.5</td>\n",
       "      <td>1510577970</td>\n",
       "    </tr>\n",
       "    <tr>\n",
       "      <th>4</th>\n",
       "      <td>1</td>\n",
       "      <td>Toy Story (1995)</td>\n",
       "      <td>[Adventure, Animation, Children, Comedy, Fantasy]</td>\n",
       "      <td>17</td>\n",
       "      <td>4.5</td>\n",
       "      <td>1305696483</td>\n",
       "    </tr>\n",
       "  </tbody>\n",
       "</table>\n",
       "</div>"
      ],
      "text/plain": [
       "   movieId             title  \\\n",
       "0        1  Toy Story (1995)   \n",
       "1        1  Toy Story (1995)   \n",
       "2        1  Toy Story (1995)   \n",
       "3        1  Toy Story (1995)   \n",
       "4        1  Toy Story (1995)   \n",
       "\n",
       "                                              genres  userId  rating  \\\n",
       "0  [Adventure, Animation, Children, Comedy, Fantasy]       1     4.0   \n",
       "1  [Adventure, Animation, Children, Comedy, Fantasy]       5     4.0   \n",
       "2  [Adventure, Animation, Children, Comedy, Fantasy]       7     4.5   \n",
       "3  [Adventure, Animation, Children, Comedy, Fantasy]      15     2.5   \n",
       "4  [Adventure, Animation, Children, Comedy, Fantasy]      17     4.5   \n",
       "\n",
       "    timestamp  \n",
       "0   964982703  \n",
       "1   847434962  \n",
       "2  1106635946  \n",
       "3  1510577970  \n",
       "4  1305696483  "
      ]
     },
     "execution_count": 15,
     "metadata": {},
     "output_type": "execute_result"
    }
   ],
   "source": [
    "# split genres by | and add as a list\n",
    "\n",
    "df['genres'] = df['genres'].apply(lambda x:x.split('|'))\n",
    "                                  \n",
    "df.head()"
   ]
  },
  {
   "cell_type": "code",
   "execution_count": 16,
   "id": "efe484bb-20cc-4ecb-a041-47290305163f",
   "metadata": {
    "tags": []
   },
   "outputs": [
    {
     "data": {
      "text/plain": [
       "0         [Adventure, Animation, Children, Comedy, Fantasy]\n",
       "1         [Adventure, Animation, Children, Comedy, Fantasy]\n",
       "2         [Adventure, Animation, Children, Comedy, Fantasy]\n",
       "3         [Adventure, Animation, Children, Comedy, Fantasy]\n",
       "4         [Adventure, Animation, Children, Comedy, Fantasy]\n",
       "                                ...                        \n",
       "100831                 [Action, Animation, Comedy, Fantasy]\n",
       "100832                         [Animation, Comedy, Fantasy]\n",
       "100833                                              [Drama]\n",
       "100834                                  [Action, Animation]\n",
       "100835                                             [Comedy]\n",
       "Name: genres, Length: 100836, dtype: object"
      ]
     },
     "execution_count": 16,
     "metadata": {},
     "output_type": "execute_result"
    }
   ],
   "source": [
    "df['genres']"
   ]
  },
  {
   "cell_type": "code",
   "execution_count": 17,
   "id": "6f45b377-85ec-4fae-83b3-e09dc5e42421",
   "metadata": {
    "tags": []
   },
   "outputs": [],
   "source": [
    "# Extract year of movie from title\n",
    "\n",
    "# Regular expression to match a year in parentheses at the end of the title\n",
    "pattern = r'\\((\\d{4})\\)$'\n",
    "\n",
    "# Extract the year and create a new column\n",
    "df['movie_year'] = df['title'].str.extract(pattern, expand=False)\n",
    "\n",
    "# Optionally, remove the year from the title\n",
    "df['title'] = df['title'].str.replace(pattern, '').str.strip()\n",
    "\n",
    "df.head()\n",
    "\n",
    "df['movie_year'] = df['movie_year'].astype(float)"
   ]
  },
  {
   "cell_type": "code",
   "execution_count": 18,
   "id": "21ab62f0-4660-48e5-ae88-d87c42eca369",
   "metadata": {
    "tags": []
   },
   "outputs": [
    {
     "data": {
      "image/png": "[encoded data removed]",
      "text/plain": [
       "<Figure size 1200x600 with 1 Axes>"
      ]
     },
     "metadata": {},
     "output_type": "display_data"
    }
   ],
   "source": [
    "# Break out genres included in list and determine count of each\n",
    "import matplotlib.pyplot as plt\n",
    "\n",
    "# Exploding the genres column to have separate row for each genre\n",
    "exploded_genres = df.explode('genres')\n",
    "\n",
    "# Counting the occurrences of each genre\n",
    "genre_counts = exploded_genres['genres'].value_counts()\n",
    "\n",
    "# Plotting the genre frequencies\n",
    "plt.figure(figsize=(12, 6))\n",
    "genre_counts.plot(kind='bar')\n",
    "plt.title('Frequency of Movie Genres')\n",
    "plt.xlabel('Genre')\n",
    "plt.ylabel('Number of Movies')\n",
    "plt.xticks(rotation=45)\n",
    "plt.show()\n"
   ]
  },
  {
   "cell_type": "code",
   "execution_count": 19,
   "id": "35b851e4-6384-4168-a9aa-0463db0f3cd6",
   "metadata": {
    "tags": []
   },
   "outputs": [
    {
     "data": {
      "text/plain": [
       "movieId         int64\n",
       "title          object\n",
       "genres         object\n",
       "userId          int64\n",
       "rating        float64\n",
       "timestamp       int64\n",
       "movie_year    float64\n",
       "dtype: object"
      ]
     },
     "execution_count": 19,
     "metadata": {},
     "output_type": "execute_result"
    }
   ],
   "source": [
    "df.dtypes"
   ]
  },
  {
   "cell_type": "code",
   "execution_count": 20,
   "id": "30ca062f-e463-41fd-b868-a74346e5596f",
   "metadata": {
    "tags": []
   },
   "outputs": [
    {
     "data": {
      "text/html": [
       "<div>\n",
       "<style scoped>\n",
       "    .dataframe tbody tr th:only-of-type {\n",
       "        vertical-align: middle;\n",
       "    }\n",
       "\n",
       "    .dataframe tbody tr th {\n",
       "        vertical-align: top;\n",
       "    }\n",
       "\n",
       "    .dataframe thead th {\n",
       "        text-align: right;\n",
       "    }\n",
       "</style>\n",
       "<table border=\"1\" class=\"dataframe\">\n",
       "  <thead>\n",
       "    <tr style=\"text-align: right;\">\n",
       "      <th></th>\n",
       "      <th>movieId</th>\n",
       "      <th>title</th>\n",
       "      <th>genres</th>\n",
       "      <th>userId</th>\n",
       "      <th>rating</th>\n",
       "      <th>timestamp</th>\n",
       "      <th>movie_year</th>\n",
       "    </tr>\n",
       "  </thead>\n",
       "  <tbody>\n",
       "    <tr>\n",
       "      <th>0</th>\n",
       "      <td>1</td>\n",
       "      <td>Toy Story (1995)</td>\n",
       "      <td>[Adventure, Animation, Children, Comedy, Fantasy]</td>\n",
       "      <td>1</td>\n",
       "      <td>4.0</td>\n",
       "      <td>964982703</td>\n",
       "      <td>1995.0</td>\n",
       "    </tr>\n",
       "    <tr>\n",
       "      <th>1</th>\n",
       "      <td>1</td>\n",
       "      <td>Toy Story (1995)</td>\n",
       "      <td>[Adventure, Animation, Children, Comedy, Fantasy]</td>\n",
       "      <td>5</td>\n",
       "      <td>4.0</td>\n",
       "      <td>847434962</td>\n",
       "      <td>1995.0</td>\n",
       "    </tr>\n",
       "    <tr>\n",
       "      <th>2</th>\n",
       "      <td>1</td>\n",
       "      <td>Toy Story (1995)</td>\n",
       "      <td>[Adventure, Animation, Children, Comedy, Fantasy]</td>\n",
       "      <td>7</td>\n",
       "      <td>4.5</td>\n",
       "      <td>1106635946</td>\n",
       "      <td>1995.0</td>\n",
       "    </tr>\n",
       "    <tr>\n",
       "      <th>3</th>\n",
       "      <td>1</td>\n",
       "      <td>Toy Story (1995)</td>\n",
       "      <td>[Adventure, Animation, Children, Comedy, Fantasy]</td>\n",
       "      <td>15</td>\n",
       "      <td>2.5</td>\n",
       "      <td>1510577970</td>\n",
       "      <td>1995.0</td>\n",
       "    </tr>\n",
       "    <tr>\n",
       "      <th>4</th>\n",
       "      <td>1</td>\n",
       "      <td>Toy Story (1995)</td>\n",
       "      <td>[Adventure, Animation, Children, Comedy, Fantasy]</td>\n",
       "      <td>17</td>\n",
       "      <td>4.5</td>\n",
       "      <td>1305696483</td>\n",
       "      <td>1995.0</td>\n",
       "    </tr>\n",
       "  </tbody>\n",
       "</table>\n",
       "</div>"
      ],
      "text/plain": [
       "   movieId             title  \\\n",
       "0        1  Toy Story (1995)   \n",
       "1        1  Toy Story (1995)   \n",
       "2        1  Toy Story (1995)   \n",
       "3        1  Toy Story (1995)   \n",
       "4        1  Toy Story (1995)   \n",
       "\n",
       "                                              genres  userId  rating  \\\n",
       "0  [Adventure, Animation, Children, Comedy, Fantasy]       1     4.0   \n",
       "1  [Adventure, Animation, Children, Comedy, Fantasy]       5     4.0   \n",
       "2  [Adventure, Animation, Children, Comedy, Fantasy]       7     4.5   \n",
       "3  [Adventure, Animation, Children, Comedy, Fantasy]      15     2.5   \n",
       "4  [Adventure, Animation, Children, Comedy, Fantasy]      17     4.5   \n",
       "\n",
       "    timestamp  movie_year  \n",
       "0   964982703      1995.0  \n",
       "1   847434962      1995.0  \n",
       "2  1106635946      1995.0  \n",
       "3  1510577970      1995.0  \n",
       "4  1305696483      1995.0  "
      ]
     },
     "execution_count": 20,
     "metadata": {},
     "output_type": "execute_result"
    }
   ],
   "source": [
    "df.head()"
   ]
  },
  {
   "cell_type": "code",
   "execution_count": null,
   "id": "5b0bd3c4-ec1e-49f9-aa8e-7e69ab10ba18",
   "metadata": {},
   "outputs": [],
   "source": []
  },
  {
   "cell_type": "code",
   "execution_count": 21,
   "id": "1f501d86-70ea-4ac6-b521-daaf9aee9f3c",
   "metadata": {
    "tags": []
   },
   "outputs": [
    {
     "name": "stdout",
     "output_type": "stream",
     "text": [
      "   movieId             title  \\\n",
      "0        1  Toy Story (1995)   \n",
      "1        1  Toy Story (1995)   \n",
      "2        1  Toy Story (1995)   \n",
      "3        1  Toy Story (1995)   \n",
      "4        1  Toy Story (1995)   \n",
      "\n",
      "                                              genres  userId  rating  \\\n",
      "0  [Adventure, Animation, Children, Comedy, Fantasy]       1     4.0   \n",
      "1  [Adventure, Animation, Children, Comedy, Fantasy]       5     4.0   \n",
      "2  [Adventure, Animation, Children, Comedy, Fantasy]       7     4.5   \n",
      "3  [Adventure, Animation, Children, Comedy, Fantasy]      15     2.5   \n",
      "4  [Adventure, Animation, Children, Comedy, Fantasy]      17     4.5   \n",
      "\n",
      "    timestamp  movie_year                date  \n",
      "0   964982703      1995.0 2000-07-30 18:45:03  \n",
      "1   847434962      1995.0 1996-11-08 06:36:02  \n",
      "2  1106635946      1995.0 2005-01-25 06:52:26  \n",
      "3  1510577970      1995.0 2017-11-13 12:59:30  \n",
      "4  1305696483      1995.0 2011-05-18 05:28:03  \n"
     ]
    }
   ],
   "source": [
    "import pandas as pd\n",
    "\n",
    "# Load your DataFrame (assuming it's already loaded as df)\n",
    "# df = pd.read_csv('your_data.csv')\n",
    "\n",
    "# Convert the 'timestamp' column to datetime\n",
    "df['date'] = pd.to_datetime(df['timestamp'], unit='s')\n",
    "\n",
    "# Display the first few rows to verify the conversion\n",
    "print(df.head())\n"
   ]
  },
  {
   "cell_type": "code",
   "execution_count": 22,
   "id": "d23025a7-241a-423f-a5cd-b3562b0f2b14",
   "metadata": {
    "tags": []
   },
   "outputs": [
    {
     "data": {
      "text/html": [
       "<div>\n",
       "<style scoped>\n",
       "    .dataframe tbody tr th:only-of-type {\n",
       "        vertical-align: middle;\n",
       "    }\n",
       "\n",
       "    .dataframe tbody tr th {\n",
       "        vertical-align: top;\n",
       "    }\n",
       "\n",
       "    .dataframe thead th {\n",
       "        text-align: right;\n",
       "    }\n",
       "</style>\n",
       "<table border=\"1\" class=\"dataframe\">\n",
       "  <thead>\n",
       "    <tr style=\"text-align: right;\">\n",
       "      <th></th>\n",
       "      <th>movieId</th>\n",
       "      <th>title</th>\n",
       "      <th>genres</th>\n",
       "      <th>userId</th>\n",
       "      <th>rating</th>\n",
       "      <th>timestamp</th>\n",
       "      <th>movie_year</th>\n",
       "      <th>date</th>\n",
       "    </tr>\n",
       "  </thead>\n",
       "  <tbody>\n",
       "    <tr>\n",
       "      <th>9</th>\n",
       "      <td>1</td>\n",
       "      <td>Toy Story (1995)</td>\n",
       "      <td>[Adventure, Animation, Children, Comedy, Fantasy]</td>\n",
       "      <td>31</td>\n",
       "      <td>5.0</td>\n",
       "      <td>850466616</td>\n",
       "      <td>1995.0</td>\n",
       "      <td>1996-12-13 08:43:36</td>\n",
       "    </tr>\n",
       "    <tr>\n",
       "      <th>12</th>\n",
       "      <td>1</td>\n",
       "      <td>Toy Story (1995)</td>\n",
       "      <td>[Adventure, Animation, Children, Comedy, Fantasy]</td>\n",
       "      <td>40</td>\n",
       "      <td>5.0</td>\n",
       "      <td>832058959</td>\n",
       "      <td>1995.0</td>\n",
       "      <td>1996-05-14 07:29:19</td>\n",
       "    </tr>\n",
       "    <tr>\n",
       "      <th>13</th>\n",
       "      <td>1</td>\n",
       "      <td>Toy Story (1995)</td>\n",
       "      <td>[Adventure, Animation, Children, Comedy, Fantasy]</td>\n",
       "      <td>43</td>\n",
       "      <td>5.0</td>\n",
       "      <td>848993983</td>\n",
       "      <td>1995.0</td>\n",
       "      <td>1996-11-26 07:39:43</td>\n",
       "    </tr>\n",
       "    <tr>\n",
       "      <th>16</th>\n",
       "      <td>1</td>\n",
       "      <td>Toy Story (1995)</td>\n",
       "      <td>[Adventure, Animation, Children, Comedy, Fantasy]</td>\n",
       "      <td>46</td>\n",
       "      <td>5.0</td>\n",
       "      <td>834787906</td>\n",
       "      <td>1995.0</td>\n",
       "      <td>1996-06-14 21:31:46</td>\n",
       "    </tr>\n",
       "    <tr>\n",
       "      <th>19</th>\n",
       "      <td>1</td>\n",
       "      <td>Toy Story (1995)</td>\n",
       "      <td>[Adventure, Animation, Children, Comedy, Fantasy]</td>\n",
       "      <td>57</td>\n",
       "      <td>5.0</td>\n",
       "      <td>965796031</td>\n",
       "      <td>1995.0</td>\n",
       "      <td>2000-08-09 04:40:31</td>\n",
       "    </tr>\n",
       "    <tr>\n",
       "      <th>...</th>\n",
       "      <td>...</td>\n",
       "      <td>...</td>\n",
       "      <td>...</td>\n",
       "      <td>...</td>\n",
       "      <td>...</td>\n",
       "      <td>...</td>\n",
       "      <td>...</td>\n",
       "      <td>...</td>\n",
       "    </tr>\n",
       "    <tr>\n",
       "      <th>100787</th>\n",
       "      <td>187593</td>\n",
       "      <td>Deadpool 2 (2018)</td>\n",
       "      <td>[Action, Comedy, Sci-Fi]</td>\n",
       "      <td>98</td>\n",
       "      <td>5.0</td>\n",
       "      <td>1532457913</td>\n",
       "      <td>2018.0</td>\n",
       "      <td>2018-07-24 18:45:13</td>\n",
       "    </tr>\n",
       "    <tr>\n",
       "      <th>100790</th>\n",
       "      <td>187593</td>\n",
       "      <td>Deadpool 2 (2018)</td>\n",
       "      <td>[Action, Comedy, Sci-Fi]</td>\n",
       "      <td>249</td>\n",
       "      <td>5.0</td>\n",
       "      <td>1531611534</td>\n",
       "      <td>2018.0</td>\n",
       "      <td>2018-07-14 23:38:54</td>\n",
       "    </tr>\n",
       "    <tr>\n",
       "      <th>100791</th>\n",
       "      <td>187593</td>\n",
       "      <td>Deadpool 2 (2018)</td>\n",
       "      <td>[Action, Comedy, Sci-Fi]</td>\n",
       "      <td>305</td>\n",
       "      <td>5.0</td>\n",
       "      <td>1532877841</td>\n",
       "      <td>2018.0</td>\n",
       "      <td>2018-07-29 15:24:01</td>\n",
       "    </tr>\n",
       "    <tr>\n",
       "      <th>100801</th>\n",
       "      <td>187595</td>\n",
       "      <td>Solo: A Star Wars Story (2018)</td>\n",
       "      <td>[Action, Adventure, Children, Sci-Fi]</td>\n",
       "      <td>586</td>\n",
       "      <td>5.0</td>\n",
       "      <td>1529899556</td>\n",
       "      <td>2018.0</td>\n",
       "      <td>2018-06-25 04:05:56</td>\n",
       "    </tr>\n",
       "    <tr>\n",
       "      <th>100802</th>\n",
       "      <td>187717</td>\n",
       "      <td>Won't You Be My Neighbor? (2018)</td>\n",
       "      <td>[Documentary]</td>\n",
       "      <td>462</td>\n",
       "      <td>5.0</td>\n",
       "      <td>1529413865</td>\n",
       "      <td>2018.0</td>\n",
       "      <td>2018-06-19 13:11:05</td>\n",
       "    </tr>\n",
       "  </tbody>\n",
       "</table>\n",
       "<p>13211 rows × 8 columns</p>\n",
       "</div>"
      ],
      "text/plain": [
       "        movieId                             title  \\\n",
       "9             1                  Toy Story (1995)   \n",
       "12            1                  Toy Story (1995)   \n",
       "13            1                  Toy Story (1995)   \n",
       "16            1                  Toy Story (1995)   \n",
       "19            1                  Toy Story (1995)   \n",
       "...         ...                               ...   \n",
       "100787   187593                 Deadpool 2 (2018)   \n",
       "100790   187593                 Deadpool 2 (2018)   \n",
       "100791   187593                 Deadpool 2 (2018)   \n",
       "100801   187595    Solo: A Star Wars Story (2018)   \n",
       "100802   187717  Won't You Be My Neighbor? (2018)   \n",
       "\n",
       "                                                   genres  userId  rating  \\\n",
       "9       [Adventure, Animation, Children, Comedy, Fantasy]      31     5.0   \n",
       "12      [Adventure, Animation, Children, Comedy, Fantasy]      40     5.0   \n",
       "13      [Adventure, Animation, Children, Comedy, Fantasy]      43     5.0   \n",
       "16      [Adventure, Animation, Children, Comedy, Fantasy]      46     5.0   \n",
       "19      [Adventure, Animation, Children, Comedy, Fantasy]      57     5.0   \n",
       "...                                                   ...     ...     ...   \n",
       "100787                           [Action, Comedy, Sci-Fi]      98     5.0   \n",
       "100790                           [Action, Comedy, Sci-Fi]     249     5.0   \n",
       "100791                           [Action, Comedy, Sci-Fi]     305     5.0   \n",
       "100801              [Action, Adventure, Children, Sci-Fi]     586     5.0   \n",
       "100802                                      [Documentary]     462     5.0   \n",
       "\n",
       "         timestamp  movie_year                date  \n",
       "9        850466616      1995.0 1996-12-13 08:43:36  \n",
       "12       832058959      1995.0 1996-05-14 07:29:19  \n",
       "13       848993983      1995.0 1996-11-26 07:39:43  \n",
       "16       834787906      1995.0 1996-06-14 21:31:46  \n",
       "19       965796031      1995.0 2000-08-09 04:40:31  \n",
       "...            ...         ...                 ...  \n",
       "100787  1532457913      2018.0 2018-07-24 18:45:13  \n",
       "100790  1531611534      2018.0 2018-07-14 23:38:54  \n",
       "100791  1532877841      2018.0 2018-07-29 15:24:01  \n",
       "100801  1529899556      2018.0 2018-06-25 04:05:56  \n",
       "100802  1529413865      2018.0 2018-06-19 13:11:05  \n",
       "\n",
       "[13211 rows x 8 columns]"
      ]
     },
     "execution_count": 22,
     "metadata": {},
     "output_type": "execute_result"
    }
   ],
   "source": [
    "df[df['rating'] > 4.5]"
   ]
  },
  {
   "cell_type": "code",
   "execution_count": null,
   "id": "a5a6ff6d-5c98-4253-b119-2eb174bc41fa",
   "metadata": {},
   "outputs": [],
   "source": []
  },
  {
   "cell_type": "markdown",
   "id": "3868fcdc-68ce-4e6a-a160-f719b0e22ffa",
   "metadata": {},
   "source": [
    "# Movie Recommendations"
   ]
  },
  {
   "cell_type": "code",
   "execution_count": 23,
   "id": "a348f59a-7c54-42c2-8db7-07a99c61960d",
   "metadata": {},
   "outputs": [
    {
     "data": {
      "text/html": [
       "<div>\n",
       "<style scoped>\n",
       "    .dataframe tbody tr th:only-of-type {\n",
       "        vertical-align: middle;\n",
       "    }\n",
       "\n",
       "    .dataframe tbody tr th {\n",
       "        vertical-align: top;\n",
       "    }\n",
       "\n",
       "    .dataframe thead th {\n",
       "        text-align: right;\n",
       "    }\n",
       "</style>\n",
       "<table border=\"1\" class=\"dataframe\">\n",
       "  <thead>\n",
       "    <tr style=\"text-align: right;\">\n",
       "      <th>title</th>\n",
       "      <th>'71 (2014)</th>\n",
       "      <th>'Hellboy': The Seeds of Creation (2004)</th>\n",
       "      <th>'Round Midnight (1986)</th>\n",
       "      <th>'Salem's Lot (2004)</th>\n",
       "      <th>'Til There Was You (1997)</th>\n",
       "    </tr>\n",
       "    <tr>\n",
       "      <th>title</th>\n",
       "      <th></th>\n",
       "      <th></th>\n",
       "      <th></th>\n",
       "      <th></th>\n",
       "      <th></th>\n",
       "    </tr>\n",
       "  </thead>\n",
       "  <tbody>\n",
       "    <tr>\n",
       "      <th>'71 (2014)</th>\n",
       "      <td>1.0</td>\n",
       "      <td>0.000000</td>\n",
       "      <td>0.000000</td>\n",
       "      <td>0.000000</td>\n",
       "      <td>0.000000</td>\n",
       "    </tr>\n",
       "    <tr>\n",
       "      <th>'Hellboy': The Seeds of Creation (2004)</th>\n",
       "      <td>0.0</td>\n",
       "      <td>1.000000</td>\n",
       "      <td>0.707107</td>\n",
       "      <td>0.000000</td>\n",
       "      <td>0.000000</td>\n",
       "    </tr>\n",
       "    <tr>\n",
       "      <th>'Round Midnight (1986)</th>\n",
       "      <td>0.0</td>\n",
       "      <td>0.707107</td>\n",
       "      <td>1.000000</td>\n",
       "      <td>0.000000</td>\n",
       "      <td>0.000000</td>\n",
       "    </tr>\n",
       "    <tr>\n",
       "      <th>'Salem's Lot (2004)</th>\n",
       "      <td>0.0</td>\n",
       "      <td>0.000000</td>\n",
       "      <td>0.000000</td>\n",
       "      <td>1.000000</td>\n",
       "      <td>0.857493</td>\n",
       "    </tr>\n",
       "    <tr>\n",
       "      <th>'Til There Was You (1997)</th>\n",
       "      <td>0.0</td>\n",
       "      <td>0.000000</td>\n",
       "      <td>0.000000</td>\n",
       "      <td>0.857493</td>\n",
       "      <td>1.000000</td>\n",
       "    </tr>\n",
       "  </tbody>\n",
       "</table>\n",
       "</div>"
      ],
      "text/plain": [
       "title                                    '71 (2014)  \\\n",
       "title                                                 \n",
       "'71 (2014)                                      1.0   \n",
       "'Hellboy': The Seeds of Creation (2004)         0.0   \n",
       "'Round Midnight (1986)                          0.0   \n",
       "'Salem's Lot (2004)                             0.0   \n",
       "'Til There Was You (1997)                       0.0   \n",
       "\n",
       "title                                    'Hellboy': The Seeds of Creation (2004)  \\\n",
       "title                                                                              \n",
       "'71 (2014)                                                              0.000000   \n",
       "'Hellboy': The Seeds of Creation (2004)                                 1.000000   \n",
       "'Round Midnight (1986)                                                  0.707107   \n",
       "'Salem's Lot (2004)                                                     0.000000   \n",
       "'Til There Was You (1997)                                               0.000000   \n",
       "\n",
       "title                                    'Round Midnight (1986)  \\\n",
       "title                                                             \n",
       "'71 (2014)                                             0.000000   \n",
       "'Hellboy': The Seeds of Creation (2004)                0.707107   \n",
       "'Round Midnight (1986)                                 1.000000   \n",
       "'Salem's Lot (2004)                                    0.000000   \n",
       "'Til There Was You (1997)                              0.000000   \n",
       "\n",
       "title                                    'Salem's Lot (2004)  \\\n",
       "title                                                          \n",
       "'71 (2014)                                          0.000000   \n",
       "'Hellboy': The Seeds of Creation (2004)             0.000000   \n",
       "'Round Midnight (1986)                              0.000000   \n",
       "'Salem's Lot (2004)                                 1.000000   \n",
       "'Til There Was You (1997)                           0.857493   \n",
       "\n",
       "title                                    'Til There Was You (1997)  \n",
       "title                                                               \n",
       "'71 (2014)                                                0.000000  \n",
       "'Hellboy': The Seeds of Creation (2004)                   0.000000  \n",
       "'Round Midnight (1986)                                    0.000000  \n",
       "'Salem's Lot (2004)                                       0.857493  \n",
       "'Til There Was You (1997)                                 1.000000  "
      ]
     },
     "execution_count": 23,
     "metadata": {},
     "output_type": "execute_result"
    }
   ],
   "source": [
    "from sklearn.metrics.pairwise import cosine_similarity\n",
    "\n",
    "# Creating the user-item matrix. Rows will be userIds, columns will be movie titles, and values will be ratings\n",
    "user_item_matrix = df.pivot_table(index='userId', columns='title', values='rating')\n",
    "\n",
    "# Replacing NaN values with 0, as we'll calculate cosine similarity\n",
    "user_item_matrix_filled = user_item_matrix.fillna(0)\n",
    "\n",
    "# Calculate the cosine similarity matrix (item-item similarity)\n",
    "item_similarity = cosine_similarity(user_item_matrix_filled.T)  # Transpose to get item-item matrix\n",
    "\n",
    "# Converting the numpy matrix to a DataFrame for better readability\n",
    "item_similarity_df = pd.DataFrame(item_similarity, index=user_item_matrix_filled.columns, columns=user_item_matrix_filled.columns)\n",
    "\n",
    "# Displaying a portion of the similarity matrix\n",
    "item_similarity_df.iloc[:5, :5]  # Displaying first 5x5 block for brevity\n"
   ]
  },
  {
   "cell_type": "code",
   "execution_count": null,
   "id": "652219ec-6b26-4b9a-94b2-681275af32ef",
   "metadata": {},
   "outputs": [],
   "source": []
  },
  {
   "cell_type": "code",
   "execution_count": null,
   "id": "9d2cfbe3-ef56-4cfb-a858-9513391ddf7f",
   "metadata": {},
   "outputs": [],
   "source": []
  },
  {
   "cell_type": "markdown",
   "id": "22c7c0b6-5706-49b7-8ed0-bf1f01b364b2",
   "metadata": {
    "tags": []
   },
   "source": []
  },
  {
   "cell_type": "code",
   "execution_count": null,
   "id": "ccd2302b-3f8a-43cc-848b-ee32cd2d31a0",
   "metadata": {},
   "outputs": [],
   "source": []
  },
  {
   "cell_type": "code",
   "execution_count": null,
   "id": "4bc3c3ac-0c54-40a3-a285-8671eb354746",
   "metadata": {},
   "outputs": [],
   "source": []
  },
  {
   "cell_type": "code",
   "execution_count": null,
   "id": "71fa6368-8c8e-473f-890e-3a4b714bf3a9",
   "metadata": {},
   "outputs": [],
   "source": []
  },
  {
   "cell_type": "code",
   "execution_count": null,
   "id": "288d41b1-bef2-43c4-a1b3-38bdd1f9a998",
   "metadata": {},
   "outputs": [],
   "source": []
  },
  {
   "cell_type": "markdown",
   "id": "eab63dff-018a-40c7-a1b4-a897fa1a2936",
   "metadata": {},
   "source": [
    "# Best Approach so Far:"
   ]
  },
  {
   "cell_type": "code",
   "execution_count": null,
   "id": "eeba99cc-b65c-48e7-9710-3d1705d52cb4",
   "metadata": {},
   "outputs": [],
   "source": []
  },
  {
   "cell_type": "code",
   "execution_count": null,
   "id": "2eb18aef-592e-4c52-90ba-52a7f2a97bcc",
   "metadata": {
    "tags": []
   },
   "outputs": [
    {
     "name": "stdin",
     "output_type": "stream",
     "text": [
      "Enter the start year of your preferred movie period:  1995\n",
      "Enter the end year of your preferred movie period:  2015\n"
     ]
    },
    {
     "name": "stdout",
     "output_type": "stream",
     "text": [
      "Please enter your top 3 favorite genres from the following list:\n",
      "(no genres listed), Action, Adventure, Animation, Children, Comedy, Crime, Documentary, Drama, Fantasy, Film-Noir, Horror, IMAX, Musical, Mystery, Romance, Sci-Fi, Thriller, War, Western\n"
     ]
    },
    {
     "name": "stdin",
     "output_type": "stream",
     "text": [
      "Enter genre 1:  Sci-Fi\n",
      "Enter genre 2:  Thriller\n",
      "Enter genre 3:  IMAX\n"
     ]
    },
    {
     "name": "stdout",
     "output_type": "stream",
     "text": [
      "\n",
      "Please rate at least 5 movies on a scale from 1 to 5. If you haven't seen a movie, just press Enter.\n"
     ]
    },
    {
     "name": "stdin",
     "output_type": "stream",
     "text": [
      "Rating for 'Ledge, The (2011)':  \n",
      "Rating for 'Battle Planet (2008)':  \n"
     ]
    }
   ],
   "source": [
    "#### import pandas as pd\n",
    "import random\n",
    "\n",
    "# Assuming movies_df is already loaded\n",
    "# Example: movies_df = pd.read_csv('path_to_your_movies.csv')\n",
    "\n",
    "def get_user_preferences(movies_df):\n",
    "    # Get movie period preferences\n",
    "    start_year = int(input(\"Enter the start year of your preferred movie period: \"))\n",
    "    end_year = int(input(\"Enter the end year of your preferred movie period: \"))\n",
    "\n",
    "    # Get genre preferences\n",
    "    print(\"Please enter your top 3 favorite genres from the following list:\")\n",
    "    all_genres = set(genre for genre_list in movies_df['genres'].str.split('|') for genre in genre_list)\n",
    "    print(', '.join(sorted(all_genres)))\n",
    "\n",
    "    top_genres = []\n",
    "    while len(top_genres) < 3:\n",
    "        genre = input(f\"Enter genre {len(top_genres) + 1}: \").strip()\n",
    "        if genre in all_genres and genre not in top_genres:\n",
    "            top_genres.append(genre)\n",
    "        else:\n",
    "            print(\"Invalid genre or duplicate entry. Please try again.\")\n",
    "    \n",
    "    return start_year, end_year, top_genres\n",
    "\n",
    "def get_user_ratings(filtered_movies, min_ratings=5):\n",
    "    print(\"\\nPlease rate at least 5 movies on a scale from 1 to 5. If you haven't seen a movie, just press Enter.\")\n",
    "\n",
    "    sampled_movies = filtered_movies['title'].sample(n=min(len(filtered_movies), min_ratings * 10)).tolist()\n",
    "\n",
    "    ratings = {}\n",
    "    while len(ratings) < min_ratings:\n",
    "        for movie in sampled_movies:\n",
    "            if movie in ratings:\n",
    "                continue  # Skip already rated movies\n",
    "\n",
    "            rating_input = input(f\"Rating for '{movie}': \").strip()\n",
    "\n",
    "            if rating_input == '':\n",
    "                continue  # Skip unrated movies\n",
    "\n",
    "            try:\n",
    "                rating = float(rating_input)\n",
    "                if 1 <= rating <= 5:\n",
    "                    ratings[movie] = rating\n",
    "                else:\n",
    "                    print(\"Please enter a number between 1 and 5.\")\n",
    "            except ValueError:\n",
    "                print(\"Invalid input. Please enter a valid number or press Enter to skip.\")\n",
    "\n",
    "            if len(ratings) >= min_ratings:\n",
    "                return ratings\n",
    "\n",
    "        # Re-sample additional movies if needed\n",
    "        additional_movies = filtered_movies[~filtered_movies['title'].isin(sampled_movies)]['title'].sample(\n",
    "            n=min(len(filtered_movies) - len(sampled_movies), min_ratings)).tolist()\n",
    "        sampled_movies.extend(additional_movies)\n",
    "\n",
    "    return ratings\n",
    "\n",
    "# Extract year from the movie title\n",
    "movies_df['year'] = movies_df['title'].str.extract(r'\\((\\d{4})\\)').astype(float)\n",
    "\n",
    "# Get user preferences\n",
    "start_year, end_year, top_genres = get_user_preferences(movies_df)\n",
    "\n",
    "# Filter movies based on year range and genres\n",
    "filtered_movies = movies_df[\n",
    "    (movies_df['year'].between(start_year, end_year)) &\n",
    "    (movies_df['genres'].str.contains('|'.join(top_genres)))\n",
    "]\n",
    "\n",
    "# Get user ratings\n",
    "user_ratings = get_user_ratings(filtered_movies)\n",
    "print(\"\\nYour ratings:\")\n",
    "for movie, rating in user_ratings.items():\n",
    "    print(f\"{movie}: {rating}\")\n",
    "    \n",
    "    \n",
    "def make_recommendations(user_ratings, item_similarity_df, num_recommendations=5):\n",
    "    # Convert user_ratings to a Series for easier processing\n",
    "    user_ratings_series = pd.Series(user_ratings)\n",
    "    \n",
    "    # Initialize a Series to store the total weighted similarity score of each movie\n",
    "    total_scores = pd.Series(dtype='float64')\n",
    "\n",
    "    # Iterate through movies rated by the user and calculate weighted scores\n",
    "    for movie, rating in user_ratings_series.items():\n",
    "        # Skip if the movie is not in the similarity matrix\n",
    "        if movie not in item_similarity_df.columns:\n",
    "            continue\n",
    "\n",
    "        # Get similarity scores for the movie\n",
    "        sim_scores = item_similarity_df[movie]\n",
    "\n",
    "        # Weighted similarity scores\n",
    "        weighted_scores = sim_scores * rating\n",
    "\n",
    "        # Add to the total scores, summing up the weights\n",
    "        total_scores = total_scores.add(weighted_scores, fill_value=0)\n",
    "\n",
    "    # Remove movies the user has already rated\n",
    "    total_scores = total_scores.drop(user_ratings.keys(), errors='ignore')\n",
    "\n",
    "    # Get top recommendations\n",
    "    top_recommendations = total_scores.sort_values(ascending=False).head(num_recommendations).index.tolist()\n",
    "\n",
    "    return top_recommendations\n",
    "\n",
    "# Example usage\n",
    "# Assuming 'item_similarity_df' is your precomputed item-item similarity matrix\n",
    "# and 'user_ratings' is a dictionary containing user's movie ratings\n",
    "recommended_movies = make_recommendations(user_ratings, item_similarity_df, 5)\n",
    "print(\"\\n Recommended Movies:\")\n",
    "for movie in recommended_movies:\n",
    "    print(movie)\n",
    "\n"
   ]
  },
  {
   "cell_type": "code",
   "execution_count": null,
   "id": "9fdd5694-f849-4ad7-ab2f-d2e35cf17eaa",
   "metadata": {
    "tags": []
   },
   "outputs": [],
   "source": []
  },
  {
   "cell_type": "code",
   "execution_count": null,
   "id": "f8ab24e8-d0df-48b8-826e-9b844d53820a",
   "metadata": {},
   "outputs": [],
   "source": []
  },
  {
   "cell_type": "code",
   "execution_count": null,
   "id": "41bf9e84-22fa-428a-9d34-ca58491f8def",
   "metadata": {},
   "outputs": [],
   "source": []
  },
  {
   "cell_type": "code",
   "execution_count": null,
   "id": "0263fee4-67bd-45f3-b105-7e15743504eb",
   "metadata": {},
   "outputs": [],
   "source": []
  },
  {
   "cell_type": "code",
   "execution_count": null,
   "id": "fff88d5a-5eba-4bcc-b3d0-95d1d4c15df1",
   "metadata": {},
   "outputs": [],
   "source": []
  }
 ],
 "metadata": {
  "kernelspec": {
   "display_name": "Python 3 (ipykernel)",
   "language": "python",
   "name": "python3"
  },
  "language_info": {
   "codemirror_mode": {
    "name": "ipython",
    "version": 3
   },
   "file_extension": ".py",
   "mimetype": "text/x-python",
   "name": "python",
   "nbconvert_exporter": "python",
   "pygments_lexer": "ipython3",
   "version": "3.11.5"
  }
 },
 "nbformat": 4,
 "nbformat_minor": 5
}
