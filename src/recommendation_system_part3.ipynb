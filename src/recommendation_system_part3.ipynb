{
 "cells": [
  {
   "cell_type": "markdown",
   "id": "35897f0b",
   "metadata": {},
   "source": [
    "### Cell 3: Exploratory Data Analysis (EDA)\n",
    "\n",
    "**Markdown Explanation:**\n",
    "\n",
    "This cell defines the function `perform_eda`, which performs exploratory data analysis on the merged movies and ratings data. It provides information about the dataset, visualizes the distribution of ratings, the number of ratings per movie and user, genre distribution, and the distribution of movie release years. It also calculates and displays a correlation matrix to understand relationships between different features."
   ]
  },
  {
   "cell_type": "code",
   "execution_count": null,
   "id": "e323d351",
   "metadata": {},
   "outputs": [],
   "source": [
    "def perform_eda(merged_df):\n",
    "    \"\"\"\n",
    "    Perform Exploratory Data Analysis (EDA) on the merged movies and ratings data.\n",
    "\n",
    "    This function prints out information and displays plots to help understand the structure and distribution\n",
    "    of the merged movies and ratings data. Plots include distribution of ratings, number of ratings per movie,\n",
    "    number of ratings per user, genre distribution, and distribution of movie release years.\n",
    "    \"\"\"\n",
    "    # Display the first few rows of the merged DataFrame to understand its structure\n",
    "    print('Merged DataFrame:')\n",
    "    print(merged_df.head())\n",
    "\n",
    "    # Display the shape of the merged DataFrame to know the number of rows and columns\n",
    "    print('\\nShape of Merged DataFrame:', merged_df.shape)\n",
    "\n",
    "    # Display information about the merged DataFrame, including data types and non-null counts\n",
    "    print('\\nMerged DataFrame Info:')\n",
    "    print(merged_df.info())\n",
    "\n",
    "    # Display descriptive statistics of the merged DataFrame, such as mean, min, and max values\n",
    "    print('\\nMerged DataFrame Description:')\n",
    "    print(merged_df.describe())\n",
    "\n",
    "    # Check for missing values in each column of the merged DataFrame\n",
    "    print('\\nMissing Values in Merged DataFrame:')\n",
    "    print(merged_df.isnull().sum())\n"
   ]
  }
 ],
 "metadata": {
  "kernelspec": {
   "display_name": "Python 3 (ipykernel)",
   "language": "python",
   "name": "python3"
  },
  "language_info": {
   "codemirror_mode": {
    "name": "ipython",
    "version": 3
   },
   "file_extension": ".py",
   "mimetype": "text/x-python",
   "name": "python",
   "nbconvert_exporter": "python",
   "pygments_lexer": "ipython3",
   "version": "3.11.5"
  }
 },
 "nbformat": 4,
 "nbformat_minor": 5
}
