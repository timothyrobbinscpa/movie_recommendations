{
 "cells": [
  {
   "cell_type": "code",
   "execution_count": null,
   "id": "4085b416",
   "metadata": {},
   "outputs": [],
   "source": [
    "# Plot the distribution of ratings in the merged DataFrame\n",
    "plt.figure(figsize=(10, 5))\n",
    "bins = np.arange(0.5, 5.5, 0.5)  # Define bins for the histogram\n",
    "sns.histplot(merged_df['rating'], bins=bins, kde=False)  # Create a histogram of ratings\n",
    "plt.title('Distribution of Ratings')  # Set the title of the plot\n",
    "plt.xlabel('Rating')  # Label the x-axis\n",
    "plt.ylabel('Frequency')  # Label the y-axis\n",
    "plt.xticks(bins)  # Set the ticks on the x-axis\n",
    "plt.show()  # Display the plot\n",
    "\n",
    "# Plot the number of ratings per movie for the top 10 movies\n",
    "top_movies = merged_df['movieId'].value_counts().nlargest(10)  # Get the top 10 movies by number of ratings\n",
    "top_movies_titles = merged_df[merged_df['movieId'].isin(top_movies.index)].drop_duplicates('movieId').set_index('movieId').loc[top_movies.index]['title']\n",
    "plt.figure(figsize=(10, 5))\n",
    "sns.barplot(y=top_movies_titles, x=top_movies.values, palette='viridis')  # Create a bar plot\n",
    "plt.title('Top 10 Movies by Number of Ratings')  # Set the title of the plot\n",
    "plt.xlabel('Number of Ratings')  # Label the x-axis\n",
    "plt.ylabel('Movie Title')  # Label the y-axis\n",
    "plt.show()  # Display the plot\n"
   ]
  }
 ],
 "metadata": {
  "kernelspec": {
   "display_name": "Python 3 (ipykernel)",
   "language": "python",
   "name": "python3"
  },
  "language_info": {
   "codemirror_mode": {
    "name": "ipython",
    "version": 3
   },
   "file_extension": ".py",
   "mimetype": "text/x-python",
   "name": "python",
   "nbconvert_exporter": "python",
   "pygments_lexer": "ipython3",
   "version": "3.11.5"
  }
 },
 "nbformat": 4,
 "nbformat_minor": 5
}
