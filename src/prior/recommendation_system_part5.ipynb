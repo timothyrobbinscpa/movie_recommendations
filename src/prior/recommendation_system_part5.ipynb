{
 "cells": [
  {
   "cell_type": "code",
   "execution_count": null,
   "id": "52984465",
   "metadata": {},
   "outputs": [],
   "source": [
    "# Plot the number of ratings per user for the top 10 users\n",
    "top_users = merged_df['userId'].value_counts().nlargest(10)\n",
    "plt.figure(figsize=(10, 5))\n",
    "sns.barplot(x=top_users.index.astype(int), y=top_users.values, palette='viridis')  # Create a bar plot\n",
    "plt.title('Top 10 Users by Number of Ratings')  # Set the title of the plot\n",
    "plt.xlabel('User ID')  # Label the x-axis\n",
    "plt.ylabel('Number of Ratings')  # Label the y-axis\n",
    "plt.show()  # Display the plot\n",
    "\n",
    "# Plot the genre distribution in the merged DataFrame\n",
    "merged_df['genres'] = merged_df['genres'].str.split('|')\n",
    "all_genres = merged_df['genres'].explode().value_counts()\n",
    "plt.figure(figsize=(12, 6))\n",
    "sns.barplot(x=all_genres.values, y=all_genres.index, palette='viridis')  # Create a bar plot\n",
    "plt.title('Genre Distribution')  # Set the title of the plot\n",
    "plt.xlabel('Frequency')  # Label the x-axis\n",
    "plt.ylabel('Genre')  # Label the y-axis\n",
    "plt.show()  # Display the plot\n"
   ]
  }
 ],
 "metadata": {
  "kernelspec": {
   "display_name": "Python 3 (ipykernel)",
   "language": "python",
   "name": "python3"
  },
  "language_info": {
   "codemirror_mode": {
    "name": "ipython",
    "version": 3
   },
   "file_extension": ".py",
   "mimetype": "text/x-python",
   "name": "python",
   "nbconvert_exporter": "python",
   "pygments_lexer": "ipython3",
   "version": "3.11.5"
  }
 },
 "nbformat": 4,
 "nbformat_minor": 5
}
