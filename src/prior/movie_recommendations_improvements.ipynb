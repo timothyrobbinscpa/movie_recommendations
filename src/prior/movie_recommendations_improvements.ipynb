{
 "cells": [
  {
   "cell_type": "markdown",
   "id": "68b03fba-c3f4-4fdc-9edc-55fe2e80d595",
   "metadata": {},
   "source": [
    "# Project Overview"
   ]
  },
  {
   "cell_type": "markdown",
   "id": "a1a926e3-7cf8-4fdf-b0a0-864448ea7c0c",
   "metadata": {
    "tags": []
   },
   "source": [
    "# Actually, I used an SVD model, not a hybrid model! Need to update the above!"
   ]
  },
  {
   "cell_type": "markdown",
   "id": "59a7f305-657e-48aa-9349-91f2383b8329",
   "metadata": {},
   "source": [
    "# Datasets"
   ]
  },
  {
   "cell_type": "markdown",
   "id": "48983751-4020-4533-a86c-996c92f41336",
   "metadata": {},
   "source": [
    "This project utilizes the MovieLens dataset, a widely used dataset in the field of recommender systems, containing movie ratings and metadata.  The data was obtained at https://www.kaggle.com/datasets/parasharmanas/movie-recommendation-system/data.  There are two data files. The first contains the unique movie Id, movie title and a list of genres the movie falls into.  The second consists of user ratings with the user ID, movie ID, rating and timestap of when the review was made."
   ]
  },
  {
   "cell_type": "markdown",
   "id": "296147d4-2695-4c2d-b70c-77bf07d9b9c9",
   "metadata": {
    "tags": []
   },
   "source": [
    "# PRIOR NOTES - MOVE"
   ]
  },
  {
   "cell_type": "markdown",
   "id": "88e36381-aa95-4bee-824f-54ce131a9b88",
   "metadata": {},
   "source": [
    "The plot above shows the trend of average movie ratings on a monthly basis. Observing the fluctuations in average ratings over time can provide insights into various factors, such as:\n",
    "- User Rating Behavior: Changes in average ratings might indicate shifts in user rating behavior or the platform's user base.\n",
    "- Content Quality: Variations might also reflect the release of particularly popular (or unpopular) movies during certain periods.\n"
   ]
  },
  {
   "cell_type": "markdown",
   "id": "3aab94e2-e082-427d-95fc-1cf89493e782",
   "metadata": {},
   "source": [
    "**Seasonal Trends in Movie Ratings**\n",
    "- Average Ratings by Month: The bar chart provides a clear visualization of how average ratings vary by month. Peaks and troughs can suggest periods of high and low engagement or satisfaction, which can be tied to holiday seasons or specific movie releases.\n",
    "- Genre Popularity by Month: The heatmap shows how different genres perform across months, revealing any seasonal preferences for genres. For example, holiday-themed or blockbuster genres might show distinct patterns during certain months like December or summer months.\n"
   ]
  },
  {
   "cell_type": "markdown",
   "id": "b1449080-c216-482e-a9e6-2bb16040c8b8",
   "metadata": {},
   "source": [
    "Typical Accuracy Levels:\n",
    "\n",
    "- General Accuracy: It's challenging to state a specific \"average accuracy\" because it depends highly on the context and the specific system configuration. However, good movie recommendation systems generally achieve:\n",
    "    - RMSE: Values around 0.8 to 1.2 for rating predictions, with lower values indicating better accuracy.\n",
    "    - Precision/Recall: Precision and recall can vary, but good systems might achieve over 20-30% precision in top-N recommendations in practical settings.\n",
    "    - High-Performance Systems: In competitions like the Netflix Prize, the winning entries achieved RMSEs around 0.85, considered very high accuracy in a real-world system."
   ]
  },
  {
   "cell_type": "code",
   "execution_count": null,
   "id": "2f803f1b-f9ba-4775-86ea-9d7a00b816e3",
   "metadata": {},
   "outputs": [],
   "source": []
  },
  {
   "cell_type": "markdown",
   "id": "a070b573-1667-4103-ac8f-5ea67560a229",
   "metadata": {},
   "source": [
    "# REVISED CODE"
   ]
  },
  {
   "cell_type": "code",
   "execution_count": 48,
   "id": "b7e55fa9-ea6b-4624-b967-95e63463dde2",
   "metadata": {
    "tags": []
   },
   "outputs": [],
   "source": [
    "# conda install joblib"
   ]
  },
  {
   "cell_type": "code",
   "execution_count": 49,
   "id": "fca23c10-083c-4062-9207-2ee69e8a45ae",
   "metadata": {},
   "outputs": [],
   "source": [
    "## Optimized Code"
   ]
  },
  {
   "cell_type": "markdown",
   "id": "9e73342e-fac0-41c2-81f3-10d1de876aef",
   "metadata": {
    "tags": []
   },
   "source": [
    "## Import Libraries"
   ]
  },
  {
   "cell_type": "code",
   "execution_count": 9,
   "id": "6eb49e6c-f2d5-40a5-bd16-f065a6f617a6",
   "metadata": {
    "tags": []
   },
   "outputs": [],
   "source": [
    "import pandas as pd\n",
    "import numpy as np\n",
    "from surprise import Dataset, Reader, SVD, accuracy\n",
    "from surprise.model_selection import train_test_split, RandomizedSearchCV, GridSearchCV\n",
    "from sklearn.feature_extraction.text import TfidfVectorizer\n",
    "from sklearn.neighbors import NearestNeighbors\n",
    "from sklearn.metrics import precision_score, recall_score, f1_score\n",
    "from collections import defaultdict\n",
    "from joblib import Parallel, delayed\n",
    "import logging\n",
    "from tqdm import tqdm\n",
    "import seaborn as sns\n",
    "import matplotlib.pyplot as plt\n",
    "\n",
    "# Use ggplto style for graphs\n",
    "plt.style.use('ggplot')\n",
    "sns.set_palette('colorblind')\n",
    "\n",
    "# Set a random seed for reproducibility\n",
    "RANDOM_SEED = 42\n",
    "np.random.seed(RANDOM_SEED)\n",
    "\n",
    "# Setup logging\n",
    "logging.basicConfig(level=logging.INFO)\n"
   ]
  },
  {
   "cell_type": "markdown",
   "id": "46bc906f-3063-46b0-bf07-2ab4fb18b768",
   "metadata": {
    "tags": []
   },
   "source": [
    "## Load and Merge Data"
   ]
  },
  {
   "cell_type": "code",
   "execution_count": 18,
   "id": "38723aea-be05-4aa7-8fbe-687e7f59a025",
   "metadata": {
    "tags": []
   },
   "outputs": [],
   "source": [
    "# Load and merge movies and ratings data with essential columns and a subset of ratings\n",
    "def load_and_merge_data(movies_file, ratings_file):\n",
    "    try:\n",
    "        movies_df = pd.read_csv(movies_file, usecols=['movieId', 'title', 'genres'])\n",
    "        ratings_df = pd.read_csv(ratings_file, usecols=['userId', 'movieId', 'rating'])\n",
    "\n",
    "        # Remove duplicates\n",
    "        movies_df.drop_duplicates(subset=['movieId'], inplace=True)\n",
    "        ratings_df.drop_duplicates(subset=['userId', 'movieId'], inplace=True)\n",
    "\n",
    "        # Handle missing values\n",
    "        movies_df.fillna({'genres': '(no genres listed)'}, inplace=True)\n",
    "        ratings_df.dropna(subset=['userId', 'movieId', 'rating'], inplace=True)\n",
    "\n",
    "        merged_df = pd.merge(ratings_df, movies_df, on='movieId')\n",
    "        logging.info(\"Data successfully merged and cleaned.\")\n",
    "        return merged_df\n",
    "    except FileNotFoundError as e:\n",
    "        logging.error(f\"Error: {e}. File not found. Check the file paths.\")\n",
    "        return None\n",
    "    except Exception as e:\n",
    "        logging.error(f\"An unexpected error occurred: {e}\")\n",
    "        return None\n"
   ]
  },
  {
   "cell_type": "code",
   "execution_count": null,
   "id": "bf41964c-cec5-4820-b5d0-35b47a86669e",
   "metadata": {},
   "outputs": [],
   "source": [
    "CODE TO RUN"
   ]
  },
  {
   "cell_type": "markdown",
   "id": "3922b5ec-4bfc-4ea6-932a-dccf92d09881",
   "metadata": {},
   "source": [
    "# Initial EDA"
   ]
  },
  {
   "cell_type": "code",
   "execution_count": 20,
   "id": "35d3f1a5-0da4-45b4-8037-a635fb068458",
   "metadata": {
    "tags": []
   },
   "outputs": [
    {
     "ename": "NameError",
     "evalue": "name 'merged_df' is not defined",
     "output_type": "error",
     "traceback": [
      "\u001b[1;31m---------------------------------------------------------------------------\u001b[0m",
      "\u001b[1;31mNameError\u001b[0m                                 Traceback (most recent call last)",
      "Cell \u001b[1;32mIn[20], line 1\u001b[0m\n\u001b[1;32m----> 1\u001b[0m merged_df\u001b[38;5;241m.\u001b[39mhead()\n",
      "\u001b[1;31mNameError\u001b[0m: name 'merged_df' is not defined"
     ]
    }
   ],
   "source": [
    "merged_df.head()"
   ]
  },
  {
   "cell_type": "code",
   "execution_count": 11,
   "id": "ee229b73-6991-484c-8b8e-428ec1725f0e",
   "metadata": {
    "tags": []
   },
   "outputs": [
    {
     "name": "stdout",
     "output_type": "stream",
     "text": [
      "<class 'pandas.core.frame.DataFrame'>\n",
      "RangeIndex: 9742 entries, 0 to 9741\n",
      "Data columns (total 3 columns):\n",
      " #   Column   Non-Null Count  Dtype \n",
      "---  ------   --------------  ----- \n",
      " 0   movieId  9742 non-null   int64 \n",
      " 1   title    9742 non-null   object\n",
      " 2   genres   9742 non-null   object\n",
      "dtypes: int64(1), object(2)\n",
      "memory usage: 228.5+ KB\n"
     ]
    }
   ],
   "source": [
    "movies_df.info()"
   ]
  },
  {
   "cell_type": "code",
   "execution_count": 12,
   "id": "9d2f25df-fb26-40dd-8b55-cb83b7bef9e7",
   "metadata": {
    "tags": []
   },
   "outputs": [
    {
     "data": {
      "text/html": [
       "<div>\n",
       "<style scoped>\n",
       "    .dataframe tbody tr th:only-of-type {\n",
       "        vertical-align: middle;\n",
       "    }\n",
       "\n",
       "    .dataframe tbody tr th {\n",
       "        vertical-align: top;\n",
       "    }\n",
       "\n",
       "    .dataframe thead th {\n",
       "        text-align: right;\n",
       "    }\n",
       "</style>\n",
       "<table border=\"1\" class=\"dataframe\">\n",
       "  <thead>\n",
       "    <tr style=\"text-align: right;\">\n",
       "      <th></th>\n",
       "      <th>movieId</th>\n",
       "      <th>title</th>\n",
       "      <th>genres</th>\n",
       "    </tr>\n",
       "  </thead>\n",
       "  <tbody>\n",
       "    <tr>\n",
       "      <th>count</th>\n",
       "      <td>9742.000000</td>\n",
       "      <td>9742</td>\n",
       "      <td>9742</td>\n",
       "    </tr>\n",
       "    <tr>\n",
       "      <th>unique</th>\n",
       "      <td>NaN</td>\n",
       "      <td>9737</td>\n",
       "      <td>951</td>\n",
       "    </tr>\n",
       "    <tr>\n",
       "      <th>top</th>\n",
       "      <td>NaN</td>\n",
       "      <td>Emma (1996)</td>\n",
       "      <td>Drama</td>\n",
       "    </tr>\n",
       "    <tr>\n",
       "      <th>freq</th>\n",
       "      <td>NaN</td>\n",
       "      <td>2</td>\n",
       "      <td>1053</td>\n",
       "    </tr>\n",
       "    <tr>\n",
       "      <th>mean</th>\n",
       "      <td>42200.353623</td>\n",
       "      <td>NaN</td>\n",
       "      <td>NaN</td>\n",
       "    </tr>\n",
       "    <tr>\n",
       "      <th>std</th>\n",
       "      <td>52160.494854</td>\n",
       "      <td>NaN</td>\n",
       "      <td>NaN</td>\n",
       "    </tr>\n",
       "    <tr>\n",
       "      <th>min</th>\n",
       "      <td>1.000000</td>\n",
       "      <td>NaN</td>\n",
       "      <td>NaN</td>\n",
       "    </tr>\n",
       "    <tr>\n",
       "      <th>25%</th>\n",
       "      <td>3248.250000</td>\n",
       "      <td>NaN</td>\n",
       "      <td>NaN</td>\n",
       "    </tr>\n",
       "    <tr>\n",
       "      <th>50%</th>\n",
       "      <td>7300.000000</td>\n",
       "      <td>NaN</td>\n",
       "      <td>NaN</td>\n",
       "    </tr>\n",
       "    <tr>\n",
       "      <th>75%</th>\n",
       "      <td>76232.000000</td>\n",
       "      <td>NaN</td>\n",
       "      <td>NaN</td>\n",
       "    </tr>\n",
       "    <tr>\n",
       "      <th>max</th>\n",
       "      <td>193609.000000</td>\n",
       "      <td>NaN</td>\n",
       "      <td>NaN</td>\n",
       "    </tr>\n",
       "  </tbody>\n",
       "</table>\n",
       "</div>"
      ],
      "text/plain": [
       "              movieId        title genres\n",
       "count     9742.000000         9742   9742\n",
       "unique            NaN         9737    951\n",
       "top               NaN  Emma (1996)  Drama\n",
       "freq              NaN            2   1053\n",
       "mean     42200.353623          NaN    NaN\n",
       "std      52160.494854          NaN    NaN\n",
       "min          1.000000          NaN    NaN\n",
       "25%       3248.250000          NaN    NaN\n",
       "50%       7300.000000          NaN    NaN\n",
       "75%      76232.000000          NaN    NaN\n",
       "max     193609.000000          NaN    NaN"
      ]
     },
     "execution_count": 12,
     "metadata": {},
     "output_type": "execute_result"
    }
   ],
   "source": [
    "movies_df.describe(include='all')"
   ]
  },
  {
   "cell_type": "markdown",
   "id": "458c1640-0e1e-4523-b38f-5ae228bee043",
   "metadata": {},
   "source": [
    "Movies Dataframe Summary:\n",
    "- There are 9,742 unique movies.\n",
    "- The genres column has 951 unique genre combinations, with 'Drama' being the most frequent.  The number of genres does not appear resaonable, so will conduct further analysis on.\n",
    "- The movieId ranges from 1 to 193,609, indicating a broad and possibly sparse numbering system, as there are only 9,737 unique movie titles."
   ]
  },
  {
   "cell_type": "code",
   "execution_count": 14,
   "id": "11c6f778-c401-46d9-9632-33248d5a277f",
   "metadata": {
    "tags": []
   },
   "outputs": [
    {
     "data": {
      "text/plain": [
       "movieId    0\n",
       "title      0\n",
       "genres     0\n",
       "dtype: int64"
      ]
     },
     "execution_count": 14,
     "metadata": {},
     "output_type": "execute_result"
    }
   ],
   "source": [
    "movies_df.isna().sum()"
   ]
  },
  {
   "cell_type": "markdown",
   "id": "dcf6e3a4-f142-44ed-a6df-949b83c76e37",
   "metadata": {},
   "source": [
    "There are no missing values in the movies dataset."
   ]
  },
  {
   "cell_type": "code",
   "execution_count": 16,
   "id": "5033d4f1-4f14-45e8-a2b8-47a4af367af0",
   "metadata": {
    "tags": []
   },
   "outputs": [
    {
     "data": {
      "text/plain": [
       "0"
      ]
     },
     "execution_count": 16,
     "metadata": {},
     "output_type": "execute_result"
    }
   ],
   "source": [
    "movies_df.duplicated().sum()"
   ]
  },
  {
   "cell_type": "markdown",
   "id": "95781305-b895-4db2-9f23-05b2b81b3ad3",
   "metadata": {},
   "source": [
    "There are no duplicate rows in the movies dataset."
   ]
  },
  {
   "cell_type": "code",
   "execution_count": 18,
   "id": "80c4a466-e251-4bbb-b106-1cf77c20bf7b",
   "metadata": {},
   "outputs": [
    {
     "name": "stdout",
     "output_type": "stream",
     "text": [
      "<class 'pandas.core.frame.DataFrame'>\n",
      "RangeIndex: 100836 entries, 0 to 100835\n",
      "Data columns (total 4 columns):\n",
      " #   Column     Non-Null Count   Dtype  \n",
      "---  ------     --------------   -----  \n",
      " 0   userId     100836 non-null  int64  \n",
      " 1   movieId    100836 non-null  int64  \n",
      " 2   rating     100836 non-null  float64\n",
      " 3   timestamp  100836 non-null  int64  \n",
      "dtypes: float64(1), int64(3)\n",
      "memory usage: 3.1 MB\n"
     ]
    }
   ],
   "source": [
    "ratings_df.info()"
   ]
  },
  {
   "cell_type": "code",
   "execution_count": 19,
   "id": "253e455d-9782-422f-a6ae-a4991370fcc0",
   "metadata": {},
   "outputs": [
    {
     "data": {
      "text/html": [
       "<div>\n",
       "<style scoped>\n",
       "    .dataframe tbody tr th:only-of-type {\n",
       "        vertical-align: middle;\n",
       "    }\n",
       "\n",
       "    .dataframe tbody tr th {\n",
       "        vertical-align: top;\n",
       "    }\n",
       "\n",
       "    .dataframe thead th {\n",
       "        text-align: right;\n",
       "    }\n",
       "</style>\n",
       "<table border=\"1\" class=\"dataframe\">\n",
       "  <thead>\n",
       "    <tr style=\"text-align: right;\">\n",
       "      <th></th>\n",
       "      <th>userId</th>\n",
       "      <th>movieId</th>\n",
       "      <th>rating</th>\n",
       "      <th>timestamp</th>\n",
       "    </tr>\n",
       "  </thead>\n",
       "  <tbody>\n",
       "    <tr>\n",
       "      <th>count</th>\n",
       "      <td>100836.000000</td>\n",
       "      <td>100836.000000</td>\n",
       "      <td>100836.000000</td>\n",
       "      <td>1.008360e+05</td>\n",
       "    </tr>\n",
       "    <tr>\n",
       "      <th>mean</th>\n",
       "      <td>326.127564</td>\n",
       "      <td>19435.295718</td>\n",
       "      <td>3.501557</td>\n",
       "      <td>1.205946e+09</td>\n",
       "    </tr>\n",
       "    <tr>\n",
       "      <th>std</th>\n",
       "      <td>182.618491</td>\n",
       "      <td>35530.987199</td>\n",
       "      <td>1.042529</td>\n",
       "      <td>2.162610e+08</td>\n",
       "    </tr>\n",
       "    <tr>\n",
       "      <th>min</th>\n",
       "      <td>1.000000</td>\n",
       "      <td>1.000000</td>\n",
       "      <td>0.500000</td>\n",
       "      <td>8.281246e+08</td>\n",
       "    </tr>\n",
       "    <tr>\n",
       "      <th>25%</th>\n",
       "      <td>177.000000</td>\n",
       "      <td>1199.000000</td>\n",
       "      <td>3.000000</td>\n",
       "      <td>1.019124e+09</td>\n",
       "    </tr>\n",
       "    <tr>\n",
       "      <th>50%</th>\n",
       "      <td>325.000000</td>\n",
       "      <td>2991.000000</td>\n",
       "      <td>3.500000</td>\n",
       "      <td>1.186087e+09</td>\n",
       "    </tr>\n",
       "    <tr>\n",
       "      <th>75%</th>\n",
       "      <td>477.000000</td>\n",
       "      <td>8122.000000</td>\n",
       "      <td>4.000000</td>\n",
       "      <td>1.435994e+09</td>\n",
       "    </tr>\n",
       "    <tr>\n",
       "      <th>max</th>\n",
       "      <td>610.000000</td>\n",
       "      <td>193609.000000</td>\n",
       "      <td>5.000000</td>\n",
       "      <td>1.537799e+09</td>\n",
       "    </tr>\n",
       "  </tbody>\n",
       "</table>\n",
       "</div>"
      ],
      "text/plain": [
       "              userId        movieId         rating     timestamp\n",
       "count  100836.000000  100836.000000  100836.000000  1.008360e+05\n",
       "mean      326.127564   19435.295718       3.501557  1.205946e+09\n",
       "std       182.618491   35530.987199       1.042529  2.162610e+08\n",
       "min         1.000000       1.000000       0.500000  8.281246e+08\n",
       "25%       177.000000    1199.000000       3.000000  1.019124e+09\n",
       "50%       325.000000    2991.000000       3.500000  1.186087e+09\n",
       "75%       477.000000    8122.000000       4.000000  1.435994e+09\n",
       "max       610.000000  193609.000000       5.000000  1.537799e+09"
      ]
     },
     "execution_count": 19,
     "metadata": {},
     "output_type": "execute_result"
    }
   ],
   "source": [
    "ratings_df.describe(include='all')"
   ]
  },
  {
   "cell_type": "markdown",
   "id": "02b15b52-b223-4c18-aca9-252c133f8e1b",
   "metadata": {
    "tags": []
   },
   "source": [
    "Ratings Dataframe Summary:\n",
    "- Contains 100,836 ratings.\n",
    "- userId ranges from 1 to 610, indicating 610 unique users.\n",
    "- Ratings range from 0.5 to 5.0, in increments of 0.5.\n",
    "- The average rating is approximately 3.50.\n",
    "- timestamp is an integer representing the time the user rating was made."
   ]
  },
  {
   "cell_type": "markdown",
   "id": "aee82d8f-cfae-478c-9cc2-80583db9ae58",
   "metadata": {},
   "source": [
    "I will now merge the two datasets which will allow us to see which user rated which movie, along with the movie's title and genres."
   ]
  },
  {
   "cell_type": "code",
   "execution_count": 22,
   "id": "2ec0031b-3e80-4ce2-b3e0-92361039f483",
   "metadata": {},
   "outputs": [
    {
     "data": {
      "text/plain": [
       "(100836, 6)"
      ]
     },
     "execution_count": 22,
     "metadata": {},
     "output_type": "execute_result"
    }
   ],
   "source": [
    "# Merge the two df's on movieId\n",
    "df = movies_df.merge(ratings_df, on='movieId')\n",
    "\n",
    "df.shape"
   ]
  },
  {
   "cell_type": "code",
   "execution_count": 23,
   "id": "1c859a70-e587-466e-a7d5-98916b1c11f8",
   "metadata": {},
   "outputs": [
    {
     "data": {
      "text/html": [
       "<div>\n",
       "<style scoped>\n",
       "    .dataframe tbody tr th:only-of-type {\n",
       "        vertical-align: middle;\n",
       "    }\n",
       "\n",
       "    .dataframe tbody tr th {\n",
       "        vertical-align: top;\n",
       "    }\n",
       "\n",
       "    .dataframe thead th {\n",
       "        text-align: right;\n",
       "    }\n",
       "</style>\n",
       "<table border=\"1\" class=\"dataframe\">\n",
       "  <thead>\n",
       "    <tr style=\"text-align: right;\">\n",
       "      <th></th>\n",
       "      <th>movieId</th>\n",
       "      <th>title</th>\n",
       "      <th>genres</th>\n",
       "      <th>userId</th>\n",
       "      <th>rating</th>\n",
       "      <th>timestamp</th>\n",
       "    </tr>\n",
       "  </thead>\n",
       "  <tbody>\n",
       "    <tr>\n",
       "      <th>0</th>\n",
       "      <td>1</td>\n",
       "      <td>Toy Story (1995)</td>\n",
       "      <td>Adventure|Animation|Children|Comedy|Fantasy</td>\n",
       "      <td>1</td>\n",
       "      <td>4.0</td>\n",
       "      <td>964982703</td>\n",
       "    </tr>\n",
       "    <tr>\n",
       "      <th>1</th>\n",
       "      <td>1</td>\n",
       "      <td>Toy Story (1995)</td>\n",
       "      <td>Adventure|Animation|Children|Comedy|Fantasy</td>\n",
       "      <td>5</td>\n",
       "      <td>4.0</td>\n",
       "      <td>847434962</td>\n",
       "    </tr>\n",
       "    <tr>\n",
       "      <th>2</th>\n",
       "      <td>1</td>\n",
       "      <td>Toy Story (1995)</td>\n",
       "      <td>Adventure|Animation|Children|Comedy|Fantasy</td>\n",
       "      <td>7</td>\n",
       "      <td>4.5</td>\n",
       "      <td>1106635946</td>\n",
       "    </tr>\n",
       "    <tr>\n",
       "      <th>3</th>\n",
       "      <td>1</td>\n",
       "      <td>Toy Story (1995)</td>\n",
       "      <td>Adventure|Animation|Children|Comedy|Fantasy</td>\n",
       "      <td>15</td>\n",
       "      <td>2.5</td>\n",
       "      <td>1510577970</td>\n",
       "    </tr>\n",
       "    <tr>\n",
       "      <th>4</th>\n",
       "      <td>1</td>\n",
       "      <td>Toy Story (1995)</td>\n",
       "      <td>Adventure|Animation|Children|Comedy|Fantasy</td>\n",
       "      <td>17</td>\n",
       "      <td>4.5</td>\n",
       "      <td>1305696483</td>\n",
       "    </tr>\n",
       "  </tbody>\n",
       "</table>\n",
       "</div>"
      ],
      "text/plain": [
       "   movieId             title                                       genres  \\\n",
       "0        1  Toy Story (1995)  Adventure|Animation|Children|Comedy|Fantasy   \n",
       "1        1  Toy Story (1995)  Adventure|Animation|Children|Comedy|Fantasy   \n",
       "2        1  Toy Story (1995)  Adventure|Animation|Children|Comedy|Fantasy   \n",
       "3        1  Toy Story (1995)  Adventure|Animation|Children|Comedy|Fantasy   \n",
       "4        1  Toy Story (1995)  Adventure|Animation|Children|Comedy|Fantasy   \n",
       "\n",
       "   userId  rating   timestamp  \n",
       "0       1     4.0   964982703  \n",
       "1       5     4.0   847434962  \n",
       "2       7     4.5  1106635946  \n",
       "3      15     2.5  1510577970  \n",
       "4      17     4.5  1305696483  "
      ]
     },
     "execution_count": 23,
     "metadata": {},
     "output_type": "execute_result"
    }
   ],
   "source": [
    "df.head()"
   ]
  },
  {
   "cell_type": "code",
   "execution_count": 24,
   "id": "338ac546-1995-4c7a-a79f-0b2b1e408e4c",
   "metadata": {
    "tags": []
   },
   "outputs": [
    {
     "data": {
      "text/plain": [
       "movieId      0\n",
       "title        0\n",
       "genres       0\n",
       "userId       0\n",
       "rating       0\n",
       "timestamp    0\n",
       "dtype: int64"
      ]
     },
     "execution_count": 24,
     "metadata": {},
     "output_type": "execute_result"
    }
   ],
   "source": [
    "df.isna().sum()"
   ]
  },
  {
   "cell_type": "code",
   "execution_count": 25,
   "id": "d8794930-fc89-401a-9ca7-2cad23c07dd7",
   "metadata": {},
   "outputs": [
    {
     "name": "stdout",
     "output_type": "stream",
     "text": [
      "<class 'pandas.core.frame.DataFrame'>\n",
      "RangeIndex: 100836 entries, 0 to 100835\n",
      "Data columns (total 6 columns):\n",
      " #   Column     Non-Null Count   Dtype  \n",
      "---  ------     --------------   -----  \n",
      " 0   movieId    100836 non-null  int64  \n",
      " 1   title      100836 non-null  object \n",
      " 2   genres     100836 non-null  object \n",
      " 3   userId     100836 non-null  int64  \n",
      " 4   rating     100836 non-null  float64\n",
      " 5   timestamp  100836 non-null  int64  \n",
      "dtypes: float64(1), int64(3), object(2)\n",
      "memory usage: 4.6+ MB\n"
     ]
    }
   ],
   "source": [
    "df.info()"
   ]
  },
  {
   "cell_type": "code",
   "execution_count": 26,
   "id": "ff004f77-e1e6-4a00-bcbf-05a04d24f3ea",
   "metadata": {},
   "outputs": [
    {
     "data": {
      "text/html": [
       "<div>\n",
       "<style scoped>\n",
       "    .dataframe tbody tr th:only-of-type {\n",
       "        vertical-align: middle;\n",
       "    }\n",
       "\n",
       "    .dataframe tbody tr th {\n",
       "        vertical-align: top;\n",
       "    }\n",
       "\n",
       "    .dataframe thead th {\n",
       "        text-align: right;\n",
       "    }\n",
       "</style>\n",
       "<table border=\"1\" class=\"dataframe\">\n",
       "  <thead>\n",
       "    <tr style=\"text-align: right;\">\n",
       "      <th></th>\n",
       "      <th>movieId</th>\n",
       "      <th>title</th>\n",
       "      <th>genres</th>\n",
       "      <th>userId</th>\n",
       "      <th>rating</th>\n",
       "      <th>timestamp</th>\n",
       "    </tr>\n",
       "  </thead>\n",
       "  <tbody>\n",
       "    <tr>\n",
       "      <th>count</th>\n",
       "      <td>100836.000000</td>\n",
       "      <td>100836</td>\n",
       "      <td>100836</td>\n",
       "      <td>100836.000000</td>\n",
       "      <td>100836.000000</td>\n",
       "      <td>1.008360e+05</td>\n",
       "    </tr>\n",
       "    <tr>\n",
       "      <th>unique</th>\n",
       "      <td>NaN</td>\n",
       "      <td>9719</td>\n",
       "      <td>951</td>\n",
       "      <td>NaN</td>\n",
       "      <td>NaN</td>\n",
       "      <td>NaN</td>\n",
       "    </tr>\n",
       "    <tr>\n",
       "      <th>top</th>\n",
       "      <td>NaN</td>\n",
       "      <td>Forrest Gump (1994)</td>\n",
       "      <td>Comedy</td>\n",
       "      <td>NaN</td>\n",
       "      <td>NaN</td>\n",
       "      <td>NaN</td>\n",
       "    </tr>\n",
       "    <tr>\n",
       "      <th>freq</th>\n",
       "      <td>NaN</td>\n",
       "      <td>329</td>\n",
       "      <td>7196</td>\n",
       "      <td>NaN</td>\n",
       "      <td>NaN</td>\n",
       "      <td>NaN</td>\n",
       "    </tr>\n",
       "    <tr>\n",
       "      <th>mean</th>\n",
       "      <td>19435.295718</td>\n",
       "      <td>NaN</td>\n",
       "      <td>NaN</td>\n",
       "      <td>326.127564</td>\n",
       "      <td>3.501557</td>\n",
       "      <td>1.205946e+09</td>\n",
       "    </tr>\n",
       "    <tr>\n",
       "      <th>std</th>\n",
       "      <td>35530.987199</td>\n",
       "      <td>NaN</td>\n",
       "      <td>NaN</td>\n",
       "      <td>182.618491</td>\n",
       "      <td>1.042529</td>\n",
       "      <td>2.162610e+08</td>\n",
       "    </tr>\n",
       "    <tr>\n",
       "      <th>min</th>\n",
       "      <td>1.000000</td>\n",
       "      <td>NaN</td>\n",
       "      <td>NaN</td>\n",
       "      <td>1.000000</td>\n",
       "      <td>0.500000</td>\n",
       "      <td>8.281246e+08</td>\n",
       "    </tr>\n",
       "    <tr>\n",
       "      <th>25%</th>\n",
       "      <td>1199.000000</td>\n",
       "      <td>NaN</td>\n",
       "      <td>NaN</td>\n",
       "      <td>177.000000</td>\n",
       "      <td>3.000000</td>\n",
       "      <td>1.019124e+09</td>\n",
       "    </tr>\n",
       "    <tr>\n",
       "      <th>50%</th>\n",
       "      <td>2991.000000</td>\n",
       "      <td>NaN</td>\n",
       "      <td>NaN</td>\n",
       "      <td>325.000000</td>\n",
       "      <td>3.500000</td>\n",
       "      <td>1.186087e+09</td>\n",
       "    </tr>\n",
       "    <tr>\n",
       "      <th>75%</th>\n",
       "      <td>8122.000000</td>\n",
       "      <td>NaN</td>\n",
       "      <td>NaN</td>\n",
       "      <td>477.000000</td>\n",
       "      <td>4.000000</td>\n",
       "      <td>1.435994e+09</td>\n",
       "    </tr>\n",
       "    <tr>\n",
       "      <th>max</th>\n",
       "      <td>193609.000000</td>\n",
       "      <td>NaN</td>\n",
       "      <td>NaN</td>\n",
       "      <td>610.000000</td>\n",
       "      <td>5.000000</td>\n",
       "      <td>1.537799e+09</td>\n",
       "    </tr>\n",
       "  </tbody>\n",
       "</table>\n",
       "</div>"
      ],
      "text/plain": [
       "              movieId                title  genres         userId  \\\n",
       "count   100836.000000               100836  100836  100836.000000   \n",
       "unique            NaN                 9719     951            NaN   \n",
       "top               NaN  Forrest Gump (1994)  Comedy            NaN   \n",
       "freq              NaN                  329    7196            NaN   \n",
       "mean     19435.295718                  NaN     NaN     326.127564   \n",
       "std      35530.987199                  NaN     NaN     182.618491   \n",
       "min          1.000000                  NaN     NaN       1.000000   \n",
       "25%       1199.000000                  NaN     NaN     177.000000   \n",
       "50%       2991.000000                  NaN     NaN     325.000000   \n",
       "75%       8122.000000                  NaN     NaN     477.000000   \n",
       "max     193609.000000                  NaN     NaN     610.000000   \n",
       "\n",
       "               rating     timestamp  \n",
       "count   100836.000000  1.008360e+05  \n",
       "unique            NaN           NaN  \n",
       "top               NaN           NaN  \n",
       "freq              NaN           NaN  \n",
       "mean         3.501557  1.205946e+09  \n",
       "std          1.042529  2.162610e+08  \n",
       "min          0.500000  8.281246e+08  \n",
       "25%          3.000000  1.019124e+09  \n",
       "50%          3.500000  1.186087e+09  \n",
       "75%          4.000000  1.435994e+09  \n",
       "max          5.000000  1.537799e+09  "
      ]
     },
     "execution_count": 26,
     "metadata": {},
     "output_type": "execute_result"
    }
   ],
   "source": [
    "df.describe(include='all')"
   ]
  },
  {
   "cell_type": "markdown",
   "id": "acbaa193-8f61-4e92-95a4-1b6eb9c93b42",
   "metadata": {},
   "source": [
    "Combined Dataset Statistics:\n",
    "- The dataset contains 100,836 ratings for 9,719 unique movies.\n",
    "- The genres column has 951 unique genre combinations, with 'Comedy' being the most frequent.\n",
    "- Ratings range from 0.5 to 5.0, with an average of approximately 3.50."
   ]
  },
  {
   "cell_type": "code",
   "execution_count": 28,
   "id": "96420a0e-0c64-41b2-8b48-32f2d12e5934",
   "metadata": {},
   "outputs": [
    {
     "data": {
      "text/plain": [
       "movieId      0\n",
       "title        0\n",
       "genres       0\n",
       "userId       0\n",
       "rating       0\n",
       "timestamp    0\n",
       "dtype: int64"
      ]
     },
     "execution_count": 28,
     "metadata": {},
     "output_type": "execute_result"
    }
   ],
   "source": [
    "df.isna().sum()"
   ]
  },
  {
   "cell_type": "markdown",
   "id": "c1e350e2-251e-4c70-bbae-e9608f6a5b6c",
   "metadata": {},
   "source": [
    "There are no missing values in the combined dataset"
   ]
  },
  {
   "cell_type": "code",
   "execution_count": 30,
   "id": "e29413cb-2b37-4f8a-a594-9d0a37a73cbb",
   "metadata": {
    "tags": []
   },
   "outputs": [
    {
     "data": {
      "text/plain": [
       "0"
      ]
     },
     "execution_count": 30,
     "metadata": {},
     "output_type": "execute_result"
    }
   ],
   "source": [
    "df.duplicated().sum()"
   ]
  },
  {
   "cell_type": "markdown",
   "id": "e997b4cd-3811-420b-9026-05bdd1f6571e",
   "metadata": {},
   "source": [
    "## Univariate Analysis"
   ]
  },
  {
   "cell_type": "code",
   "execution_count": 32,
   "id": "28882b5e-e549-4acd-bd50-0f719ff610de",
   "metadata": {},
   "outputs": [
    {
     "data": {
      "image/png": "[encoded data removed]",
      "text/plain": [
       "<Figure size 1000x600 with 1 Axes>"
      ]
     },
     "metadata": {},
     "output_type": "display_data"
    }
   ],
   "source": [
    "# Plot ratings distribution\n",
    "plt.figure(figsize=(10, 6))\n",
    "sns.countplot(x='rating', hue='rating', data=df, legend=False, palette='muted'\n",
    "             )\n",
    "plt.title('Distribution of Ratings')\n",
    "plt.xlabel('Rating')\n",
    "plt.ylabel('Count')\n",
    "plt.show()\n"
   ]
  },
  {
   "cell_type": "markdown",
   "id": "2f56c0bc-3c8e-4411-8c59-84b206d58622",
   "metadata": {},
   "source": [
    "The distribution of ratings shows that:\n",
    "- Ratings are discrete, in increments of 0.5.\n",
    "- The most common ratings are around 3.0 to 4.0, indicating a tendency towards higher ratings.\n",
    "- The extreme ratings (0.5 and 5.0) are less common, suggesting that users are generally moderate in their assessments."
   ]
  },
  {
   "cell_type": "code",
   "execution_count": null,
   "id": "eed3ed1a-c915-4f20-bd02-21c15b1b490b",
   "metadata": {},
   "outputs": [],
   "source": []
  },
  {
   "cell_type": "code",
   "execution_count": null,
   "id": "796efe22-d33e-4e60-9737-8a4daba4606f",
   "metadata": {},
   "outputs": [],
   "source": []
  },
  {
   "cell_type": "code",
   "execution_count": 34,
   "id": "fe644f6e-c373-4c39-bb99-d69d2b87bad9",
   "metadata": {
    "tags": []
   },
   "outputs": [
    {
     "name": "stderr",
     "output_type": "stream",
     "text": [
      "C:\\Users\\trobb\\AppData\\Local\\Temp\\ipykernel_6648\\3179706429.py:18: FutureWarning: \n",
      "\n",
      "Passing `palette` without assigning `hue` is deprecated and will be removed in v0.14.0. Assign the `x` variable to `hue` and set `legend=False` for the same effect.\n",
      "\n",
      "  g = sns.catplot(genre_counts, kind='bar', palette='muted', height=5, aspect=2)\n"
     ]
    },
    {
     "data": {
      "image/png": "[encoded data removed]",
      "text/plain": [
       "<Figure size 1000x500 with 1 Axes>"
      ]
     },
     "metadata": {},
     "output_type": "display_data"
    }
   ],
   "source": [
    "# split genres by | and add as a list\n",
    "df['genres'] = df['genres'].apply(lambda x:x.split('|'))\n",
    "                                  \n",
    "df.head()\n",
    "\n",
    "# Break out genres included in list and determine count of each\n",
    "import matplotlib.pyplot as plt\n",
    "\n",
    "# Explode the genres column to have separate row for each genre\n",
    "exploded_genres = df.explode('genres')\n",
    "\n",
    "# Count the occurrences of each genre\n",
    "genre_counts = exploded_genres['genres'].value_counts()\n",
    "genre_counts\n",
    "\n",
    "# Plot the genre frequencies\n",
    "\n",
    "g = sns.catplot(genre_counts, kind='bar', palette='muted', height=5, aspect=2)\n",
    "g.fig.suptitle('Frequency of Movie Genres')\n",
    "plt.xlabel('Genre')\n",
    "plt.ylabel('Number of Movies')\n",
    "plt.xticks(rotation=45)\n",
    "plt.show()"
   ]
  },
  {
   "cell_type": "code",
   "execution_count": null,
   "id": "954c6508-ec59-4b1c-b215-ba78feb3be52",
   "metadata": {},
   "outputs": [],
   "source": []
  },
  {
   "cell_type": "code",
   "execution_count": null,
   "id": "f365e4ec-b196-4062-bfa9-6c83d4b0d3d3",
   "metadata": {},
   "outputs": [],
   "source": []
  },
  {
   "cell_type": "code",
   "execution_count": null,
   "id": "9ad22641-05cf-42ce-afd5-7934182ff38e",
   "metadata": {},
   "outputs": [],
   "source": []
  },
  {
   "cell_type": "code",
   "execution_count": null,
   "id": "c89d7424-331d-4c95-9bc3-9a3769d6b8e5",
   "metadata": {},
   "outputs": [],
   "source": []
  },
  {
   "cell_type": "markdown",
   "id": "d8ccee9b-2e6e-41be-9d51-5142e937c81f",
   "metadata": {
    "tags": []
   },
   "source": [
    "## Bivariate Analysis"
   ]
  },
  {
   "cell_type": "code",
   "execution_count": 36,
   "id": "406b49cd-63a3-4cab-8000-815e1a3f0faa",
   "metadata": {
    "tags": []
   },
   "outputs": [
    {
     "data": {
      "image/png": "[encoded data removed]",
      "text/plain": [
       "<Figure size 1600x600 with 2 Axes>"
      ]
     },
     "metadata": {},
     "output_type": "display_data"
    }
   ],
   "source": [
    "import matplotlib.pyplot as plt\n",
    "\n",
    "# Assuming 'ratings_df' is your DataFrame\n",
    "user_rating_counts = ratings_df['userId'].value_counts()\n",
    "movie_rating_counts = ratings_df['movieId'].value_counts()\n",
    "\n",
    "fig, axes = plt.subplots(nrows=1, ncols=2, figsize=(16, 6))\n",
    "\n",
    "# Plot for number of ratings per user\n",
    "axes[0].hist(user_rating_counts, bins=30, edgecolor='black')\n",
    "axes[0].set_title('Number of Ratings per User')\n",
    "axes[0].set_xlabel('Number of Ratings')\n",
    "axes[0].set_ylabel('Number of Users')\n",
    "\n",
    "# Plot for number of ratings per movie\n",
    "axes[1].hist(movie_rating_counts, bins=30, edgecolor='black')\n",
    "axes[1].set_title('Number of Ratings per Movie')\n",
    "axes[1].set_xlabel('Number of Ratings')\n",
    "axes[1].set_ylabel('Number of Movies')\n",
    "\n",
    "plt.tight_layout()\n",
    "plt.show()\n",
    "\n"
   ]
  },
  {
   "cell_type": "code",
   "execution_count": 37,
   "id": "4e66d3f2-6978-45ab-92c1-99fc57b9876b",
   "metadata": {
    "tags": []
   },
   "outputs": [
    {
     "data": {
      "image/png": "[encoded data removed]",
      "text/plain": [
       "<Figure size 1000x600 with 1 Axes>"
      ]
     },
     "metadata": {},
     "output_type": "display_data"
    }
   ],
   "source": [
    "# Average Rating per User\n",
    "\n",
    "import matplotlib.pyplot as plt\n",
    "import seaborn as sns\n",
    "\n",
    "# Calculate average rating per user\n",
    "user_avg_ratings = ratings_df.groupby('userId')['rating'].mean()\n",
    "\n",
    "plt.figure(figsize=(10, 6))\n",
    "sns.histplot(user_avg_ratings, bins=30, kde=True)\n",
    "plt.title('Average Rating per User')\n",
    "plt.xlabel('Average Rating')\n",
    "plt.ylabel('Frequency')\n",
    "plt.show()\n"
   ]
  },
  {
   "cell_type": "markdown",
   "id": "3228d46a-912e-4297-b496-a93ecdd92cc2",
   "metadata": {},
   "source": [
    "# Distribution of Ratings across genres\n",
    "\n",
    "\n",
    "## Need to add"
   ]
  },
  {
   "cell_type": "code",
   "execution_count": null,
   "id": "c6c6467c-42a4-495d-bc46-90ca41560cf2",
   "metadata": {},
   "outputs": [],
   "source": []
  },
  {
   "cell_type": "code",
   "execution_count": null,
   "id": "9e6d9baf-470d-4317-9c6a-d7a1f1449ea6",
   "metadata": {},
   "outputs": [],
   "source": []
  },
  {
   "cell_type": "code",
   "execution_count": null,
   "id": "4a519e94-06ed-4dd4-821d-f63dd4b5f86f",
   "metadata": {},
   "outputs": [],
   "source": []
  },
  {
   "cell_type": "code",
   "execution_count": null,
   "id": "f4846e45-1bdf-4536-bc1f-0a6d2c68fcef",
   "metadata": {},
   "outputs": [],
   "source": []
  },
  {
   "cell_type": "code",
   "execution_count": 39,
   "id": "8a4d3418-44f9-4670-9563-b36988d04275",
   "metadata": {
    "tags": []
   },
   "outputs": [
    {
     "data": {
      "image/png": "[encoded data removed]",
      "text/plain": [
       "<Figure size 640x480 with 1 Axes>"
      ]
     },
     "metadata": {},
     "output_type": "display_data"
    }
   ],
   "source": [
    "# Ratings over Time\n",
    "ratings_df['datetime'] = pd.to_datetime(ratings_df['timestamp'], unit='s')\n",
    "ratings_df['year'] = ratings_df['datetime'].dt.year\n",
    "ratings_df.groupby('year')['rating'].mean().plot(kind='line')\n",
    "plt.title('Average Ratings Over Years')\n",
    "plt.xlabel('Year')\n",
    "plt.ylabel('Average Rating')\n",
    "plt.show()\n"
   ]
  },
  {
   "cell_type": "code",
   "execution_count": 40,
   "id": "cfe762a4-7ca3-4d16-9309-4d771c5e78ba",
   "metadata": {},
   "outputs": [
    {
     "data": {
      "image/png": "[encoded data removed]",
      "text/plain": [
       "<Figure size 1200x800 with 2 Axes>"
      ]
     },
     "metadata": {},
     "output_type": "display_data"
    }
   ],
   "source": [
    "# Heatmap of Ratings Over Time\n",
    "\n",
    "import pandas as pd\n",
    "import matplotlib.pyplot as plt\n",
    "import seaborn as sns\n",
    "\n",
    "# Assuming 'timestamp' is a UNIX timestamp in 'ratings_df'\n",
    "ratings_df['date'] = pd.to_datetime(ratings_df['timestamp'], unit='s')\n",
    "ratings_df['year'] = ratings_df['date'].dt.year\n",
    "ratings_df['month'] = ratings_df['date'].dt.month\n",
    "\n",
    "# Pivot table to prepare data for heatmap\n",
    "rating_pivot = ratings_df.pivot_table(values='rating', index='month', columns='year', aggfunc='mean')\n",
    "\n",
    "plt.figure(figsize=(12, 8))\n",
    "sns.heatmap(rating_pivot, annot=True, fmt=\".1f\", cmap='coolwarm')\n",
    "plt.title('Average Monthly Ratings Over the Years')\n",
    "plt.xlabel('Year')\n",
    "plt.ylabel('Month')\n",
    "plt.show()\n",
    "\n"
   ]
  },
  {
   "cell_type": "code",
   "execution_count": null,
   "id": "12206bec-594e-41cb-a7f2-dac4b7a0eceb",
   "metadata": {},
   "outputs": [],
   "source": []
  },
  {
   "cell_type": "code",
   "execution_count": null,
   "id": "3992609f-e8f5-45df-9666-b195660f0bb9",
   "metadata": {},
   "outputs": [],
   "source": []
  },
  {
   "cell_type": "code",
   "execution_count": 41,
   "id": "527c4b60-1bb7-4fa3-accc-f5b1d1e5c46b",
   "metadata": {},
   "outputs": [
    {
     "data": {
      "text/html": [
       "<div>\n",
       "<style scoped>\n",
       "    .dataframe tbody tr th:only-of-type {\n",
       "        vertical-align: middle;\n",
       "    }\n",
       "\n",
       "    .dataframe tbody tr th {\n",
       "        vertical-align: top;\n",
       "    }\n",
       "\n",
       "    .dataframe thead th {\n",
       "        text-align: right;\n",
       "    }\n",
       "</style>\n",
       "<table border=\"1\" class=\"dataframe\">\n",
       "  <thead>\n",
       "    <tr style=\"text-align: right;\">\n",
       "      <th></th>\n",
       "      <th>movieId</th>\n",
       "      <th>title</th>\n",
       "      <th>genres</th>\n",
       "      <th>userId</th>\n",
       "      <th>rating</th>\n",
       "      <th>timestamp</th>\n",
       "    </tr>\n",
       "  </thead>\n",
       "  <tbody>\n",
       "    <tr>\n",
       "      <th>0</th>\n",
       "      <td>1</td>\n",
       "      <td>Toy Story (1995)</td>\n",
       "      <td>[Adventure, Animation, Children, Comedy, Fantasy]</td>\n",
       "      <td>1</td>\n",
       "      <td>4.0</td>\n",
       "      <td>964982703</td>\n",
       "    </tr>\n",
       "    <tr>\n",
       "      <th>1</th>\n",
       "      <td>1</td>\n",
       "      <td>Toy Story (1995)</td>\n",
       "      <td>[Adventure, Animation, Children, Comedy, Fantasy]</td>\n",
       "      <td>5</td>\n",
       "      <td>4.0</td>\n",
       "      <td>847434962</td>\n",
       "    </tr>\n",
       "    <tr>\n",
       "      <th>2</th>\n",
       "      <td>1</td>\n",
       "      <td>Toy Story (1995)</td>\n",
       "      <td>[Adventure, Animation, Children, Comedy, Fantasy]</td>\n",
       "      <td>7</td>\n",
       "      <td>4.5</td>\n",
       "      <td>1106635946</td>\n",
       "    </tr>\n",
       "    <tr>\n",
       "      <th>3</th>\n",
       "      <td>1</td>\n",
       "      <td>Toy Story (1995)</td>\n",
       "      <td>[Adventure, Animation, Children, Comedy, Fantasy]</td>\n",
       "      <td>15</td>\n",
       "      <td>2.5</td>\n",
       "      <td>1510577970</td>\n",
       "    </tr>\n",
       "    <tr>\n",
       "      <th>4</th>\n",
       "      <td>1</td>\n",
       "      <td>Toy Story (1995)</td>\n",
       "      <td>[Adventure, Animation, Children, Comedy, Fantasy]</td>\n",
       "      <td>17</td>\n",
       "      <td>4.5</td>\n",
       "      <td>1305696483</td>\n",
       "    </tr>\n",
       "  </tbody>\n",
       "</table>\n",
       "</div>"
      ],
      "text/plain": [
       "   movieId             title  \\\n",
       "0        1  Toy Story (1995)   \n",
       "1        1  Toy Story (1995)   \n",
       "2        1  Toy Story (1995)   \n",
       "3        1  Toy Story (1995)   \n",
       "4        1  Toy Story (1995)   \n",
       "\n",
       "                                              genres  userId  rating  \\\n",
       "0  [Adventure, Animation, Children, Comedy, Fantasy]       1     4.0   \n",
       "1  [Adventure, Animation, Children, Comedy, Fantasy]       5     4.0   \n",
       "2  [Adventure, Animation, Children, Comedy, Fantasy]       7     4.5   \n",
       "3  [Adventure, Animation, Children, Comedy, Fantasy]      15     2.5   \n",
       "4  [Adventure, Animation, Children, Comedy, Fantasy]      17     4.5   \n",
       "\n",
       "    timestamp  \n",
       "0   964982703  \n",
       "1   847434962  \n",
       "2  1106635946  \n",
       "3  1510577970  \n",
       "4  1305696483  "
      ]
     },
     "execution_count": 41,
     "metadata": {},
     "output_type": "execute_result"
    }
   ],
   "source": [
    "df.head()"
   ]
  },
  {
   "cell_type": "code",
   "execution_count": null,
   "id": "788ea9ee-b5da-4f51-9477-b39a86b2cc2d",
   "metadata": {},
   "outputs": [],
   "source": []
  },
  {
   "cell_type": "code",
   "execution_count": null,
   "id": "a50fdfbd-482a-45c5-a660-80ac82cf95b3",
   "metadata": {},
   "outputs": [],
   "source": []
  },
  {
   "cell_type": "code",
   "execution_count": null,
   "id": "69e1302f-48f9-4d22-8cf6-37d8df63da94",
   "metadata": {},
   "outputs": [],
   "source": []
  },
  {
   "cell_type": "code",
   "execution_count": null,
   "id": "aefa5e9f-9c8b-4091-a74c-f136bc4b3558",
   "metadata": {},
   "outputs": [],
   "source": []
  },
  {
   "cell_type": "code",
   "execution_count": null,
   "id": "6ce1e2ab-eb03-4d83-b39c-41efa6700290",
   "metadata": {},
   "outputs": [],
   "source": []
  },
  {
   "cell_type": "code",
   "execution_count": null,
   "id": "c4a6c109-f027-4ee3-859d-f54989114545",
   "metadata": {},
   "outputs": [],
   "source": []
  },
  {
   "cell_type": "markdown",
   "id": "b05a526e-f4ff-4ee2-a376-2e3b817f80a3",
   "metadata": {},
   "source": [
    "## Preprocess Data"
   ]
  },
  {
   "cell_type": "code",
   "execution_count": 56,
   "id": "1b58cef8-1f03-472e-baf8-60c1357cab85",
   "metadata": {
    "tags": []
   },
   "outputs": [],
   "source": [
    "# Preprocess data by adding one-hot encoding for genres\n",
    "def preprocess_data(df):\n",
    "    if 'genres' in df.columns:\n",
    "        df['genres'] = df['genres'].replace('', '(no genres listed)')\n",
    "        genres_dummies = df['genres'].str.get_dummies(sep='|')\n",
    "        df = pd.concat([df, genres_dummies], axis=1)\n",
    "        logging.info(\"Genre-based features added.\")\n",
    "    else:\n",
    "        logging.info(\"Genres column not available for processing.\")\n",
    "    return df\n",
    "\n",
    "# Add user-genre interaction features to the dataset\n",
    "def add_user_genre_features(df):\n",
    "    if 'userId' in df.columns:\n",
    "        # Select only genre columns for aggregation\n",
    "        genre_columns = [col for col in df.columns if col not in ('user_mean_', 'title', 'movieId', 'userId', 'rating') and df[col].dtype in [np.float64, np.int64]]\n",
    "\n",
    "        # Compute mean genre features per user\n",
    "        user_genre_means = df.groupby(['userId'])[genre_columns].mean()\n",
    "        user_genre_means.columns = [f'user_mean_{col}' for col in user_genre_means.columns]\n",
    "\n",
    "        # Merge the new features back into the main DataFrame\n",
    "        df = pd.merge(df, user_genre_means, on='userId', how='left')\n",
    "        logging.info(\"User-genre interaction features added.\")\n",
    "    else:\n",
    "        logging.info(\"UserId column not available for interaction features.\")\n",
    "    return df"
   ]
  },
  {
   "cell_type": "markdown",
   "id": "56b8f3d6-1cdf-4351-9c92-98af33b12570",
   "metadata": {
    "tags": []
   },
   "source": [
    "## Additional EDA"
   ]
  },
  {
   "cell_type": "code",
   "execution_count": null,
   "id": "cfea2eb5-9278-4c92-8b0f-981bec306a1a",
   "metadata": {},
   "outputs": [],
   "source": []
  },
  {
   "cell_type": "code",
   "execution_count": null,
   "id": "243d8ef7-ec8e-4f0e-83ae-19910d257f6f",
   "metadata": {},
   "outputs": [],
   "source": []
  },
  {
   "cell_type": "code",
   "execution_count": null,
   "id": "dd2bec0d-22a4-479b-a33c-6fe7e133a4bd",
   "metadata": {},
   "outputs": [],
   "source": []
  },
  {
   "cell_type": "code",
   "execution_count": null,
   "id": "d48143b1-6cc0-4da1-b2a4-c6ff93c2c304",
   "metadata": {},
   "outputs": [],
   "source": []
  },
  {
   "cell_type": "code",
   "execution_count": null,
   "id": "d214d23a-b3ca-4d99-9c40-d044a80b316b",
   "metadata": {},
   "outputs": [],
   "source": []
  },
  {
   "cell_type": "code",
   "execution_count": null,
   "id": "9f88c0e0-9d12-4d90-afdf-abee8e1c636d",
   "metadata": {},
   "outputs": [],
   "source": []
  },
  {
   "cell_type": "code",
   "execution_count": 58,
   "id": "e7f73d8f-703c-4033-bdae-d71ab7087000",
   "metadata": {},
   "outputs": [],
   "source": [
    "from joblib import Parallel, delayed\n",
    "from sklearn.neighbors import NearestNeighbors\n",
    "import logging\n",
    "\n",
    "# Helper function for hybrid recommendations per user\n",
    "def hybrid_user_recommendation_worker(user_id, df, svd_model, movie_indices, distances, indices, weight_svd, weight_content, n):\n",
    "    user_recommendations = []\n",
    "\n",
    "    try:\n",
    "        for idx in movie_indices:\n",
    "            sim_scores = list(enumerate(distances[idx]))\n",
    "            sorted_indices = np.argsort([x[1] for x in sim_scores])[::-1][1:11]\n",
    "\n",
    "            movie_indices_list = [indices[idx][i] for i in sorted_indices if indices[idx][i] in df.index]\n",
    "\n",
    "            sim_movies = df['movieId'].iloc[movie_indices_list]\n",
    "            svd_recs = [svd_model.predict(user_id, iid) for iid in sim_movies]\n",
    "\n",
    "            recommendations = [\n",
    "                (\n",
    "                    iid,\n",
    "                    weight_svd * est.est + weight_content * distances[idx][movie_indices_list.index(iid)]\n",
    "                )\n",
    "                for iid, est in zip(sim_movies, svd_recs)\n",
    "                if iid in movie_indices_list\n",
    "            ]\n",
    "\n",
    "            recommendations = sorted(recommendations, key=lambda x: x[1], reverse=True)\n",
    "\n",
    "            user_recommendations.extend(recommendations[:n])\n",
    "\n",
    "        user_recommendations = sorted(user_recommendations, key=lambda x: x[1], reverse=True)[:n]\n",
    "\n",
    "        return [(user_id, rec[0], rec[1]) for rec in user_recommendations]\n",
    "\n",
    "    except ValueError as e:\n",
    "        logging.error(f\"Error in hybrid_user_recommendation_worker: {e}\")\n",
    "        return []\n",
    "\n",
    "# Function to calculate sparse cosine similarity\n",
    "def calculate_sparse_cosine_similarity(tfidf_matrix, n_neighbors=10):\n",
    "    logging.info(\"Calculating sparse cosine similarity...\")\n",
    "    nbrs = NearestNeighbors(n_neighbors=n_neighbors, metric='cosine', algorithm='brute').fit(tfidf_matrix)\n",
    "    distances, indices = nbrs.kneighbors(tfidf_matrix)\n",
    "    logging.info(\"Sparse cosine similarity calculated.\")\n",
    "    return distances, indices\n",
    "\n",
    "# Hybrid recommendation function combining SVD and content-based filtering\n",
    "def hybrid_recommendation_to_screen(df, svd_model, test_users, weight_svd=0.7, weight_content=0.3, n=5, batch_size=2000):\n",
    "    movie_indices = pd.Series(df.index, index=df['title']).drop_duplicates()\n",
    "\n",
    "    tfidf = TfidfVectorizer(max_features=1000, stop_words='english')  # Increase vocabulary size to 1000\n",
    "    tfidf_matrix = tfidf.fit_transform(df['genres'].fillna(''))\n",
    "    distances, indices = calculate_sparse_cosine_similarity(tfidf_matrix, n_neighbors=10)\n",
    "\n",
    "    all_recommendations = []\n",
    "\n",
    "    logging.info(f\"Processing users in batches of {batch_size}...\")\n",
    "\n",
    "    # Process users in batches\n",
    "    for i in range(0, len(test_users), batch_size):\n",
    "        batch_users = list(test_users)[i:i + batch_size]\n",
    "\n",
    "        # Set n_jobs to -1 to use all processors\n",
    "        batch_recommendations = Parallel(n_jobs=-1)(\n",
    "            delayed(hybrid_user_recommendation_worker)(\n",
    "                user_id, df, svd_model, movie_indices, distances, indices, weight_svd, weight_content, n\n",
    "            )\n",
    "            for user_id in batch_users\n",
    "        )\n",
    "        all_recommendations.extend([item for sublist in batch_recommendations for item in sublist])\n",
    "\n",
    "    # Print recommendations to screen\n",
    "    for rec in all_recommendations:\n",
    "        print(f\"User: {rec[0]}, Movie: {rec[1]}, Score: {rec[2]:.4f}\")\n"
   ]
  },
  {
   "cell_type": "code",
   "execution_count": null,
   "id": "3faf9c6a-b3b1-4e54-acb0-860874cf0745",
   "metadata": {},
   "outputs": [],
   "source": []
  },
  {
   "cell_type": "markdown",
   "id": "765c3213-5ec7-4d22-abc8-e62fe0f119d1",
   "metadata": {},
   "source": [
    "## Train and Evaluate SVD Model"
   ]
  },
  {
   "cell_type": "code",
   "execution_count": 60,
   "id": "7010c6f3-3372-41fc-97d4-4f15f063a75e",
   "metadata": {
    "tags": []
   },
   "outputs": [
    {
     "data": {
      "text/plain": [
       "'\\n\\n# Train and evaluate the SVD model using fixed parameters\\ndef train_and_evaluate_svd(df):\\n    reader = Reader(rating_scale=(0.5, 5.0))\\n    data = Dataset.load_from_df(df[[\\'userId\\', \\'movieId\\', \\'rating\\']], reader)\\n\\n    trainset, testset = train_test_split(data, test_size=0.25, random_state=RANDOM_SEED)\\n\\n    svd_params = {\\n        \\'n_factors\\': [150, 200, 250],  # Increase factors for better training\\n        \\'n_epochs\\': [30, 40, 50],   # Increase epochs\\n        \\'lr_all\\': 0.005,\\n        \\'reg_all\\': 0.1,\\n        \\'biased\\': True,\\n        \\'random_state\\': RANDOM_SEED  # Add random seed for reproducibility\\n    }\\n\\n    model = SVD(**svd_params)\\n    model.fit(trainset)\\n\\n    predictions = model.test(testset)\\n    rmse = accuracy.rmse(predictions)\\n    mae = accuracy.mae(predictions)\\n\\n    print(f\"Best Model (RMSE): RMSE={rmse:.4f}, MAE={mae:.4f}\")\\n    print(f\"Best Parameters: {svd_params}\")\\n\\n    return model, testset\\n    \\n'"
      ]
     },
     "execution_count": 60,
     "metadata": {},
     "output_type": "execute_result"
    }
   ],
   "source": [
    "'''\n",
    "\n",
    "# Train and evaluate the SVD model using fixed parameters\n",
    "def train_and_evaluate_svd(df):\n",
    "    reader = Reader(rating_scale=(0.5, 5.0))\n",
    "    data = Dataset.load_from_df(df[['userId', 'movieId', 'rating']], reader)\n",
    "\n",
    "    trainset, testset = train_test_split(data, test_size=0.25, random_state=RANDOM_SEED)\n",
    "\n",
    "    svd_params = {\n",
    "        'n_factors': [150, 200, 250],  # Increase factors for better training\n",
    "        'n_epochs': [30, 40, 50],   # Increase epochs\n",
    "        'lr_all': 0.005,\n",
    "        'reg_all': 0.1,\n",
    "        'biased': True,\n",
    "        'random_state': RANDOM_SEED  # Add random seed for reproducibility\n",
    "    }\n",
    "\n",
    "    model = SVD(**svd_params)\n",
    "    model.fit(trainset)\n",
    "\n",
    "    predictions = model.test(testset)\n",
    "    rmse = accuracy.rmse(predictions)\n",
    "    mae = accuracy.mae(predictions)\n",
    "\n",
    "    print(f\"Best Model (RMSE): RMSE={rmse:.4f}, MAE={mae:.4f}\")\n",
    "    print(f\"Best Parameters: {svd_params}\")\n",
    "\n",
    "    return model, testset\n",
    "    \n",
    "'''"
   ]
  },
  {
   "cell_type": "code",
   "execution_count": 61,
   "id": "342df211-692c-407d-a183-b590fdb440df",
   "metadata": {
    "tags": []
   },
   "outputs": [
    {
     "data": {
      "text/plain": [
       "'\\n\\nbest_svd_model, svd_testset = train_and_evaluate_svd(augmented_ratings_df)\\n\\n'"
      ]
     },
     "execution_count": 61,
     "metadata": {},
     "output_type": "execute_result"
    }
   ],
   "source": [
    "'''\n",
    "\n",
    "best_svd_model, svd_testset = train_and_evaluate_svd(augmented_ratings_df)\n",
    "\n",
    "'''"
   ]
  },
  {
   "cell_type": "code",
   "execution_count": null,
   "id": "b4a4ab5a-c30d-4a5f-a27c-361b48f71cfe",
   "metadata": {},
   "outputs": [],
   "source": []
  },
  {
   "cell_type": "code",
   "execution_count": 62,
   "id": "ce6566b1-6df8-400b-92d4-64701776e92e",
   "metadata": {
    "tags": []
   },
   "outputs": [],
   "source": [
    "from surprise import SVD, Dataset, Reader, accuracy\n",
    "from surprise.model_selection import train_test_split, RandomizedSearchCV\n",
    "import logging\n",
    "\n",
    "RANDOM_SEED = 42\n",
    "\n",
    "# Train and evaluate the SVD model using randomized search\n",
    "def train_and_evaluate_svd(df, threshold=4.0, n=5):\n",
    "    reader = Reader(rating_scale=(0.5, 5.0))\n",
    "    data = Dataset.load_from_df(df[['userId', 'movieId', 'rating']], reader)\n",
    "\n",
    "    trainset, testset = train_test_split(data, test_size=0.25, random_state=RANDOM_SEED)\n",
    "\n",
    "    param_grid = {\n",
    "        'n_factors': [150],  # Adjust for complexity\n",
    "        'n_epochs': [100],  # Adjust for learning duration\n",
    "        'lr_all': [0.01],\n",
    "        'reg_all': [0.1],\n",
    "        'biased': [True]\n",
    "    }\n",
    "\n",
    "    randomized_search = RandomizedSearchCV(\n",
    "        SVD,\n",
    "        param_distributions=param_grid,\n",
    "        n_iter=10,\n",
    "        random_state=RANDOM_SEED,\n",
    "        measures=['rmse', 'mae'],\n",
    "        cv=3,\n",
    "        refit=True,\n",
    "        n_jobs=-1\n",
    "    )\n",
    "\n",
    "    randomized_search.fit(data)\n",
    "\n",
    "    best_params = randomized_search.best_params['rmse']\n",
    "    best_model = randomized_search.best_estimator['rmse']\n",
    "\n",
    "    predictions = best_model.test(testset)\n",
    "    rmse = accuracy.rmse(predictions)\n",
    "    mae = accuracy.mae(predictions)\n",
    "\n",
    "    logging.info(f\"Best Model (RMSE): RMSE={rmse:.4f}, MAE={mae:.4f}\")\n",
    "    logging.info(f\"Best Parameters: {best_params}\")\n",
    "\n",
    "    print(f\"Best Model (RMSE): RMSE={rmse:.4f}, MAE={mae:.4f}\")\n",
    "    print(f\"Best Parameters: {best_params}\")\n",
    "\n",
    "    return best_model, testset\n"
   ]
  },
  {
   "cell_type": "code",
   "execution_count": null,
   "id": "cf289ac7-c1b4-4014-ab59-4470257eeae2",
   "metadata": {
    "tags": []
   },
   "outputs": [],
   "source": [
    "\n"
   ]
  },
  {
   "cell_type": "markdown",
   "id": "16a21d84-84e1-4577-a805-157ce909cf52",
   "metadata": {
    "tags": []
   },
   "source": [
    "## Calculate Metrics"
   ]
  },
  {
   "cell_type": "code",
   "execution_count": 64,
   "id": "dc90cc46-c6a3-4af1-be69-d855c6758fef",
   "metadata": {
    "tags": []
   },
   "outputs": [],
   "source": [
    "# Calculate recommendation metrics (precision, recall, and F1-score)\n",
    "def calculate_recommendation_metrics(predictions, threshold=4.0, n=5):\n",
    "    def get_top_n(predictions, n=5):\n",
    "        top_n = defaultdict(list)\n",
    "        for uid, iid, true_r, est, _ in predictions:\n",
    "            top_n[uid].append((iid, est, true_r))\n",
    "        for uid, user_ratings in top_n.items():\n",
    "            user_ratings.sort(key=lambda x: x[1], reverse=True)\n",
    "            top_n[uid] = user_ratings[:n]\n",
    "        return top_n\n",
    "\n",
    "    top_n = get_top_n(predictions, n)\n",
    "    y_true, y_pred = [], []\n",
    "\n",
    "    for uid, user_ratings in top_n.items():\n",
    "        for iid, est_rating, true_rating in user_ratings:\n",
    "            y_true.append(1 if true_rating >= threshold else 0)\n",
    "            y_pred.append(1 if est_rating >= threshold else 0)\n",
    "\n",
    "    precision = precision_score(y_true, y_pred, zero_division=0)\n",
    "    recall = recall_score(y_true, y_pred, zero_division=0)\n",
    "    f1 = f1_score(y_true, y_pred, zero_division=0)\n",
    "\n",
    "    print(f\"Precision: {precision:.4f}, Recall: {recall:.4f}, F1-Score: {f1:.4f}\")\n",
    "\n",
    "    return precision, recall, f1\n"
   ]
  },
  {
   "cell_type": "code",
   "execution_count": null,
   "id": "ccb7424f-db5b-4d3c-9d54-a823cb0cc1a1",
   "metadata": {
    "tags": []
   },
   "outputs": [],
   "source": []
  },
  {
   "cell_type": "code",
   "execution_count": null,
   "id": "36e2054f-5f7b-4d3c-af3f-a04a0d379a21",
   "metadata": {},
   "outputs": [],
   "source": []
  },
  {
   "cell_type": "code",
   "execution_count": null,
   "id": "29f996d7-b171-4987-bb7f-e81e2d3bdffb",
   "metadata": {},
   "outputs": [],
   "source": []
  },
  {
   "cell_type": "code",
   "execution_count": null,
   "id": "6f788a11-2092-49bb-9ad8-8e68c6edbae2",
   "metadata": {},
   "outputs": [],
   "source": []
  },
  {
   "cell_type": "code",
   "execution_count": 66,
   "id": "002e151c-63db-4a42-a730-a0c8fd8cb0e3",
   "metadata": {
    "tags": []
   },
   "outputs": [],
   "source": [
    "# pip install memory_profiler\n"
   ]
  },
  {
   "cell_type": "code",
   "execution_count": null,
   "id": "7cbd1a30-5cb0-45a3-a29f-53d130bc6301",
   "metadata": {
    "tags": []
   },
   "outputs": [],
   "source": []
  },
  {
   "cell_type": "code",
   "execution_count": 67,
   "id": "8ff4c836-0173-4a72-b7d0-1d2cf85aa8b4",
   "metadata": {},
   "outputs": [],
   "source": [
    "# from memory_profiler import profile"
   ]
  },
  {
   "cell_type": "markdown",
   "id": "94da8a5b-c41a-41c5-bd09-7c9a7b79611a",
   "metadata": {},
   "source": [
    "# Last Code that Ran"
   ]
  },
  {
   "cell_type": "code",
   "execution_count": 39,
   "id": "7c6ddf3d-14db-4e27-b69b-54cd1d063a0a",
   "metadata": {
    "tags": []
   },
   "outputs": [
    {
     "name": "stderr",
     "output_type": "stream",
     "text": [
      "INFO:root:Data successfully merged and cleaned.\n",
      "INFO:root:Genre-based features added.\n",
      "INFO:root:User-genre interaction features added.\n",
      "INFO:root:Cross-Validation RMSE: 0.8814\n",
      "INFO:root:Cross-Validation MAE: 0.6780\n",
      "INFO:root:Best Parameters: {'n_factors': 40, 'n_epochs': 40, 'lr_all': 0.01, 'reg_all': 0.1}\n"
     ]
    },
    {
     "name": "stdout",
     "output_type": "stream",
     "text": [
      "Evaluating RMSE, MAE of algorithm SVD on 5 split(s).\n",
      "\n",
      "                  Fold 1  Fold 2  Fold 3  Fold 4  Fold 5  Mean    Std     \n",
      "RMSE (testset)    0.8803  0.8763  0.8726  0.8860  0.8918  0.8814  0.0068  \n",
      "MAE (testset)     0.6763  0.6717  0.6735  0.6828  0.6860  0.6780  0.0055  \n",
      "Fit time          0.69    0.80    0.75    0.66    0.73    0.73    0.05    \n",
      "Test time         4.39    0.09    0.06    0.05    0.10    0.94    1.73    \n"
     ]
    },
    {
     "name": "stderr",
     "output_type": "stream",
     "text": [
      "WARNING:root:No unseen predictions available for evaluation metrics.\n"
     ]
    },
    {
     "name": "stdout",
     "output_type": "stream",
     "text": [
      "No unseen predictions available for evaluation metrics.\n",
      "\n",
      "Top 5 Recommendations for User 1:\n",
      "  MovieID: 5444, Title: Lilo & Stitch (2002), Recommended Score: 3.65, Actual Rating: None\n",
      "  MovieID: 318, Title: Shawshank Redemption, The (1994), Recommended Score: 3.50, Actual Rating: None\n",
      "  MovieID: 58559, Title: Dark Knight, The (2008), Recommended Score: 3.50, Actual Rating: None\n",
      "  MovieID: 720, Title: Wallace & Gromit: The Best of Aardman Animation (1996), Recommended Score: 3.50, Actual Rating: None\n",
      "  MovieID: 162, Title: Crumb (1994), Recommended Score: 3.50, Actual Rating: None\n",
      "\n",
      "Top 5 Recommendations for User 2:\n",
      "  MovieID: 89904, Title: The Artist (2011), Recommended Score: 3.35, Actual Rating: None\n",
      "  MovieID: 5992, Title: Hours, The (2002), Recommended Score: 3.30, Actual Rating: None\n",
      "  MovieID: 51931, Title: Reign Over Me (2007), Recommended Score: 3.29, Actual Rating: None\n",
      "  MovieID: 1284, Title: Big Sleep, The (1946), Recommended Score: 3.24, Actual Rating: None\n",
      "  MovieID: 1213, Title: Goodfellas (1990), Recommended Score: 3.21, Actual Rating: None\n",
      "\n",
      "Top 5 Recommendations for User 3:\n",
      "  MovieID: 87234, Title: Submarine (2010), Recommended Score: 2.86, Actual Rating: None\n",
      "  MovieID: 4993, Title: Lord of the Rings: The Fellowship of the Ring, The (2001), Recommended Score: 2.85, Actual Rating: None\n",
      "\n",
      "Top 5 Recommendations for User 4:\n",
      "  MovieID: 1278, Title: Young Frankenstein (1974), Recommended Score: 3.38, Actual Rating: None\n",
      "  MovieID: 1270, Title: Back to the Future (1985), Recommended Score: 3.32, Actual Rating: None\n",
      "  MovieID: 1240, Title: Terminator, The (1984), Recommended Score: 3.30, Actual Rating: None\n",
      "  MovieID: 50, Title: Usual Suspects, The (1995), Recommended Score: 3.20, Actual Rating: None\n",
      "  MovieID: 527, Title: Schindler's List (1993), Recommended Score: 3.18, Actual Rating: None\n",
      "\n",
      "Top 5 Recommendations for User 5:\n",
      "  MovieID: 89904, Title: The Artist (2011), Recommended Score: 3.30, Actual Rating: None\n",
      "  MovieID: 5992, Title: Hours, The (2002), Recommended Score: 3.28, Actual Rating: None\n",
      "  MovieID: 260, Title: Star Wars: Episode IV - A New Hope (1977), Recommended Score: 3.27, Actual Rating: None\n",
      "  MovieID: 7842, Title: Dune (2000), Recommended Score: 3.19, Actual Rating: None\n",
      "  MovieID: 954, Title: Mr. Smith Goes to Washington (1939), Recommended Score: 3.13, Actual Rating: None\n"
     ]
    },
    {
     "data": {
      "image/png": "[encoded data removed]",
      "text/plain": [
       "<Figure size 1000x600 with 1 Axes>"
      ]
     },
     "metadata": {},
     "output_type": "display_data"
    },
    {
     "data": {
      "image/png": "[encoded data removed]",
      "text/plain": [
       "<Figure size 1000x600 with 1 Axes>"
      ]
     },
     "metadata": {},
     "output_type": "display_data"
    }
   ],
   "source": [
    "import pandas as pd\n",
    "import numpy as np\n",
    "from surprise import Dataset, Reader, SVD, accuracy\n",
    "from surprise.model_selection import RandomizedSearchCV, cross_validate, KFold\n",
    "from sklearn.feature_extraction.text import TfidfVectorizer\n",
    "from sklearn.metrics.pairwise import linear_kernel\n",
    "from sklearn.metrics import precision_score, recall_score, f1_score, mean_squared_error, mean_absolute_error\n",
    "from collections import defaultdict\n",
    "from joblib import Parallel, delayed\n",
    "import matplotlib.pyplot as plt\n",
    "import logging\n",
    "\n",
    "# Configure logging\n",
    "logging.basicConfig(level=logging.INFO)\n",
    "\n",
    "# Constants for easier configuration\n",
    "MAX_RATINGS = 50000\n",
    "TFIDF_MAX_FEATURES = 100\n",
    "TOP_N = 5\n",
    "THRESHOLD = 4.0\n",
    "MIN_SCORE = 4.0\n",
    "SVD_PARAM_GRID = {\n",
    "    'n_factors': [40, 50, 60],\n",
    "    'n_epochs': [30, 40, 50],\n",
    "    'lr_all': [0.005, 0.007, 0.01],\n",
    "    'reg_all': [0.1, 0.2]\n",
    "}\n",
    "SVD_FIXED_PARAMS = {'biased': [True]}\n",
    "K_VALUES = list(range(1, 26))\n",
    "\n",
    "# Function to load and merge data\n",
    "def load_and_merge_data(movies_file, ratings_file, max_ratings=MAX_RATINGS):\n",
    "    try:\n",
    "        movies_df = pd.read_csv(movies_file, usecols=['movieId', 'title', 'genres'])\n",
    "        ratings_df = pd.read_csv(ratings_file, usecols=['userId', 'movieId', 'rating']).head(max_ratings)\n",
    "\n",
    "        movies_df.drop_duplicates(subset=['movieId'], inplace=True)\n",
    "        ratings_df.drop_duplicates(subset=['userId', 'movieId'], inplace=True)\n",
    "\n",
    "        movies_df.fillna({'genres': '(no genres listed)'}, inplace=True)\n",
    "        ratings_df.dropna(subset=['userId', 'movieId', 'rating'], inplace=True)\n",
    "\n",
    "        merged_df = pd.merge(ratings_df, movies_df, on='movieId')\n",
    "        logging.info(\"Data successfully merged and cleaned.\")\n",
    "        return merged_df\n",
    "    except FileNotFoundError as e:\n",
    "        logging.error(f\"Error: {e}. File not found. Check the file paths.\")\n",
    "        return None\n",
    "    except Exception as e:\n",
    "        logging.error(f\"An unexpected error occurred: {e}\")\n",
    "        return None\n",
    "\n",
    "# Preprocess data by adding one-hot encoding for genres\n",
    "def preprocess_data(df):\n",
    "    if 'genres' in df.columns:\n",
    "        df['genres'] = df['genres'].replace('', '(no genres listed)')\n",
    "        genres_dummies = df['genres'].str.get_dummies(sep='|')\n",
    "        df = pd.concat([df, genres_dummies], axis=1)\n",
    "        logging.info(\"Genre-based features added.\")\n",
    "    else:\n",
    "        logging.error(\"Genres column not available for processing.\")\n",
    "    return df\n",
    "\n",
    "# Add user-genre interaction features to the dataset\n",
    "def add_user_genre_features(df):\n",
    "    if 'userId' in df.columns:\n",
    "        genre_columns = [col for col in df.columns if col not in ('user_mean_', 'title', 'movieId', 'userId', 'rating') and df[col].dtype in [np.float64, np.int64]]\n",
    "        \n",
    "        user_genre_means = df.groupby(['userId'])[genre_columns].mean()\n",
    "        user_genre_means.columns = [f'user_mean_{col}' for col in user_genre_means.columns]\n",
    "        \n",
    "        df = pd.merge(df, user_genre_means, on='userId', how='left')\n",
    "        logging.info(\"User-genre interaction features added.\")\n",
    "    else:\n",
    "        logging.error(\"UserId column not available for interaction features.\")\n",
    "    return df\n",
    "\n",
    "# Function to calculate recommendation metrics\n",
    "def calculate_recommendation_metrics(predictions, user_rated_movies, threshold=THRESHOLD, n=TOP_N):\n",
    "    def get_top_n(predictions, n=5):\n",
    "        top_n = defaultdict(list)\n",
    "        for uid, iid, true_r, est, _ in predictions:\n",
    "            if iid not in user_rated_movies.get(uid, []):\n",
    "                top_n[uid].append((iid, est, true_r))\n",
    "        for uid, user_ratings in top_n.items():\n",
    "            user_ratings.sort(key=lambda x: x[1], reverse=True)\n",
    "            top_n[uid] = [rating for rating in user_ratings if rating[1] >= threshold][:n]\n",
    "        return top_n\n",
    "\n",
    "    top_n = get_top_n(predictions, n)\n",
    "    y_true, y_pred = [], []\n",
    "\n",
    "    for uid, user_ratings in top_n.items():\n",
    "        for iid, est_rating, true_rating in user_ratings:\n",
    "            y_true.append(1 if true_rating >= threshold else 0)\n",
    "            y_pred.append(1 if est_rating >= threshold else 0)\n",
    "\n",
    "    if not y_true or not y_pred:\n",
    "        return 0.0, 0.0, 0.0\n",
    "\n",
    "    precision = precision_score(y_true, y_pred, zero_division=0)\n",
    "    recall = recall_score(y_true, y_pred, zero_division=0)\n",
    "    f1 = f1_score(y_true, y_pred, zero_division=0)\n",
    "\n",
    "    return precision, recall, f1\n",
    "\n",
    "# Function to print evaluation metrics\n",
    "def print_evaluation_metrics(predictions, user_rated_movies, threshold=THRESHOLD, n=TOP_N):\n",
    "    precision, recall, f1 = calculate_recommendation_metrics(predictions, user_rated_movies, threshold, n)\n",
    "\n",
    "    # Filter out seen movies for RMSE and MAE\n",
    "    filtered_predictions = [\n",
    "        (uid, iid, true_r, est)\n",
    "        for uid, iid, true_r, est, _ in predictions\n",
    "        if iid not in user_rated_movies.get(uid, []) and est >= threshold\n",
    "    ]\n",
    "    if not filtered_predictions:\n",
    "        logging.warning(\"No unseen predictions available for evaluation metrics.\")\n",
    "        print(\"No unseen predictions available for evaluation metrics.\")\n",
    "        return\n",
    "\n",
    "    true_ratings = [true_r for _, _, true_r, _ in filtered_predictions]\n",
    "    estimated_ratings = [est_r for _, _, _, est_r in filtered_predictions]\n",
    "\n",
    "    rmse = np.sqrt(mean_squared_error(true_ratings, estimated_ratings))\n",
    "    mae = mean_absolute_error(true_ratings, estimated_ratings)\n",
    "\n",
    "    logging.info(f\"RMSE: {rmse:.4f}\")\n",
    "    logging.info(f\"MAE: {mae:.4f}\")\n",
    "    logging.info(f\"Precision: {precision:.4f}\")\n",
    "    logging.info(f\"Recall: {recall:.4f}\")\n",
    "    logging.info(f\"F1-Score: {f1:.4f}\")\n",
    "\n",
    "    print(f\"RMSE: {rmse:.4f}\")\n",
    "    print(f\"MAE: {mae:.4f}\")\n",
    "    print(f\"Precision: {precision:.4f}\")\n",
    "    print(f\"Recall: {recall:.4f}\")\n",
    "    print(f\"F1-Score: {f1:.4f}\")\n",
    "\n",
    "# Train and evaluate SVD model with cross-validation\n",
    "def train_and_evaluate_svd(df):\n",
    "    reader = Reader(rating_scale=(0.5, 5.0))\n",
    "    data = Dataset.load_from_df(df[['userId', 'movieId', 'rating']], reader)\n",
    "\n",
    "    param_grid = {\n",
    "        'n_factors': [40, 50, 60],\n",
    "        'n_epochs': [30, 40, 50],\n",
    "        'lr_all': [0.005, 0.007, 0.01],\n",
    "        'reg_all': [0.1, 0.2]\n",
    "    }\n",
    "\n",
    "    random_search = RandomizedSearchCV(\n",
    "        SVD,\n",
    "        param_distributions=param_grid,\n",
    "        n_iter=10,\n",
    "        measures=['rmse', 'mae'],\n",
    "        cv=5,  # 5-Fold Cross-Validation\n",
    "        refit=True,\n",
    "        random_state=42,\n",
    "        n_jobs=-1\n",
    "    )\n",
    "\n",
    "    random_search.fit(data)\n",
    "\n",
    "    best_params = random_search.best_params['rmse']\n",
    "    best_model = random_search.best_estimator['rmse']\n",
    "\n",
    "    # Evaluate with cross-validation\n",
    "    kf = KFold(n_splits=5)\n",
    "    results = cross_validate(best_model, data, measures=['rmse', 'mae'], cv=kf, verbose=True)\n",
    "\n",
    "    logging.info(f\"Cross-Validation RMSE: {np.mean(results['test_rmse']):.4f}\")\n",
    "    logging.info(f\"Cross-Validation MAE: {np.mean(results['test_mae']):.4f}\")\n",
    "    logging.info(f\"Best Parameters: {best_params}\")\n",
    "\n",
    "    trainset = data.build_full_trainset()\n",
    "    best_model.fit(trainset)\n",
    "\n",
    "    testset = trainset.build_testset()\n",
    "    predictions = best_model.test(testset)\n",
    "\n",
    "    return best_model, predictions\n",
    "\n",
    "# Hybrid recommendation function combining SVD and content-based filtering\n",
    "def hybrid_user_recommendation_worker(user_id, df, svd_model, cosine_sim, movie_indices, weight_svd, weight_content, n, min_score):\n",
    "    svd_recs = [svd_model.predict(user_id, iid) for iid in df['movieId']]\n",
    "    \n",
    "    # Ensure unique recommendations per user\n",
    "    svd_recs = sorted(svd_recs, key=lambda x: x.est, reverse=True)\n",
    "    svd_recs = list({rec.iid: rec for rec in svd_recs if rec.est >= min_score}.values())\n",
    "\n",
    "    user_indices = df[df['userId'] == user_id].index\n",
    "    content_scores = []\n",
    "    for user_idx in user_indices:\n",
    "        sim_scores = list(enumerate(cosine_sim[user_idx]))\n",
    "        sim_scores_sorted = sorted(sim_scores, key=lambda x: x[1], reverse=True)\n",
    "        content_scores.extend([(df['movieId'][idx], score) for idx, score in sim_scores_sorted[:n]])\n",
    "\n",
    "    recommendations = []\n",
    "    seen_movies = set(df[df['userId'] == user_id]['movieId'])  # Movies already rated by the user\n",
    "    for iid, est_rating in [(rec.iid, rec.est) for rec in svd_recs if rec.iid not in seen_movies]:\n",
    "        content_score = next((score for mid, score in content_scores if mid == iid), 0)\n",
    "        combined_score = weight_svd * est_rating + weight_content * content_score\n",
    "        recommendations.append((iid, combined_score))\n",
    "\n",
    "    recommendations = sorted(recommendations, key=lambda x: x[1], reverse=True)[:n]\n",
    "    return [(user_id, rec[0], rec[1]) for rec in recommendations]\n",
    "\n",
    "# Hybrid recommendation function combining SVD and content-based filtering\n",
    "def hybrid_recommendation_to_screen(df, svd_model, test_users, weight_svd=0.7, weight_content=0.3, n=TOP_N, min_score=MIN_SCORE, batch_size=2000):\n",
    "    movie_indices = pd.Series(df.index, index=df['movieId']).drop_duplicates()\n",
    "\n",
    "    tfidf = TfidfVectorizer(max_features=TFIDF_MAX_FEATURES, stop_words='english')\n",
    "    tfidf_matrix = tfidf.fit_transform(df['genres'].fillna(''))\n",
    "    cosine_sim = linear_kernel(tfidf_matrix, tfidf_matrix)\n",
    "\n",
    "    all_recommendations = []\n",
    "\n",
    "    for i in range(0, len(test_users), batch_size):\n",
    "        batch_users = list(test_users)[i:i + batch_size]\n",
    "        batch_recommendations = Parallel(n_jobs=-1)(\n",
    "            delayed(hybrid_user_recommendation_worker)(\n",
    "                user_id, df, svd_model, cosine_sim, movie_indices, weight_svd, weight_content, n, min_score\n",
    "            )\n",
    "            for user_id in batch_users\n",
    "        )\n",
    "        all_recommendations.extend([item for sublist in batch_recommendations for item in sublist])\n",
    "\n",
    "    recommendations_df = pd.DataFrame(all_recommendations, columns=['UserID', 'MovieID', 'Score'])\n",
    "    \n",
    "    # Assign unique actual ratings per user\n",
    "    def assign_actual_rating(row):\n",
    "        actual_ratings = df[(df['userId'] == row['UserID']) & (df['movieId'] == row['MovieID'])]['rating'].values\n",
    "        return actual_ratings[0] if len(actual_ratings) > 0 else None\n",
    "\n",
    "    recommendations_df = recommendations_df.merge(df[['movieId', 'title']].drop_duplicates(), left_on='MovieID', right_on='movieId', how='left')\n",
    "    recommendations_df['Actual Rating'] = recommendations_df.apply(assign_actual_rating, axis=1)\n",
    "    recommendations_df.drop(columns=['movieId'], inplace=True)\n",
    "    return recommendations_df\n",
    "\n",
    "# Print top N recommendations for sample users\n",
    "def print_top_n_recommendations(recommendations_df, n=TOP_N):\n",
    "    unique_users = recommendations_df['UserID'].unique()\n",
    "    for user_id in unique_users[:5]:\n",
    "        user_recs = recommendations_df[recommendations_df['UserID'] == user_id]\n",
    "        print(f\"\\nTop {n} Recommendations for User {user_id}:\")\n",
    "        for _, row in user_recs.head(n).iterrows():\n",
    "            print(f\"  MovieID: {int(row['MovieID'])}, Title: {row['title']}, Recommended Score: {row['Score']:.2f}, Actual Rating: {row['Actual Rating']}\")\n",
    "\n",
    "# Plot RMSE, MAE, Precision, Recall, and F1-Score at different K-values\n",
    "def plot_metrics_at_k(svd_predictions, k_values, threshold=THRESHOLD):\n",
    "    def get_top_n(predictions, n):\n",
    "        \"\"\"Return top-N predictions for each user\"\"\"\n",
    "        top_n = defaultdict(list)\n",
    "        for uid, iid, true_r, est, _ in predictions:\n",
    "            top_n[uid].append((iid, est, true_r))\n",
    "        for uid, user_ratings in top_n.items():\n",
    "            user_ratings.sort(key=lambda x: x[1], reverse=True)\n",
    "            top_n[uid] = user_ratings[:n]\n",
    "        return top_n\n",
    "\n",
    "    rmse_values, mae_values = [], []\n",
    "    precision_values, recall_values, f1_values = [], [], []\n",
    "\n",
    "    for k in k_values:\n",
    "        top_n_predictions = get_top_n(svd_predictions, k)\n",
    "\n",
    "        # Prepare y_true and y_pred lists\n",
    "        y_true, y_pred = [], []\n",
    "        for uid, user_ratings in top_n_predictions.items():\n",
    "            for _, est_rating, true_rating in user_ratings:\n",
    "                y_true.append(1 if true_rating >= threshold else 0)\n",
    "                y_pred.append(1 if est_rating >= threshold else 0)\n",
    "\n",
    "        # Calculate Precision, Recall, and F1-Score\n",
    "        precision = precision_score(y_true, y_pred, zero_division=0)\n",
    "        recall = recall_score(y_true, y_pred, zero_division=0)\n",
    "        f1 = f1_score(y_true, y_pred, zero_division=0)\n",
    "\n",
    "        precision_values.append(precision)\n",
    "        recall_values.append(recall)\n",
    "        f1_values.append(f1)\n",
    "\n",
    "        # Calculate RMSE and MAE using the original prediction results\n",
    "        top_actual_ratings = [true_r for _, _, true_r in sum(top_n_predictions.values(), [])]\n",
    "        top_estimated_ratings = [est_r for _, est_r, _ in sum(top_n_predictions.values(), [])]\n",
    "\n",
    "        rmse_values.append(np.sqrt(mean_squared_error(top_actual_ratings, top_estimated_ratings)))\n",
    "        mae_values.append(mean_absolute_error(top_actual_ratings, top_estimated_ratings))\n",
    "\n",
    "    # Plot RMSE and MAE\n",
    "    fig, ax1 = plt.subplots(figsize=(10, 6))\n",
    "    ax1.plot(k_values, rmse_values, label='RMSE', color='tab:red')\n",
    "    ax1.plot(k_values, mae_values, label='MAE', color='tab:orange')\n",
    "    ax1.set_xlabel('K-Value')\n",
    "    ax1.set_ylabel('RMSE/MAE', color='tab:red')\n",
    "    ax1.legend(loc='upper left')\n",
    "    plt.title('RMSE and MAE at Different K-Values')\n",
    "    plt.show()\n",
    "\n",
    "    # Plot Precision, Recall, and F1-Score\n",
    "    fig, ax2 = plt.subplots(figsize=(10, 6))\n",
    "    ax2.plot(k_values, precision_values, label='Precision', color='tab:blue')\n",
    "    ax2.plot(k_values, recall_values, label='Recall', color='tab:green')\n",
    "    ax2.plot(f1_values, label='F1-Score', color='tab:purple')\n",
    "    ax2.set_xlabel('K-Value')\n",
    "    ax2.set_ylabel('Precision/Recall/F1-Score', color='tab:blue')\n",
    "    ax2.legend(loc='upper right')\n",
    "    plt.title('Precision, Recall, and F1-Score at Different K-Values')\n",
    "    plt.show()\n",
    "\n",
    "# Example Usage\n",
    "movies_file = '../data/movies.csv'\n",
    "ratings_file = '../data/ratings.csv'\n",
    "\n",
    "augmented_ratings_df = load_and_merge_data(movies_file, ratings_file, max_ratings=MAX_RATINGS)\n",
    "\n",
    "if augmented_ratings_df is not None:\n",
    "    augmented_ratings_df = preprocess_data(augmented_ratings_df)\n",
    "    augmented_ratings_df = add_user_genre_features(augmented_ratings_df)\n",
    "\n",
    "    best_svd_model, svd_predictions = train_and_evaluate_svd(augmented_ratings_df)\n",
    "\n",
    "    # Create a dictionary of already rated movies per user\n",
    "    user_rated_movies = defaultdict(list)\n",
    "    for row in augmented_ratings_df.itertuples():\n",
    "        user_rated_movies[row.userId].append(row.movieId)\n",
    "\n",
    "    # Get prediction results and evaluate\n",
    "    print_evaluation_metrics(svd_predictions, user_rated_movies, threshold=THRESHOLD, n=TOP_N)\n",
    "\n",
    "    # Extract unique test users from predictions\n",
    "    test_users = {pred[0] for pred in svd_predictions}\n",
    "\n",
    "    # Generate hybrid recommendations and print them to screen\n",
    "    recommendations_df = hybrid_recommendation_to_screen(augmented_ratings_df, best_svd_model, test_users, n=TOP_N)\n",
    "\n",
    "    # Print top 5 recommendations for 5 sample users\n",
    "    print_top_n_recommendations(recommendations_df, n=TOP_N)\n",
    "\n",
    "    # Plot RMSE, MAE, Precision, Recall, and F1-Score at Different K-Values\n",
    "    plot_metrics_at_k(svd_predictions, K_VALUES)\n",
    "else:\n",
    "    logging.error(\"Data loading failed, model training not performed.\")\n"
   ]
  },
  {
   "cell_type": "markdown",
   "id": "b7aa7004-54d3-41b8-bf71-d53a38cef258",
   "metadata": {},
   "source": [
    "# NEW BEST SO FAR"
   ]
  },
  {
   "cell_type": "code",
   "execution_count": 137,
   "id": "89c24177-988c-48c4-80c9-7bde112ac17b",
   "metadata": {
    "tags": []
   },
   "outputs": [
    {
     "name": "stderr",
     "output_type": "stream",
     "text": [
      "INFO:root:Data successfully merged and cleaned.\n",
      "INFO:root:Genre-based features added.\n",
      "INFO:root:User-genre interaction features added.\n",
      "INFO:root:Test RMSE: 0.9407\n",
      "INFO:root:Test MAE: 0.7405\n",
      "INFO:root:Best Parameters: {'n_factors': 60, 'n_epochs': 30, 'lr_all': 0.007, 'reg_all': 0.1, 'biased': True}\n",
      "INFO:root:RMSE: 0.9407, MAE: 0.7405, Precision: 0.7978, Recall: 0.2863, F1-Score: 0.4214\n"
     ]
    },
    {
     "name": "stdout",
     "output_type": "stream",
     "text": [
      "RMSE: 0.9407\n",
      "MAE:  0.7405\n",
      "RMSE: 0.9407, MAE: 0.7405, Precision: 0.7978, Recall: 0.2863, F1-Score: 0.4214\n",
      "\n",
      "Top 5 Recommendations for User 1:\n",
      "  MovieID: 68954, Title: Up (2009), Recommended Score: 3.52\n",
      "  MovieID: 4993, Title: Lord of the Rings: The Fellowship of the Ring, The (2001), Recommended Score: 3.51\n",
      "  MovieID: 750, Title: Dr. Strangelove or: How I Learned to Stop Worrying and Love the Bomb (1964), Recommended Score: 3.51\n",
      "  MovieID: 70946, Title: Troll 2 (1990), Recommended Score: 3.50\n",
      "  MovieID: 1250, Title: Bridge on the River Kwai, The (1957), Recommended Score: 3.50\n",
      "\n",
      "Top 5 Recommendations for User 2:\n",
      "  MovieID: 1197, Title: Princess Bride, The (1987), Recommended Score: 3.27\n",
      "  MovieID: 1250, Title: Bridge on the River Kwai, The (1957), Recommended Score: 3.25\n",
      "  MovieID: 260, Title: Star Wars: Episode IV - A New Hope (1977), Recommended Score: 3.19\n",
      "  MovieID: 1198, Title: Raiders of the Lost Ark (Indiana Jones and the Raiders of the Lost Ark) (1981), Recommended Score: 3.17\n",
      "  MovieID: 1584, Title: Contact (1997), Recommended Score: 3.16\n",
      "\n",
      "Top 5 Recommendations for User 3:\n",
      "  MovieID: 260, Title: Star Wars: Episode IV - A New Hope (1977), Recommended Score: 2.62\n",
      "  MovieID: 1240, Title: Terminator, The (1984), Recommended Score: 2.44\n",
      "  MovieID: 91529, Title: Dark Knight Rises, The (2012), Recommended Score: 2.43\n",
      "  MovieID: 913, Title: Maltese Falcon, The (1941), Recommended Score: 2.40\n",
      "  MovieID: 457, Title: Fugitive, The (1993), Recommended Score: 2.39\n",
      "\n",
      "Top 5 Recommendations for User 4:\n",
      "  MovieID: 356, Title: Forrest Gump (1994), Recommended Score: 3.13\n",
      "  MovieID: 1278, Title: Young Frankenstein (1974), Recommended Score: 3.08\n",
      "  MovieID: 1148, Title: Wallace & Gromit: The Wrong Trousers (1993), Recommended Score: 3.08\n",
      "  MovieID: 2161, Title: NeverEnding Story, The (1984), Recommended Score: 3.06\n",
      "  MovieID: 50, Title: Usual Suspects, The (1995), Recommended Score: 3.04\n",
      "\n",
      "Top 5 Recommendations for User 5:\n",
      "  MovieID: 260, Title: Star Wars: Episode IV - A New Hope (1977), Recommended Score: 3.23\n",
      "  MovieID: 1250, Title: Bridge on the River Kwai, The (1957), Recommended Score: 3.01\n",
      "  MovieID: 3147, Title: Green Mile, The (1999), Recommended Score: 2.99\n",
      "  MovieID: 1197, Title: Princess Bride, The (1987), Recommended Score: 2.96\n",
      "  MovieID: 1198, Title: Raiders of the Lost Ark (Indiana Jones and the Raiders of the Lost Ark) (1981), Recommended Score: 2.96\n"
     ]
    }
   ],
   "source": [
    "import pandas as pd\n",
    "import numpy as np\n",
    "from surprise import Dataset, Reader, SVD, accuracy\n",
    "from surprise.model_selection import RandomizedSearchCV, cross_validate, KFold\n",
    "from sklearn.feature_extraction.text import TfidfVectorizer\n",
    "from sklearn.metrics.pairwise import linear_kernel\n",
    "from sklearn.metrics import precision_score, recall_score, f1_score, mean_squared_error, mean_absolute_error\n",
    "from collections import defaultdict\n",
    "from joblib import Parallel, delayed\n",
    "import matplotlib.pyplot as plt\n",
    "import logging\n",
    "\n",
    "# Configure logging\n",
    "logging.basicConfig(level=logging.INFO)\n",
    "\n",
    "# Constants for easier configuration\n",
    "MAX_RATINGS = 10000\n",
    "TFIDF_MAX_FEATURES = 100\n",
    "TOP_N = 5\n",
    "THRESHOLD = 4.0\n",
    "MIN_SCORE = 3.0\n",
    "SVD_PARAM_GRID = {\n",
    "    'n_factors': [40, 50, 60],\n",
    "    'n_epochs': [30, 40, 50],\n",
    "    'lr_all': [0.005, 0.007, 0.01],\n",
    "    'reg_all': [0.1, 0.2]\n",
    "}\n",
    "SVD_FIXED_PARAMS = {'biased': [True]}\n",
    "K_VALUES = list(range(1, 11))\n",
    "\n",
    "# Function to load and merge data\n",
    "def load_and_merge_data(movies_file, ratings_file, max_ratings=MAX_RATINGS):\n",
    "    try:\n",
    "        movies_df = pd.read_csv(movies_file, usecols=['movieId', 'title', 'genres'])\n",
    "        ratings_df = pd.read_csv(ratings_file, usecols=['userId', 'movieId', 'rating']).head(max_ratings)\n",
    "\n",
    "        movies_df.drop_duplicates(subset=['movieId'], inplace=True)\n",
    "        ratings_df.drop_duplicates(subset=['userId', 'movieId'], inplace=True)\n",
    "\n",
    "        movies_df.fillna({'genres': '(no genres listed)'}, inplace=True)\n",
    "        ratings_df.dropna(subset=['userId', 'movieId', 'rating'], inplace=True)\n",
    "\n",
    "        merged_df = pd.merge(ratings_df, movies_df, on='movieId')\n",
    "        logging.info(\"Data successfully merged and cleaned.\")\n",
    "        return merged_df\n",
    "    except FileNotFoundError as e:\n",
    "        logging.error(f\"Error: {e}. File not found. Check the file paths.\")\n",
    "        return None\n",
    "    except Exception as e:\n",
    "        logging.error(f\"An unexpected error occurred: {e}\")\n",
    "        return None\n",
    "\n",
    "# Preprocess data by adding one-hot encoding for genres\n",
    "def preprocess_data(df):\n",
    "    if 'genres' in df.columns:\n",
    "        df['genres'] = df['genres'].replace('', '(no genres listed)')\n",
    "        genres_dummies = df['genres'].str.get_dummies(sep='|')\n",
    "        df = pd.concat([df, genres_dummies], axis=1)\n",
    "        logging.info(\"Genre-based features added.\")\n",
    "    else:\n",
    "        logging.error(\"Genres column not available for processing.\")\n",
    "    return df\n",
    "\n",
    "# Add user-genre interaction features to the dataset\n",
    "def add_user_genre_features(df):\n",
    "    if 'userId' in df.columns:\n",
    "        genre_columns = [col for col in df.columns if col not in ('user_mean_', 'title', 'movieId', 'userId', 'rating') and df[col].dtype in [np.float64, np.int64]]\n",
    "        \n",
    "        user_genre_means = df.groupby(['userId'])[genre_columns].mean()\n",
    "        user_genre_means.columns = [f'user_mean_{col}' for col in user_genre_means.columns]\n",
    "        \n",
    "        df = pd.merge(df, user_genre_means, on='userId', how='left')\n",
    "        logging.info(\"User-genre interaction features added.\")\n",
    "    else:\n",
    "        logging.error(\"UserId column not available for interaction features.\")\n",
    "    return df\n",
    "\n",
    "# Function to calculate recommendation metrics\n",
    "def calculate_recommendation_metrics(predictions, user_rated_movies, threshold=THRESHOLD, n=TOP_N):\n",
    "    def get_top_n(predictions, n=5):\n",
    "        top_n = defaultdict(list)\n",
    "        for uid, iid, true_r, est, _ in predictions:\n",
    "            if iid not in user_rated_movies.get(uid, []):\n",
    "                top_n[uid].append((iid, est, true_r))\n",
    "        for uid, user_ratings in top_n.items():\n",
    "            user_ratings.sort(key=lambda x: x[1], reverse=True)\n",
    "            top_n[uid] = [rating for rating in user_ratings if rating[1] >= threshold][:n]\n",
    "        return top_n\n",
    "\n",
    "    top_n = get_top_n(predictions, n)\n",
    "    y_true, y_pred = [], []\n",
    "\n",
    "    for uid, user_ratings in top_n.items():\n",
    "        for iid, est_rating, true_rating in user_ratings:\n",
    "            y_true.append(1 if true_rating >= threshold else 0)\n",
    "            y_pred.append(1 if est_rating >= threshold else 0)\n",
    "\n",
    "    if not y_true or not y_pred:\n",
    "        return 0.0, 0.0, 0.0\n",
    "\n",
    "    precision = precision_score(y_true, y_pred, zero_division=0)\n",
    "    recall = recall_score(y_true, y_pred, zero_division=0)\n",
    "    f1 = f1_score(y_true, y_pred, zero_division=0)\n",
    "\n",
    "    return precision, recall, f1\n",
    "\n",
    "\n",
    "# Function to calculate and print evaluation metrics for all predictions\n",
    "def print_evaluation_metrics(predictions):\n",
    "    # Extract actual and estimated ratings from predictions\n",
    "    true_ratings = [true_r for _, _, true_r, est, _ in predictions]\n",
    "    estimated_ratings = [est for _, _, _, est, _ in predictions]\n",
    "\n",
    "    # Calculate RMSE and MAE\n",
    "    rmse = np.sqrt(mean_squared_error(true_ratings, estimated_ratings))\n",
    "    mae = mean_absolute_error(true_ratings, estimated_ratings)\n",
    "\n",
    "    # Convert estimated ratings to a binary decision (1 if est >= 4.0, else 0)\n",
    "    y_pred = [1 if est >= 4.0 else 0 for est in estimated_ratings]\n",
    "    # Convert true ratings to a binary decision (1 if true_r >= 4.0, else 0)\n",
    "    y_true = [1 if true_r >= 4.0 else 0 for true_r in true_ratings]\n",
    "\n",
    "    # Calculate Precision, Recall, and F1 Score\n",
    "    precision = precision_score(y_true, y_pred, zero_division=0)\n",
    "    recall = recall_score(y_true, y_pred, zero_division=0)\n",
    "    f1 = f1_score(y_true, y_pred, zero_division=0)\n",
    "\n",
    "    # Log and print metrics\n",
    "    logging.info(f\"RMSE: {rmse:.4f}, MAE: {mae:.4f}, Precision: {precision:.4f}, Recall: {recall:.4f}, F1-Score: {f1:.4f}\")\n",
    "    print(f\"RMSE: {rmse:.4f}, MAE: {mae:.4f}, Precision: {precision:.4f}, Recall: {recall:.4f}, F1-Score: {f1:.4f}\")\n",
    "\n",
    "\n",
    "from surprise import Dataset, Reader, SVD\n",
    "from surprise.model_selection import GridSearchCV, train_test_split\n",
    "import logging\n",
    "\n",
    "def train_and_evaluate_svd(df):\n",
    "    reader = Reader(rating_scale=(0.5, 5.0))\n",
    "    data = Dataset.load_from_df(df[['userId', 'movieId', 'rating']], reader)\n",
    "\n",
    "    # Define the parameter grid including the 'biased' parameter\n",
    "    param_grid = {\n",
    "        'n_factors': [40, 50, 60],\n",
    "        'n_epochs': [30, 40, 50],\n",
    "        'lr_all': [0.005, 0.007, 0.01],\n",
    "        'reg_all': [0.1, 0.2],\n",
    "        'biased': [True, False]  # Including biased parameter\n",
    "    }\n",
    "\n",
    "    # Initialize GridSearchCV\n",
    "    grid_search = GridSearchCV(\n",
    "        SVD,\n",
    "        param_grid=param_grid,\n",
    "        measures=['rmse', 'mae'],\n",
    "        cv=5,  # 5-Fold Cross-Validation\n",
    "        refit=True,\n",
    "        n_jobs=-1\n",
    "    )\n",
    "\n",
    "    # Fit GridSearchCV on the whole dataset\n",
    "    grid_search.fit(data)\n",
    "\n",
    "    best_params = grid_search.best_params['rmse']\n",
    "    best_model = grid_search.best_estimator['rmse']\n",
    "\n",
    "    # Split the data into training and test set to evaluate the best model\n",
    "    trainset, testset = train_test_split(data, test_size=0.2, random_state=42)\n",
    "    best_model.fit(trainset)\n",
    "\n",
    "    # Evaluate the best model on the held-out test set\n",
    "    predictions = best_model.test(testset)\n",
    "    rmse = accuracy.rmse(predictions)\n",
    "    mae = accuracy.mae(predictions)\n",
    "\n",
    "    logging.info(f\"Test RMSE: {rmse:.4f}\")\n",
    "    logging.info(f\"Test MAE: {mae:.4f}\")\n",
    "    logging.info(f\"Best Parameters: {best_params}\")\n",
    "\n",
    "    return best_model, predictions\n",
    "\n",
    "# Example usage, assuming you have a DataFrame `df` ready to be processed.\n",
    "\n",
    "\n",
    "# Hybrid recommendation function combining SVD and content-based filtering\n",
    "def hybrid_user_recommendation_worker(user_id, df, svd_model, cosine_sim, movie_indices, weight_svd, weight_content, n, min_score):\n",
    "    svd_recs = [svd_model.predict(user_id, iid) for iid in df['movieId']]\n",
    "    \n",
    "    # Ensure unique recommendations per user\n",
    "    svd_recs = sorted(svd_recs, key=lambda x: x.est, reverse=True)\n",
    "    svd_recs = list({rec.iid: rec for rec in svd_recs if rec.est >= min_score}.values())\n",
    "\n",
    "    user_indices = df[df['userId'] == user_id].index\n",
    "    content_scores = []\n",
    "    for user_idx in user_indices:\n",
    "        sim_scores = list(enumerate(cosine_sim[user_idx]))\n",
    "        sim_scores_sorted = sorted(sim_scores, key=lambda x: x[1], reverse=True)\n",
    "        content_scores.extend([(df['movieId'][idx], score) for idx, score in sim_scores_sorted[:n]])\n",
    "\n",
    "    recommendations = []\n",
    "    seen_movies = set(df[df['userId'] == user_id]['movieId'])  # Movies already rated by the user\n",
    "    for iid, est_rating in [(rec.iid, rec.est) for rec in svd_recs if rec.iid not in seen_movies]:\n",
    "        content_score = next((score for mid, score in content_scores if mid == iid), 0)\n",
    "        combined_score = weight_svd * est_rating + weight_content * content_score\n",
    "        recommendations.append((iid, combined_score))\n",
    "\n",
    "    recommendations = sorted(recommendations, key=lambda x: x[1], reverse=True)[:n]\n",
    "    return [(user_id, rec[0], rec[1]) for rec in recommendations]\n",
    "\n",
    "# Hybrid recommendation function combining SVD and content-based filtering\n",
    "def hybrid_recommendation_to_screen(df, svd_model, test_users, weight_svd=0.7, weight_content=0.3, n=TOP_N, min_score=MIN_SCORE, batch_size=2000):\n",
    "    movie_indices = pd.Series(df.index, index=df['movieId']).drop_duplicates()\n",
    "\n",
    "    tfidf = TfidfVectorizer(max_features=TFIDF_MAX_FEATURES, stop_words='english')\n",
    "    tfidf_matrix = tfidf.fit_transform(df['genres'].fillna(''))\n",
    "    cosine_sim = linear_kernel(tfidf_matrix, tfidf_matrix)\n",
    "\n",
    "    all_recommendations = []\n",
    "\n",
    "    for i in range(0, len(test_users), batch_size):\n",
    "        batch_users = list(test_users)[i:i + batch_size]\n",
    "        batch_recommendations = Parallel(n_jobs=-1)(\n",
    "            delayed(hybrid_user_recommendation_worker)(\n",
    "                user_id, df, svd_model, cosine_sim, movie_indices, weight_svd, weight_content, n, min_score\n",
    "            )\n",
    "            for user_id in batch_users\n",
    "        )\n",
    "        all_recommendations.extend([item for sublist in batch_recommendations for item in sublist])\n",
    "\n",
    "    recommendations_df = pd.DataFrame(all_recommendations, columns=['UserID', 'MovieID', 'Score'])\n",
    "    \n",
    "    # Assign unique actual ratings per user\n",
    "    def assign_actual_rating(row):\n",
    "        actual_ratings = df[(df['userId'] == row['UserID']) & (df['movieId'] == row['MovieID'])]['rating'].values\n",
    "        return actual_ratings[0] if len(actual_ratings) > 0 else None\n",
    "\n",
    "    recommendations_df = recommendations_df.merge(df[['movieId', 'title']].drop_duplicates(), left_on='MovieID', right_on='movieId', how='left')\n",
    "    recommendations_df['Actual Rating'] = recommendations_df.apply(assign_actual_rating, axis=1)\n",
    "    recommendations_df.drop(columns=['movieId'], inplace=True)\n",
    "    return recommendations_df\n",
    "\n",
    "\n",
    "def print_top_n_recommendations(recommendations_df, n=TOP_N):\n",
    "    unique_users = recommendations_df['UserID']. unique()\n",
    "    for user_id in unique_users[:5]:\n",
    "        user_recs = recommendations_df[recommendations_df['UserID'] == user_id]\n",
    "        print(f\"\\nTop {n} Recommendations for User {user_id}:\")\n",
    "        for _, row in user_recs.head(n).iterrows():\n",
    "            print(f\"  MovieID: {int(row['MovieID'])}, Title: {row['title']}, Recommended Score: {row['Score']:.2f}\")\n",
    "\n",
    "# Example Usage\n",
    "movies_file = '../data/movies.csv'\n",
    "ratings_file = '../data/ratings.csv'\n",
    "\n",
    "augmented_ratings_df = load_and_merge_data(movies_file, ratings_file, max_ratings=MAX_RATINGS)\n",
    "\n",
    "if augmented_ratings_df is not None:\n",
    "    augmented_ratings_df = preprocess_data(augmented_ratings_df)\n",
    "    augmented_ratings_df = add_user_genre_features(augmented_ratings_df)\n",
    "\n",
    "    best_svd_model, svd_predictions = train_and_evaluate_svd(augmented_ratings_df)\n",
    "\n",
    "    # Create a dictionary of already rated movies per user\n",
    "    user_rated_movies = defaultdict(list)\n",
    "    for row in augmented_ratings_df.itertuples():\n",
    "        user_rated_movies[row.userId].append(row.movieId)\n",
    "        \n",
    "    # Example usage, assuming svd_predictions is available\n",
    "    # svd_predictions = [...]  # This should be a list of tuples (user_id, item_id, actual_rating, estimated_rating, other_info)\n",
    "    print_evaluation_metrics(svd_predictions)\n",
    "\n",
    "    # Extract unique test users from predictions\n",
    "    test_users = {pred[0] for pred in svd_predictions}\n",
    "\n",
    "    # Generate hybrid recommendations and print them to screen\n",
    "    recommendations_df = hybrid_recommendation_to_screen(augmented_ratings_df, best_svd_model, test_users, n=TOP_N)\n",
    "\n",
    "    # Print top 5 recommendations for 5 sample users\n",
    "    print_top_n_recommendations(recommendations_df, n=TOP_N)\n",
    "\n",
    "\n",
    "else:\n",
    "    logging.error(\"Data loading failed, model training not performed.\")\n"
   ]
  },
  {
   "cell_type": "code",
   "execution_count": null,
   "id": "9a229f1c-bafb-4729-bf8a-eb11072e2090",
   "metadata": {},
   "outputs": [],
   "source": []
  },
  {
   "cell_type": "code",
   "execution_count": null,
   "id": "2005da22-b870-4012-9a84-3c9466a87cb4",
   "metadata": {},
   "outputs": [],
   "source": []
  },
  {
   "cell_type": "code",
   "execution_count": 87,
   "id": "f68d2b5f-fcc1-4eab-9ff5-644842d71380",
   "metadata": {
    "tags": []
   },
   "outputs": [
    {
     "data": {
      "image/png": "[encoded data removed]",
      "text/plain": [
       "<Figure size 1000x600 with 1 Axes>"
      ]
     },
     "metadata": {},
     "output_type": "display_data"
    },
    {
     "data": {
      "image/png": "[encoded data removed]",
      "text/plain": [
       "<Figure size 1000x600 with 1 Axes>"
      ]
     },
     "metadata": {},
     "output_type": "display_data"
    }
   ],
   "source": [
    "# Plot RMSE, MAE, Precision, Recall, and F1-Score at different K-values\n",
    "def plot_metrics_at_k(svd_predictions, k_values, threshold=THRESHOLD):\n",
    "    def get_top_n(predictions, n):\n",
    "        \"\"\"Return top-N predictions for each user\"\"\"\n",
    "        top_n = defaultdict(list)\n",
    "        for uid, iid, true_r, est, _ in predictions:\n",
    "            top_n[uid].append((iid, est, true_r))\n",
    "        for uid, user_ratings in top_n.items():\n",
    "            user_ratings.sort(key=lambda x: x[1], reverse=True)\n",
    "            top_n[uid] = user_ratings[:n]\n",
    "        return top_n\n",
    "\n",
    "    rmse_values, mae_values = [], []\n",
    "    precision_values, recall_values, f1_values = [], [], []\n",
    "\n",
    "    for k in k_values:\n",
    "        top_n_predictions = get_top_n(svd_predictions, k)\n",
    "\n",
    "        # Prepare y_true and y_pred lists\n",
    "        y_true, y_pred = [], []\n",
    "        for uid, user_ratings in top_n_predictions.items():\n",
    "            for _, est_rating, true_rating in user_ratings:\n",
    "                y_true.append(1 if true_rating >= threshold else 0)\n",
    "                y_pred.append(1 if est_rating >= threshold else 0)\n",
    "\n",
    "        # Calculate Precision, Recall, and F1-Score\n",
    "        precision = precision_score(y_true, y_pred, zero_division=0)\n",
    "        recall = recall_score(y_true, y_pred, zero_division=0)\n",
    "        f1 = f1_score(y_true, y_pred, zero_division=0)\n",
    "\n",
    "        precision_values.append(precision)\n",
    "        recall_values.append(recall)\n",
    "        f1_values.append(f1)\n",
    "\n",
    "        # Calculate RMSE and MAE using the original prediction results\n",
    "        top_actual_ratings = [true_r for _, _, true_r in sum(top_n_predictions.values(), [])]\n",
    "        top_estimated_ratings = [est_r for _, est_r, _ in sum(top_n_predictions.values(), [])]\n",
    "\n",
    "        rmse_values.append(np.sqrt(mean_squared_error(top_actual_ratings, top_estimated_ratings)))\n",
    "        mae_values.append(mean_absolute_error(top_actual_ratings, top_estimated_ratings))\n",
    "\n",
    "    # Plot RMSE and MAE\n",
    "    fig, ax1 = plt.subplots(figsize=(10, 6))\n",
    "    ax1.plot(k_values, rmse_values, label='RMSE', color='tab:red')\n",
    "    ax1.plot(k_values, mae_values, label='MAE', color='tab:orange')\n",
    "    ax1.set_xlabel('K-Value')\n",
    "    ax1.set_ylabel('RMSE/MAE', color='tab:red')\n",
    "    ax1.legend(loc='upper left')\n",
    "    plt.title('RMSE and MAE at Different K-Values')\n",
    "    plt.show()\n",
    "\n",
    "    # Plot Precision, Recall, and F1-Score\n",
    "    fig, ax2 = plt.subplots(figsize=(10, 6))\n",
    "    ax2.plot(k_values, precision_values, label='Precision', color='tab:blue')\n",
    "    ax2.plot(k_values, recall_values, label='Recall', color='tab:green')\n",
    "    ax2.plot(f1_values, label='F1-Score', color='tab:purple')\n",
    "    ax2.set_xlabel('K-Value')\n",
    "    ax2.set_ylabel('Precision/Recall/F1-Score', color='tab:blue')\n",
    "    ax2.legend(loc='upper right')\n",
    "    plt.title('Precision, Recall, and F1-Score at Different K-Values')\n",
    "    plt.show()\n",
    "    \n",
    "    \n",
    "# Plot RMSE, MAE, Precision, Recall, and F1-Score at Different K-Values\n",
    "plot_metrics_at_k(svd_predictions, K_VALUES)"
   ]
  },
  {
   "cell_type": "code",
   "execution_count": null,
   "id": "33f8f6f2-0122-4764-b8e1-462f7070949f",
   "metadata": {},
   "outputs": [],
   "source": []
  },
  {
   "cell_type": "code",
   "execution_count": null,
   "id": "a6d9df34-cb5b-477e-86e8-77a7f648fe81",
   "metadata": {},
   "outputs": [],
   "source": []
  },
  {
   "cell_type": "code",
   "execution_count": null,
   "id": "daa91ffc-b3c5-4f8e-a0ab-f0a4e585b802",
   "metadata": {},
   "outputs": [],
   "source": []
  },
  {
   "cell_type": "code",
   "execution_count": null,
   "id": "5cee21d4-8364-4265-8f46-957dcd5808c8",
   "metadata": {},
   "outputs": [],
   "source": []
  },
  {
   "cell_type": "code",
   "execution_count": null,
   "id": "9d778638-121c-4a33-920b-9e00d849cabd",
   "metadata": {},
   "outputs": [],
   "source": []
  },
  {
   "cell_type": "markdown",
   "id": "790a7151-de1a-4a78-84c2-cccbeb971b9b",
   "metadata": {},
   "source": [
    "# Additional Testing"
   ]
  },
  {
   "cell_type": "code",
   "execution_count": 164,
   "id": "f1945d3d-2377-4c53-b8cd-710833e2ef07",
   "metadata": {
    "tags": []
   },
   "outputs": [
    {
     "name": "stderr",
     "output_type": "stream",
     "text": [
      "INFO:root:Data successfully merged and cleaned.\n",
      "INFO:root:Test RMSE: 0.8489\n",
      "INFO:root:Test MAE: 0.6481\n",
      "INFO:root:Best Parameters: {'n_factors': 150, 'n_epochs': 75, 'lr_all': 0.01, 'reg_all': 0.1}\n",
      "INFO:root:RMSE: 0.8489, MAE: 0.6481, Precision: 0.8075, Recall: 0.7220, F1-Score: 0.7624\n"
     ]
    },
    {
     "name": "stdout",
     "output_type": "stream",
     "text": [
      "RMSE: 0.8489\n",
      "MAE:  0.6481\n",
      "RMSE: 0.8489, MAE: 0.6481, Precision: 0.8075, Recall: 0.7220, F1-Score: 0.7624\n"
     ]
    }
   ],
   "source": [
    "import pandas as pd\n",
    "import numpy as np\n",
    "from surprise import Dataset, Reader, SVD, accuracy\n",
    "from surprise.model_selection import RandomizedSearchCV, cross_validate, KFold, GridSearchCV, train_test_split\n",
    "from sklearn.metrics import precision_score, recall_score, f1_score, mean_squared_error, mean_absolute_error\n",
    "from collections import defaultdict\n",
    "import logging\n",
    "\n",
    "# Configure logging\n",
    "logging.basicConfig(level=logging.INFO)\n",
    "\n",
    "# Constants for easier configuration\n",
    "MAX_RATINGS = None\n",
    "TOP_N = 5\n",
    "THRESHOLD = 3.5\n",
    "SVD_PARAM_GRID = {\n",
    "    'n_factors': [50, 75, 100, 150],\n",
    "    'n_epochs': [50, 75, 100],\n",
    "    'lr_all': [0.01, 0.02, 0.03],\n",
    "    'reg_all': [0.05, 0.1, 0.2]\n",
    "}\n",
    "\n",
    "# Function to load and merge data\n",
    "def load_and_merge_data(movies_file, ratings_file, max_ratings=MAX_RATINGS):\n",
    "    try:\n",
    "        movies_df = pd.read_csv(movies_file, usecols=['movieId', 'title', 'genres'])\n",
    "        ratings_df = pd.read_csv(ratings_file, usecols=['userId', 'movieId', 'rating']).head(max_ratings)\n",
    "\n",
    "        movies_df.drop_duplicates(subset=['movieId'], inplace=True)\n",
    "        ratings_df.drop_duplicates(subset=['userId', 'movieId'], inplace=True)\n",
    "\n",
    "        merged_df = pd.merge(ratings_df, movies_df, on='movieId')\n",
    "        logging.info(\"Data successfully merged and cleaned.\")\n",
    "        return merged_df\n",
    "    except FileNotFoundError as e:\n",
    "        logging.error(f\"Error: {e}. File not found. Check the file paths.\")\n",
    "        return None\n",
    "    except Exception as e:\n",
    "        logging.error(f\"An unexpected error occurred: {e}\")\n",
    "        return None\n",
    "\n",
    "# Function to train and evaluate SVD model\n",
    "def train_and_evaluate_svd(df):\n",
    "    reader = Reader(rating_scale=(0.5, 5.0))\n",
    "    data = Dataset.load_from_df(df[['userId', 'movieId', 'rating']], reader)\n",
    "\n",
    "    param_grid = SVD_PARAM_GRID\n",
    "\n",
    "    grid_search = GridSearchCV(\n",
    "        SVD,\n",
    "        param_grid=param_grid,\n",
    "        measures=['rmse', 'mae'],\n",
    "        cv=5,  # 5-Fold Cross-Validation\n",
    "        refit=True,\n",
    "        n_jobs=-1\n",
    "    )\n",
    "\n",
    "    grid_search.fit(data)\n",
    "\n",
    "    best_params = grid_search.best_params['rmse']\n",
    "    best_model = grid_search.best_estimator['rmse']\n",
    "\n",
    "    trainset, testset = train_test_split(data, test_size=0.2, random_state=42)\n",
    "    best_model.fit(trainset)\n",
    "\n",
    "    predictions = best_model.test(testset)\n",
    "    rmse = accuracy.rmse(predictions)\n",
    "    mae = accuracy.mae(predictions)\n",
    "\n",
    "    logging.info(f\"Test RMSE: {rmse:.4f}\")\n",
    "    logging.info(f\"Test MAE: {mae:.4f}\")\n",
    "    logging.info(f\"Best Parameters: {best_params}\")\n",
    "\n",
    "    return best_model, predictions\n",
    "\n",
    "# Function to print evaluation metrics\n",
    "def print_evaluation_metrics(predictions):\n",
    "    true_ratings = [true_r for _, _, true_r, est, _ in predictions]\n",
    "    estimated_ratings = [est for _, _, _, est, _ in predictions]\n",
    "\n",
    "    rmse = np.sqrt(mean_squared_error(true_ratings, estimated_ratings))\n",
    "    mae = mean_absolute_error(true_ratings, estimated_ratings)\n",
    "\n",
    "    y_pred = [1 if est >= THRESHOLD else 0 for est in estimated_ratings]\n",
    "    y_true = [1 if true_r >= THRESHOLD else 0 for true_r in true_ratings]\n",
    "\n",
    "    precision = precision_score(y_true, y_pred, zero_division=0)\n",
    "    recall = recall_score(y_true, y_pred, zero_division=0)\n",
    "    f1 = f1_score(y_true, y_pred, zero_division=0)\n",
    "\n",
    "    logging.info(f\"RMSE: {rmse:.4f}, MAE: {mae:.4f}, Precision: {precision:.4f}, Recall: {recall:.4f}, F1-Score: {f1:.4f}\")\n",
    "    print(f\"RMSE: {rmse:.4f}, MAE: {mae:.4f}, Precision: {precision:.4f}, Recall: {recall:.4f}, F1-Score: {f1:.4f}\")\n",
    "\n",
    "# Example usage and additional utility functions would go here...\n",
    "\n",
    "# Note: All function calls have been commented out to prevent execution in the PCI.\n",
    "\n",
    "\n",
    "# Assuming the necessary imports and functions are defined as above.\n",
    "\n",
    "# File paths\n",
    "movies_file = '../data/movies.csv'  # Update with your actual file path\n",
    "ratings_file = '../data/ratings.csv'  # Update with your actual file path\n",
    "\n",
    "# Load and merge movie and rating data\n",
    "merged_df = load_and_merge_data(movies_file, ratings_file)\n",
    "\n",
    "if merged_df is not None:\n",
    "    # Train and evaluate the SVD model\n",
    "    best_svd_model, svd_predictions = train_and_evaluate_svd(merged_df)\n",
    "    \n",
    "    # Print evaluation metrics for the model\n",
    "    print_evaluation_metrics(svd_predictions)\n",
    "else:\n",
    "    logging.error(\"Data loading failed, model training not performed.\")\n",
    "\n",
    "\n"
   ]
  },
  {
   "cell_type": "code",
   "execution_count": 176,
   "id": "6bfd9676-b3b4-44b7-8932-96a2457608a8",
   "metadata": {
    "tags": []
   },
   "outputs": [
    {
     "name": "stdout",
     "output_type": "stream",
     "text": [
      "User 1 Recommendations:\n",
      "Movie ID: 318, Title: Shawshank Redemption, The (1994), Predicted Rating: 5.0\n",
      "Movie ID: 951, Title: His Girl Friday (1940), Predicted Rating: 5.0\n",
      "Movie ID: 1041, Title: Secrets & Lies (1996), Predicted Rating: 5.0\n",
      "Movie ID: 1104, Title: Streetcar Named Desire, A (1951), Predicted Rating: 5.0\n",
      "Movie ID: 1178, Title: Paths of Glory (1957), Predicted Rating: 5.0\n",
      "\n",
      "User 5 Recommendations:\n",
      "Movie ID: 1178, Title: Paths of Glory (1957), Predicted Rating: 4.59529215622286\n",
      "Movie ID: 60943, Title: Frozen River (2008), Predicted Rating: 4.5646400975391614\n",
      "Movie ID: 132333, Title: Seve (2014), Predicted Rating: 4.524525223963137\n",
      "Movie ID: 2239, Title: Swept Away (Travolti da un insolito destino nell'azzurro mare d'Agosto) (1975), Predicted Rating: 4.51091976883614\n",
      "Movie ID: 99, Title: Heidi Fleiss: Hollywood Madam (1995), Predicted Rating: 4.506324044237156\n",
      "\n",
      "User 7 Recommendations:\n",
      "Movie ID: 6818, Title: Come and See (Idi i smotri) (1985), Predicted Rating: 4.456634112971283\n",
      "Movie ID: 71899, Title: Mary and Max (2009), Predicted Rating: 4.433487052021143\n",
      "Movie ID: 1212, Title: Third Man, The (1949), Predicted Rating: 4.433068340603492\n",
      "Movie ID: 1178, Title: Paths of Glory (1957), Predicted Rating: 4.405964146448827\n",
      "Movie ID: 27156, Title: Neon Genesis Evangelion: The End of Evangelion (Shin seiki Evangelion Gekijô-ban: Air/Magokoro wo, kimi ni) (1997), Predicted Rating: 4.391190931311522\n",
      "\n",
      "User 15 Recommendations:\n",
      "Movie ID: 27156, Title: Neon Genesis Evangelion: The End of Evangelion (Shin seiki Evangelion Gekijô-ban: Air/Magokoro wo, kimi ni) (1997), Predicted Rating: 4.476097219370812\n",
      "Movie ID: 185135, Title: Sherlock - A Study in Pink (2010), Predicted Rating: 4.405924497245507\n",
      "Movie ID: 27611, Title: Battlestar Galactica (2003), Predicted Rating: 4.401971148964231\n",
      "Movie ID: 171495, Title: Cosmos, Predicted Rating: 4.374303745336037\n",
      "Movie ID: 4429, Title: Moby Dick (1956), Predicted Rating: 4.3526518141494766\n",
      "\n",
      "User 17 Recommendations:\n",
      "Movie ID: 27156, Title: Neon Genesis Evangelion: The End of Evangelion (Shin seiki Evangelion Gekijô-ban: Air/Magokoro wo, kimi ni) (1997), Predicted Rating: 4.891093206676306\n",
      "Movie ID: 177593, Title: Three Billboards Outside Ebbing, Missouri (2017), Predicted Rating: 4.812294536121511\n",
      "Movie ID: 1178, Title: Paths of Glory (1957), Predicted Rating: 4.803149768422858\n",
      "Movie ID: 3814, Title: Love and Death (1975), Predicted Rating: 4.799668368144624\n",
      "Movie ID: 171495, Title: Cosmos, Predicted Rating: 4.756646674247729\n",
      "\n",
      "User 18 Recommendations:\n",
      "Movie ID: 1178, Title: Paths of Glory (1957), Predicted Rating: 4.64761539436551\n",
      "Movie ID: 27156, Title: Neon Genesis Evangelion: The End of Evangelion (Shin seiki Evangelion Gekijô-ban: Air/Magokoro wo, kimi ni) (1997), Predicted Rating: 4.615397640591187\n",
      "Movie ID: 3451, Title: Guess Who's Coming to Dinner (1967), Predicted Rating: 4.5788549133660625\n",
      "Movie ID: 5915, Title: Victory (a.k.a. Escape to Victory) (1981), Predicted Rating: 4.550812448648048\n",
      "Movie ID: 171495, Title: Cosmos, Predicted Rating: 4.535300129555896\n",
      "\n",
      "User 19 Recommendations:\n",
      "Movie ID: 1178, Title: Paths of Glory (1957), Predicted Rating: 4.15511277999471\n",
      "Movie ID: 3814, Title: Love and Death (1975), Predicted Rating: 4.092173507831964\n",
      "Movie ID: 26326, Title: Holy Mountain, The (Montaña sagrada, La) (1973), Predicted Rating: 4.052247964269286\n",
      "Movie ID: 1223, Title: Grand Day Out with Wallace and Gromit, A (1989), Predicted Rating: 4.0256711779973235\n",
      "Movie ID: 27156, Title: Neon Genesis Evangelion: The End of Evangelion (Shin seiki Evangelion Gekijô-ban: Air/Magokoro wo, kimi ni) (1997), Predicted Rating: 4.0187697386298575\n",
      "\n",
      "User 21 Recommendations:\n",
      "Movie ID: 1178, Title: Paths of Glory (1957), Predicted Rating: 4.291943645108965\n",
      "Movie ID: 53578, Title: Valet, The (La doublure) (2006), Predicted Rating: 4.264142023203922\n",
      "Movie ID: 3086, Title: Babes in Toyland (1934), Predicted Rating: 4.2531731262545005\n",
      "Movie ID: 51931, Title: Reign Over Me (2007), Predicted Rating: 4.250893301855906\n",
      "Movie ID: 98154, Title: Lincoln (2012), Predicted Rating: 4.2438434307005535\n",
      "\n",
      "User 27 Recommendations:\n",
      "Movie ID: 185135, Title: Sherlock - A Study in Pink (2010), Predicted Rating: 4.568954687326427\n",
      "Movie ID: 7121, Title: Adam's Rib (1949), Predicted Rating: 4.536629820593361\n",
      "Movie ID: 1939, Title: Best Years of Our Lives, The (1946), Predicted Rating: 4.516772186182981\n",
      "Movie ID: 171495, Title: Cosmos, Predicted Rating: 4.514760744618172\n",
      "Movie ID: 26326, Title: Holy Mountain, The (Montaña sagrada, La) (1973), Predicted Rating: 4.501189608870251\n",
      "\n",
      "User 31 Recommendations:\n",
      "Movie ID: 26326, Title: Holy Mountain, The (Montaña sagrada, La) (1973), Predicted Rating: 4.91164419901408\n",
      "Movie ID: 3086, Title: Babes in Toyland (1934), Predicted Rating: 4.877825979375357\n",
      "Movie ID: 6818, Title: Come and See (Idi i smotri) (1985), Predicted Rating: 4.824641886193466\n",
      "Movie ID: 6666, Title: Discreet Charm of the Bourgeoisie, The (Charme discret de la bourgeoisie, Le) (1972), Predicted Rating: 4.814562034171848\n",
      "Movie ID: 7767, Title: Best of Youth, The (La meglio gioventù) (2003), Predicted Rating: 4.806655432584525\n",
      "\n"
     ]
    }
   ],
   "source": [
    "def get_top_n_recommendations_with_titles(model, df, movies_df, n=5):\n",
    "    top_n = defaultdict(list)\n",
    "    user_ids = df['userId'].unique()\n",
    "    \n",
    "    # Create a dictionary mapping movie IDs to movie titles\n",
    "    movie_titles = dict(zip(movies_df['movieId'], movies_df['title']))\n",
    "    \n",
    "    for user_id in user_ids:\n",
    "        user_movies = df[df['userId'] == user_id]['movieId'].unique()\n",
    "        for movie_id in movies_df['movieId'].unique():\n",
    "            if movie_id not in user_movies:\n",
    "                rating = model.predict(user_id, movie_id).est\n",
    "                top_n[user_id].append((movie_id, rating))\n",
    "    \n",
    "    for user_id, ratings in top_n.items():\n",
    "        ratings.sort(key=lambda x: x[1], reverse=True)\n",
    "        recommendations = []\n",
    "        for movie_id, rating in ratings[:n]:\n",
    "            title = movie_titles.get(movie_id, \"Unknown\")\n",
    "            recommendations.append((movie_id, title, rating))\n",
    "        top_n[user_id] = recommendations\n",
    "    \n",
    "    return top_n\n",
    "\n",
    "# Example usage:\n",
    "top_n_recommendations_with_titles = get_top_n_recommendations_with_titles(best_svd_model, merged_df, movies_df)\n",
    "for user_id, recommendations in list(top_n_recommendations_with_titles.items())[:10]:\n",
    "    print(f\"User {user_id} Recommendations:\")\n",
    "    for movie_id, title, rating in recommendations:\n",
    "        print(f\"Movie ID: {movie_id}, Title: {title}, Predicted Rating: {rating}\")\n",
    "    print()\n"
   ]
  },
  {
   "cell_type": "code",
   "execution_count": null,
   "id": "ed117b92-3c02-4432-b95d-bf8e3d6ee95e",
   "metadata": {},
   "outputs": [],
   "source": []
  },
  {
   "cell_type": "markdown",
   "id": "1e0bc48b-bc88-4b9f-865a-cf5e82dba186",
   "metadata": {
    "tags": []
   },
   "source": [
    "# NEW"
   ]
  },
  {
   "cell_type": "code",
   "execution_count": null,
   "id": "cbb4b3cd-8cc2-4143-98dc-294c9dc766fc",
   "metadata": {},
   "outputs": [],
   "source": []
  },
  {
   "cell_type": "code",
   "execution_count": 1,
   "id": "e497eb32-f9bc-4895-b5d2-5a53731141ea",
   "metadata": {
    "tags": []
   },
   "outputs": [
    {
     "name": "stderr",
     "output_type": "stream",
     "text": [
      "INFO:root:Data successfully merged and cleaned.\n",
      "INFO:root:RMSE: 0.8482, MAE: 0.6482, Precision: 0.8377, Recall: 0.3638, F1-Score: 0.5073\n"
     ]
    },
    {
     "name": "stdout",
     "output_type": "stream",
     "text": [
      "RMSE: 0.8482, MAE: 0.6482, Precision: 0.8377, Recall: 0.3638, F1-Score: 0.5073\n",
      "Top recommendations for User 1:\n",
      "  Movie: Shawshank Redemption, The (1994), Rating: 5.00\n",
      "  Movie: Good Will Hunting (1997), Rating: 5.00\n",
      "  Movie: Departed, The (2006), Rating: 5.00\n",
      "  Movie: Dark Knight, The (2008), Rating: 5.00\n",
      "  Movie: Inglourious Basterds (2009), Rating: 5.00\n",
      "Top recommendations for User 5:\n",
      "  Movie: Wallace & Gromit: The Best of Aardman Animation (1996), Rating: 4.91\n",
      "  Movie: Beloved (1998), Rating: 4.89\n",
      "  Movie: Last Detail, The (1973), Rating: 4.86\n",
      "  Movie: Crossing Delancey (1988), Rating: 4.84\n",
      "  Movie: My Dinner with André (1981), Rating: 4.84\n",
      "Top recommendations for User 7:\n",
      "  Movie: Holy Mountain, The (Montaña sagrada, La) (1973), Rating: 4.90\n",
      "  Movie: Lady Jane (1986), Rating: 4.88\n",
      "  Movie: Celebration, The (Festen) (1998), Rating: 4.85\n",
      "  Movie: Neon Genesis Evangelion: The End of Evangelion (Shin seiki Evangelion Gekijô-ban: Air/Magokoro wo, kimi ni) (1997), Rating: 4.83\n",
      "  Movie: Five Easy Pieces (1970), Rating: 4.82\n",
      "Top recommendations for User 15:\n",
      "  Movie: Battlestar Galactica (2003), Rating: 5.00\n",
      "  Movie: Cinema Paradiso (Nuovo cinema Paradiso) (1989), Rating: 4.91\n",
      "  Movie: Shutter Island (2010), Rating: 4.83\n",
      "  Movie: Best of Youth, The (La meglio gioventù) (2003), Rating: 4.83\n",
      "  Movie: Babette's Feast (Babettes gæstebud) (1987), Rating: 4.81\n",
      "Top recommendations for User 17:\n",
      "  Movie: Battlestar Galactica (2003), Rating: 5.00\n",
      "  Movie: Mary and Max (2009), Rating: 5.00\n",
      "  Movie: Three Billboards Outside Ebbing, Missouri (2017), Rating: 5.00\n",
      "  Movie: Neon Genesis Evangelion: The End of Evangelion (Shin seiki Evangelion Gekijô-ban: Air/Magokoro wo, kimi ni) (1997), Rating: 5.00\n",
      "  Movie: Band of Brothers (2001), Rating: 5.00\n"
     ]
    }
   ],
   "source": [
    "import pandas as pd\n",
    "import numpy as np\n",
    "from surprise import Dataset, Reader, SVD, accuracy\n",
    "from surprise.model_selection import train_test_split, GridSearchCV\n",
    "from sklearn.metrics import mean_squared_error, mean_absolute_error, precision_score, recall_score, f1_score\n",
    "from collections import defaultdict\n",
    "import logging\n",
    "import re\n",
    "\n",
    "# Configure logging\n",
    "logging.basicConfig(level=logging.INFO)\n",
    "\n",
    "# Constants for easier configuration\n",
    "MAX_RATINGS = None\n",
    "TOP_N = 5\n",
    "THRESHOLD = 4.0\n",
    "SVD_PARAM_GRID = {\n",
    "    'n_factors': [50, 75, 100, 150],\n",
    "    'n_epochs': [50, 75, 100],\n",
    "    'lr_all': [0.01, 0.02, 0.03],\n",
    "    'reg_all': [0.05, 0.1, 0.2]\n",
    "}\n",
    "\n",
    "def load_and_merge_data(movies_file, ratings_file, max_ratings=MAX_RATINGS):\n",
    "    try:\n",
    "        movies_df = pd.read_csv(movies_file, usecols=['movieId', 'title', 'genres'])\n",
    "        ratings_df = pd.read_csv(ratings_file, usecols=['userId', 'movieId', 'rating', 'timestamp']).head(max_ratings)\n",
    "        movies_df.drop_duplicates(subset='movieId', inplace=True)\n",
    "        ratings_df.drop_duplicates(subset=['userId', 'movieId'], inplace=True)\n",
    "        ratings_df['timestamp'] = pd.to_datetime(ratings_df['timestamp'], unit='s')\n",
    "        movies_df['year'] = movies_df['title'].apply(extract_release_year)\n",
    "        merged_df = pd.merge(ratings_df, movies_df, on='movieId')\n",
    "        logging.info(\"Data successfully merged and cleaned.\")\n",
    "        return merged_df\n",
    "    except FileNotFoundError as e:\n",
    "        logging.error(f\"Error: {e}. File not found. Check the file paths.\")\n",
    "        return None\n",
    "    except Exception as e:\n",
    "        logging.error(f\"An unexpected error occurred: {e}\")\n",
    "        return None\n",
    "\n",
    "def extract_release_year(title):\n",
    "    match = re.search(r'\\((\\d{4})\\)', title)\n",
    "    if match:\n",
    "        return int(match.group(1))\n",
    "    return None\n",
    "\n",
    "def train_and_evaluate_svd(df):\n",
    "    reader = Reader(rating_scale=(0.5, 5.0))\n",
    "    data = Dataset.load_from_df(df[['userId', 'movieId', 'rating']], reader)\n",
    "    grid_search = GridSearchCV(SVD, param_grid=SVD_PARAM_GRID, measures=['rmse', 'mae'], cv=5, refit=True, n_jobs=-1)\n",
    "    grid_search.fit(data)\n",
    "    best_model = grid_search.best_estimator['rmse']\n",
    "    trainset, testset = train_test_split(data, test_size=0.2, random_state=42)\n",
    "    best_model.fit(trainset)\n",
    "    predictions = best_model.test(testset)\n",
    "    return best_model, predictions\n",
    "\n",
    "def print_evaluation_metrics(predictions):\n",
    "    true_ratings = [true_r for _, _, true_r, est, _ in predictions]\n",
    "    estimated_ratings = [est for _, _, _, est, _ in predictions]\n",
    "    rmse = np.sqrt(mean_squared_error(true_ratings, estimated_ratings))\n",
    "    mae = mean_absolute_error(true_ratings, estimated_ratings)\n",
    "    y_pred = [1 if est >= THRESHOLD else 0 for est in estimated_ratings]\n",
    "    y_true = [1 if true_r >= THRESHOLD else 0 for true_r in true_ratings]\n",
    "    precision = precision_score(y_true, y_pred, zero_division=0)\n",
    "    recall = recall_score(y_true, y_pred, zero_division=0)\n",
    "    f1 = f1_score(y_true, y_pred, zero_division=0)\n",
    "    logging.info(f\"RMSE: {rmse:.4f}, MAE: {mae:.4f}, Precision: {precision:.4f}, Recall: {recall:.4f}, F1-Score: {f1:.4f}\")\n",
    "    print(f\"RMSE: {rmse:.4f}, MAE: {mae:.4f}, Precision: {precision:.4f}, Recall: {recall:.4f}, F1-Score: {f1:.4f}\")\n",
    "\n",
    "def get_genre_preferences(df):\n",
    "    genre_preferences = defaultdict(lambda: defaultdict(list))\n",
    "    for index, row in df.iterrows():\n",
    "        genres = row['genres'].split('|')\n",
    "        for genre in genres:\n",
    "            genre_preferences[row['userId']][genre].append(row['rating'])\n",
    "    genre_avg = {user: {genre: np.mean(ratings) for genre, ratings in genres.items()} for user, genres in genre_preferences.items()}\n",
    "    return genre_avg\n",
    "\n",
    "def get_top_n_genre_and_year_aware_recommendations(model, df, movies_df, user_genre_prefs, n=5, year_weight=0.01, genre_weight=0.5):\n",
    "    top_n = defaultdict(list)\n",
    "    user_ids = df['userId'].unique()\n",
    "    current_year = pd.Timestamp.now().year\n",
    "    movies_df = movies_df.drop_duplicates(subset='movieId', keep='first')\n",
    "    movie_info = movies_df.set_index('movieId')[['genres', 'year']].to_dict(orient='index')\n",
    "    for user_id in user_ids:\n",
    "        user_movies = df[df['userId'] == user_id]['movieId'].unique()\n",
    "        genre_prefs = user_genre_prefs.get(user_id, {})\n",
    "        for movie_id in movies_df['movieId'].unique():\n",
    "            if movie_id not in user_movies:\n",
    "                predicted_rating = model.predict(user_id, movie_id).est\n",
    "                genres = movie_info[movie_id]['genres'].split('|')\n",
    "                year = movie_info[movie_id]['year']\n",
    "                genre_rating_boost = np.mean([genre_prefs.get(genre, 0) for genre in genres]) if genres else 0\n",
    "                normalized_genre_boost = genre_rating_boost * genre_weight / max(1, np.max([genre_prefs.get(genre, 0) for genre in genres]))\n",
    "                predicted_rating += normalized_genre_boost\n",
    "                if year and year > 1900:\n",
    "                    age = current_year - year\n",
    "                    recency_factor = np.exp(-year_weight * age)\n",
    "                    predicted_rating *= recency_factor\n",
    "                adjusted_rating = min(predicted_rating, 5.0)  # Clamp to max rating\n",
    "                top_n[user_id].append((movie_id, adjusted_rating))\n",
    "        top_n[user_id] = sorted(top_n[user_id], key=lambda x: x[1], reverse=True)[:n]\n",
    "    return top_n\n",
    "\n",
    "# Main Execution\n",
    "movies_file = '../data/movies.csv'\n",
    "ratings_file = '../data/ratings.csv'\n",
    "merged_df = load_and_merge_data(movies_file, ratings_file)\n",
    "if merged_df is not None:\n",
    "    best_model, predictions = train_and_evaluate_svd(merged_df)\n",
    "    print_evaluation_metrics(predictions)\n",
    "    user_genre_preferences = get_genre_preferences(merged_df)\n",
    "    recommended_items = get_top_n_genre_and_year_aware_recommendations(best_model, merged_df, merged_df, user_genre_preferences, n=5, year_weight=0.0005)\n",
    "    for user_id, items in list(recommended_items.items())[:5]:\n",
    "        print(f\"Top recommendations for User {user_id}:\")\n",
    "        for movie_id, rating in items:\n",
    "            movie_title = merged_df.loc[merged_df['movieId'] == movie_id, 'title'].iloc[0]\n",
    "            print(f\"  Movie: {movie_title}, Rating: {rating:.2f}\")\n",
    "else:\n",
    "    logging.error(\"Data loading failed, model training not performed.\")\n"
   ]
  },
  {
   "cell_type": "code",
   "execution_count": null,
   "id": "03019039-967c-4ba9-a542-b275dbebe13c",
   "metadata": {},
   "outputs": [],
   "source": []
  },
  {
   "cell_type": "code",
   "execution_count": null,
   "id": "fc5b979e-6189-48a9-a683-ebb5c0ba4281",
   "metadata": {},
   "outputs": [],
   "source": []
  },
  {
   "cell_type": "code",
   "execution_count": null,
   "id": "521abd94-577c-4b98-b349-decf32a6f053",
   "metadata": {},
   "outputs": [],
   "source": []
  },
  {
   "cell_type": "markdown",
   "id": "ff522d81-09a8-4e22-aebe-cbe50c5f5777",
   "metadata": {
    "tags": []
   },
   "source": [
    "# Model Evaluation"
   ]
  },
  {
   "cell_type": "code",
   "execution_count": 41,
   "id": "f62b624f-42ef-4b98-bf89-e053b9114e70",
   "metadata": {},
   "outputs": [
    {
     "ename": "NameError",
     "evalue": "name 'model_metrics' is not defined",
     "output_type": "error",
     "traceback": [
      "\u001b[1;31m---------------------------------------------------------------------------\u001b[0m",
      "\u001b[1;31mNameError\u001b[0m                                 Traceback (most recent call last)",
      "Cell \u001b[1;32mIn[41], line 38\u001b[0m\n\u001b[0;32m     29\u001b[0m \u001b[38;5;66;03m# Ranges for industry standards (min and max)\u001b[39;00m\n\u001b[0;32m     30\u001b[0m industry_ranges \u001b[38;5;241m=\u001b[39m {\n\u001b[0;32m     31\u001b[0m     \u001b[38;5;124m'\u001b[39m\u001b[38;5;124mRMSE\u001b[39m\u001b[38;5;124m'\u001b[39m: (\u001b[38;5;241m0.85\u001b[39m, \u001b[38;5;241m0.95\u001b[39m),       \u001b[38;5;66;03m# Min and max RMSE in industry\u001b[39;00m\n\u001b[0;32m     32\u001b[0m     \u001b[38;5;124m'\u001b[39m\u001b[38;5;124mMAE\u001b[39m\u001b[38;5;124m'\u001b[39m: (\u001b[38;5;241m0.70\u001b[39m, \u001b[38;5;241m0.75\u001b[39m),         \u001b[38;5;66;03m# Min and max MAE in industry\u001b[39;00m\n\u001b[1;32m   (...)\u001b[0m\n\u001b[0;32m     35\u001b[0m     \u001b[38;5;124m'\u001b[39m\u001b[38;5;124mF1 Score\u001b[39m\u001b[38;5;124m'\u001b[39m: (\u001b[38;5;241m0.30\u001b[39m, \u001b[38;5;241m0.50\u001b[39m),   \u001b[38;5;66;03m# Min and max F1 score in industry\u001b[39;00m\n\u001b[0;32m     36\u001b[0m }\n\u001b[1;32m---> 38\u001b[0m metrics \u001b[38;5;241m=\u001b[39m \u001b[38;5;28mlist\u001b[39m(model_metrics\u001b[38;5;241m.\u001b[39mkeys())\n\u001b[0;32m     39\u001b[0m x \u001b[38;5;241m=\u001b[39m np\u001b[38;5;241m.\u001b[39marange(\u001b[38;5;28mlen\u001b[39m(metrics))  \u001b[38;5;66;03m# label locations\u001b[39;00m\n\u001b[0;32m     40\u001b[0m bar_width \u001b[38;5;241m=\u001b[39m \u001b[38;5;241m0.35\u001b[39m  \u001b[38;5;66;03m# width of the bars\u001b[39;00m\n",
      "\u001b[1;31mNameError\u001b[0m: name 'model_metrics' is not defined"
     ]
    }
   ],
   "source": [
    "import numpy as np\n",
    "import matplotlib.pyplot as plt\n",
    "\n",
    "\n",
    "from surprise import accuracy\n",
    "from sklearn.metrics import precision_score, recall_score, f1_score\n",
    "\n",
    "def calculate_model_metrics(predictions):\n",
    "    rmse = accuracy.rmse(predictions, verbose=False)  # Calculate RMSE\n",
    "    mae = accuracy.mae(predictions, verbose=False)   # Calculate MAE\n",
    "    return rmse, mae\n",
    "\n",
    "def calculate_binary_metrics(predictions, threshold=4.0):\n",
    "    y_true = [1 if pred.r_ui >= threshold else 0 for pred in predictions]\n",
    "    y_pred = [1 if pred.est >= threshold else 0 for pred in predictions]\n",
    "    \n",
    "    precision = precision_score(y_true, y_pred, zero_division=0)\n",
    "    recall = recall_score(y_true, y_pred, zero_division=0)\n",
    "    f1 = f1_score(y_true, y_pred, zero_division=0)\n",
    "    \n",
    "    return precision, recall, f1\n",
    "\n",
    "# Calculate and display RMSE, MAE, Precision, Recall, and F1-Score\n",
    "    rmse, mae = calculate_model_metrics(svd_predictions)\n",
    "    precision, recall, f1 = calculate_binary_metrics(svd_predictions)\n",
    "    print(f\"RMSE: {rmse:.4f}, MAE: {mae:.4f}, Precision: {precision:.4f}, Recall: {recall:.4f}, F1 Score: {f1:.4f}\")\n",
    "\n",
    "\n",
    "# Ranges for industry standards (min and max)\n",
    "industry_ranges = {\n",
    "    'RMSE': (0.85, 0.95),       # Min and max RMSE in industry\n",
    "    'MAE': (0.70, 0.75),         # Min and max MAE in industry\n",
    "    'Precision': (0.70, 0.80),  # Min and max precision in industry\n",
    "    'Recall': (0.10, 0.40),     # Min and max recall in industry\n",
    "    'F1 Score': (0.30, 0.50),   # Min and max F1 score in industry\n",
    "}\n",
    "\n",
    "metrics = list(model_metrics.keys())\n",
    "x = np.arange(len(metrics))  # label locations\n",
    "bar_width = 0.35  # width of the bars\n",
    "\n",
    "fig, ax = plt.subplots(figsize=(10, 6))\n",
    "\n",
    "# Plotting bars for model metrics\n",
    "ax.bar(x, [model_metrics[metric] for metric in metrics], width=bar_width, color='lightblue', label='Model Metrics')\n",
    "\n",
    "# Calculate means and error margins for industry standards\n",
    "industry_means = [(industry_ranges[metric][0] + industry_ranges[metric][1]) / 2 for metric in metrics]\n",
    "industry_errors = [(industry_ranges[metric][1] - industry_ranges[metric][0]) / 2 for metric in metrics]\n",
    "\n",
    "# Adding error bars to indicate the range of industry standards\n",
    "ax.errorbar(x + bar_width / 2, industry_means, yerr=industry_errors, fmt='o', color='red', capsize=5, label='Industry Range')\n",
    "\n",
    "# Adding labels, title, and custom x-axis tick labels\n",
    "ax.set_ylabel('Values')\n",
    "ax.set_title('Model Metrics vs Industry Ranges')\n",
    "ax.set_xticks(x + bar_width / 2)\n",
    "ax.set_xticklabels(metrics)\n",
    "ax.set_ylim(0, 1)  # Setting the y-limit to encompass typical ranges for these metrics\n",
    "ax.legend()\n",
    "\n",
    "plt.tight_layout()\n",
    "plt.show()\n"
   ]
  },
  {
   "cell_type": "code",
   "execution_count": null,
   "id": "1d380519-5a07-4890-ae40-96127c739bd8",
   "metadata": {},
   "outputs": [],
   "source": []
  },
  {
   "cell_type": "code",
   "execution_count": null,
   "id": "6b623ce4-1162-4bc2-bf10-53dbd1149cb6",
   "metadata": {},
   "outputs": [],
   "source": []
  },
  {
   "cell_type": "code",
   "execution_count": null,
   "id": "577b9064-8d72-4c4e-bd24-04659eabcaf7",
   "metadata": {},
   "outputs": [],
   "source": []
  },
  {
   "cell_type": "code",
   "execution_count": null,
   "id": "e4863e3d-36c7-469a-8b98-19e9dc9bf81a",
   "metadata": {},
   "outputs": [],
   "source": []
  },
  {
   "cell_type": "code",
   "execution_count": null,
   "id": "29ea8afc-5f47-4cf2-ade6-e81b1b67c7f6",
   "metadata": {},
   "outputs": [],
   "source": []
  },
  {
   "cell_type": "code",
   "execution_count": null,
   "id": "944dfb74-dc88-42a8-b65a-a5204411c490",
   "metadata": {},
   "outputs": [],
   "source": [
    "## prior"
   ]
  },
  {
   "cell_type": "code",
   "execution_count": null,
   "id": "b7e4eb7b-b782-4de8-97d9-4f8bd3ac2eee",
   "metadata": {},
   "outputs": [],
   "source": []
  },
  {
   "cell_type": "markdown",
   "id": "52588b8f-07b1-4580-a42e-9e0cbb591240",
   "metadata": {
    "tags": []
   },
   "source": [
    "## Top-N, Precision-Recall at K"
   ]
  },
  {
   "cell_type": "code",
   "execution_count": null,
   "id": "ad605ec0-e9f6-43a7-91cb-9172ab2e81e5",
   "metadata": {},
   "outputs": [],
   "source": [
    "## PRIOR"
   ]
  },
  {
   "cell_type": "code",
   "execution_count": null,
   "id": "aac412d1-109f-449d-a36b-755f3bd91b97",
   "metadata": {},
   "outputs": [],
   "source": []
  },
  {
   "cell_type": "code",
   "execution_count": null,
   "id": "8ca36e8d-951d-402c-9a4c-fdbac48d0f48",
   "metadata": {},
   "outputs": [],
   "source": []
  },
  {
   "cell_type": "code",
   "execution_count": null,
   "id": "7133958a-46b3-4669-b76a-95a0f8e38103",
   "metadata": {},
   "outputs": [],
   "source": []
  },
  {
   "cell_type": "code",
   "execution_count": null,
   "id": "a2841d35-1879-4202-97cd-b00f6e56a3b0",
   "metadata": {},
   "outputs": [],
   "source": []
  },
  {
   "cell_type": "code",
   "execution_count": null,
   "id": "b0a2edec-0863-45bf-8796-d9f53b3a5668",
   "metadata": {},
   "outputs": [],
   "source": []
  },
  {
   "cell_type": "code",
   "execution_count": null,
   "id": "c87f6b25-8fdc-4c74-99df-7be212572fee",
   "metadata": {},
   "outputs": [],
   "source": []
  },
  {
   "cell_type": "code",
   "execution_count": null,
   "id": "22efe911-3616-4206-b5e1-3f9100188405",
   "metadata": {},
   "outputs": [],
   "source": []
  },
  {
   "cell_type": "code",
   "execution_count": null,
   "id": "e627b9ca-789d-4d6c-a38b-abda109d4b47",
   "metadata": {},
   "outputs": [],
   "source": []
  },
  {
   "cell_type": "markdown",
   "id": "c6d9819e-322a-45b2-a80d-5590a4250a65",
   "metadata": {},
   "source": [
    "## Additional Metrics"
   ]
  },
  {
   "cell_type": "code",
   "execution_count": 237,
   "id": "8b34b11e-8daa-4693-a1fd-a2ab43f321f9",
   "metadata": {},
   "outputs": [],
   "source": [
    "def calculate_catalog_coverage(recommended_items, total_items):\n",
    "    unique_items_recommended = set(item for user_recommendations in recommended_items.values() for item, _ in user_recommendations)\n",
    "    coverage = len(unique_items_recommended) / total_items\n",
    "    return coverage\n"
   ]
  },
  {
   "cell_type": "code",
   "execution_count": null,
   "id": "d7df6077-a3fc-414b-8407-a732d8c7420a",
   "metadata": {},
   "outputs": [],
   "source": []
  },
  {
   "cell_type": "code",
   "execution_count": 239,
   "id": "9630cdbd-f4e9-42f0-9882-b8e3179b6ed5",
   "metadata": {},
   "outputs": [],
   "source": [
    "from scipy.spatial.distance import pdist, squareform\n",
    "\n",
    "def calculate_intra_list_diversity(recommended_items, item_features):\n",
    "    diversity_scores = []\n",
    "    for user, items in recommended_items.items():\n",
    "        if len(items) > 1:\n",
    "            item_features_subset = item_features.loc[[item for item, _ in items]]\n",
    "            pairwise_distances = squareform(pdist(item_features_subset, metric='cosine'))\n",
    "            diversity_score = np.mean(pairwise_distances)\n",
    "            diversity_scores.append(diversity_score)\n",
    "    return np.mean(diversity_scores) if diversity_scores else 0\n"
   ]
  },
  {
   "cell_type": "code",
   "execution_count": null,
   "id": "9ab80c91-a594-4d05-8038-026bb900daac",
   "metadata": {},
   "outputs": [],
   "source": []
  },
  {
   "cell_type": "code",
   "execution_count": 241,
   "id": "17cd8fa0-f224-479f-84d9-4835d3979064",
   "metadata": {},
   "outputs": [],
   "source": [
    "def calculate_novelty(recommended_items, item_popularity):\n",
    "    novelty_scores = []\n",
    "    for user, items in recommended_items.items():\n",
    "        item_novelties = [np.log(1 / (item_popularity.get(item, 1) + 1)) for item, _ in items]\n",
    "        novelty_scores.append(np.mean(item_novelties) if item_novelties else 0)\n",
    "    return np.mean(novelty_scores) if novelty_scores else 0\n",
    "\n",
    "def calculate_item_popularity(df):\n",
    "    item_popularity = df['movieId'].value_counts().to_dict()\n",
    "    return item_popularity\n"
   ]
  },
  {
   "cell_type": "code",
   "execution_count": 245,
   "id": "eb29ffac-5030-43bb-9157-5bc11796e80c",
   "metadata": {},
   "outputs": [
    {
     "ename": "IndentationError",
     "evalue": "unexpected indent (1468404453.py, line 2)",
     "output_type": "error",
     "traceback": [
      "\u001b[1;36m  Cell \u001b[1;32mIn[245], line 2\u001b[1;36m\u001b[0m\n\u001b[1;33m    total_items = len(merged_df['movieId'].unique())\u001b[0m\n\u001b[1;37m    ^\u001b[0m\n\u001b[1;31mIndentationError\u001b[0m\u001b[1;31m:\u001b[0m unexpected indent\n"
     ]
    }
   ],
   "source": [
    "# Calculate and print additional metrics\n",
    "total_items = len(merged_df['movieId'].unique())\n",
    "catalog_coverage_metric = calculate_catalog_coverage(recommended_items, total_items)\n",
    "print(f\"Catalog Coverage: {catalog_coverage_metric:.2f}\")\n",
    "\n"
   ]
  },
  {
   "cell_type": "code",
   "execution_count": null,
   "id": "7945f24c-7f0c-423d-bd6a-b200955293a9",
   "metadata": {},
   "outputs": [],
   "source": []
  },
  {
   "cell_type": "code",
   "execution_count": 243,
   "id": "268263ae-7522-4b19-b515-df952c0a855e",
   "metadata": {},
   "outputs": [
    {
     "name": "stderr",
     "output_type": "stream",
     "text": [
      "INFO:root:Data successfully merged and cleaned.\n",
      "INFO:root:Test RMSE: 0.8921\n",
      "INFO:root:Test MAE: 0.6834\n",
      "INFO:root:Best Parameters: {'n_factors': 100, 'n_epochs': 50, 'lr_all': 0.01, 'reg_all': 0.1}\n",
      "INFO:root:RMSE: 0.8921, MAE: 0.6834, Precision: 0.7991, Recall: 0.3554, F1-Score: 0.4920\n"
     ]
    },
    {
     "name": "stdout",
     "output_type": "stream",
     "text": [
      "RMSE: 0.8921\n",
      "MAE:  0.6834\n",
      "RMSE: 0.8921, MAE: 0.6834, Precision: 0.7991, Recall: 0.3554, F1-Score: 0.4920\n",
      "Catalog Coverage: 0.04\n",
      "Novelty: -1.72\n"
     ]
    }
   ],
   "source": [
    "\n",
    "    logging.error(\"Data loading failed, model training not performed.\")\n"
   ]
  },
  {
   "cell_type": "code",
   "execution_count": null,
   "id": "0d4ab665-b576-4c0f-961f-177d175fc0b9",
   "metadata": {},
   "outputs": [],
   "source": []
  },
  {
   "cell_type": "code",
   "execution_count": null,
   "id": "65a3f295-29cb-48de-a8b9-8ff2baac1538",
   "metadata": {},
   "outputs": [],
   "source": []
  },
  {
   "cell_type": "code",
   "execution_count": null,
   "id": "dc062c20-765c-4e82-a848-2a8805901654",
   "metadata": {},
   "outputs": [],
   "source": []
  },
  {
   "cell_type": "code",
   "execution_count": null,
   "id": "7c263c19-7e78-46a3-9a2d-af527573de41",
   "metadata": {},
   "outputs": [],
   "source": []
  },
  {
   "cell_type": "code",
   "execution_count": null,
   "id": "ec514876-56ff-41d4-bace-3ed90dcc3851",
   "metadata": {},
   "outputs": [],
   "source": []
  },
  {
   "cell_type": "code",
   "execution_count": null,
   "id": "7024c670-20e1-458a-b1ec-69bb00a68ba4",
   "metadata": {},
   "outputs": [],
   "source": []
  }
 ],
 "metadata": {
  "kernelspec": {
   "display_name": "Python 3 (ipykernel)",
   "language": "python",
   "name": "python3"
  },
  "language_info": {
   "codemirror_mode": {
    "name": "ipython",
    "version": 3
   },
   "file_extension": ".py",
   "mimetype": "text/x-python",
   "name": "python",
   "nbconvert_exporter": "python",
   "pygments_lexer": "ipython3",
   "version": "3.11.5"
  },
  "toc-showtags": false
 },
 "nbformat": 4,
 "nbformat_minor": 5
}
