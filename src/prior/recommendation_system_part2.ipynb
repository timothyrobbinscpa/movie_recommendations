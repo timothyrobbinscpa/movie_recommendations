{
 "cells": [
  {
   "cell_type": "markdown",
   "id": "4ba16061",
   "metadata": {
    "tags": []
   },
   "source": [
    "### Cell 2: Data Loading and Preprocessing\n",
    "\n",
    "**Markdown Explanation:**\n",
    "\n",
    "This cell defines the function `load_data`, which is responsible for loading the movies and ratings data from CSV files, converting timestamps to datetime format, merging the datasets on the movie ID, extracting the release year from movie titles, and one-hot encoding genres. The function also includes error handling to log and raise exceptions if issues occur during data loading."
   ]
  },
  {
   "cell_type": "code",
   "execution_count": null,
   "id": "f7bcf96c",
   "metadata": {},
   "outputs": [],
   "source": [
    "def load_data(movies_file, ratings_file):\n",
    "    \"\"\"\n",
    "    Load and preprocess movies and ratings data.\n",
    "\n",
    "    This function loads movie and rating data from CSV files, converts timestamps to datetime objects,\n",
    "    merges the data on movie IDs, extracts release years from titles, and one-hot encodes genres.\n",
    "\n",
    "    Parameters:\n",
    "        movies_file (str): Path to the movies data file.\n",
    "        ratings_file (str): Path to the ratings data file.\n",
    "\n",
    "    Returns:\n",
    "        tuple: Three DataFrames (merged_df, movies_df, ratings_df)\n",
    "               - merged_df: DataFrame containing merged movies and ratings data with additional features.\n",
    "               - movies_df: DataFrame containing the original movies data.\n",
    "               - ratings_df: DataFrame containing the original ratings data.\n",
    "    \"\"\"\n",
    "    try:\n",
    "        # Load movie data from CSV into a DataFrame\n",
    "        movies_df = pd.read_csv(movies_file)\n",
    "\n",
    "        # Load rating data from CSV into a DataFrame\n",
    "        ratings_df = pd.read_csv(ratings_file)\n",
    "\n",
    "        # Convert the timestamp column in ratings data to datetime format for easier manipulation\n",
    "        ratings_df['timestamp'] = pd.to_datetime(ratings_df['timestamp'], unit='s')\n",
    "\n",
    "        # Merge the movie and rating data on the movieId column to combine information from both datasets\n",
    "        merged_df = pd.merge(ratings_df, movies_df, on='movieId')\n",
    "\n",
    "        # Extract the release year from the title column using regular expressions, if not already present\n",
    "        if 'release_year' not in merged_df.columns:\n",
    "            merged_df['release_year'] = merged_df['title'].str.extract(r'\\((\\d{4})\\)')[0].astype(float)\n",
    "\n",
    "        # One-hot encode the genres by creating binary columns for each genre\n",
    "        genre_list = list(set(itertools.chain.from_iterable(merged_df['genres'].str.split('|'))))\n",
    "        for genre in genre_list:\n",
    "            genre_pattern = re.escape(genre)  # Escape genre name to handle special characters\n",
    "            merged_df[genre] = merged_df['genres'].str.contains(r'\\b' + genre_pattern + r'\\b').astype(int)\n",
    "\n",
    "        # Return the preprocessed DataFrames\n",
    "        return merged_df, movies_df, ratings_df\n",
    "\n",
    "    except FileNotFoundError as fnf_error:\n",
    "        # Log an error if a file is not found and re-raise the exception\n",
    "        logging.error(f\"File not found: {fnf_error}\")\n",
    "        raise\n",
    "\n",
    "    except Exception as e:\n",
    "        # Log any other exceptions that occur during data loading and re-raise the exception\n",
    "        logging.error(f\"Error loading data: {e}\")\n",
    "        raise\n"
   ]
  }
 ],
 "metadata": {
  "kernelspec": {
   "display_name": "Python 3 (ipykernel)",
   "language": "python",
   "name": "python3"
  },
  "language_info": {
   "codemirror_mode": {
    "name": "ipython",
    "version": 3
   },
   "file_extension": ".py",
   "mimetype": "text/x-python",
   "name": "python",
   "nbconvert_exporter": "python",
   "pygments_lexer": "ipython3",
   "version": "3.11.5"
  }
 },
 "nbformat": 4,
 "nbformat_minor": 5
}
