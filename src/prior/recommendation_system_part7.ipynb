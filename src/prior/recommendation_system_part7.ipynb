{
 "cells": [
  {
   "cell_type": "markdown",
   "id": "d3e49d55",
   "metadata": {},
   "source": [
    "### Cell 4: Time Decay and Feature Engineering\n",
    "\n",
    "**Markdown Explanation:**\n",
    "\n",
    "This cell defines the function `apply_time_decay`, which applies time decay to the ratings. The function adjusts the ratings based on the time since the rating was given and the release year of the movie. More recent ratings and newer movies are given higher importance. The function returns a DataFrame with adjusted ratings."
   ]
  },
  {
   "cell_type": "code",
   "execution_count": null,
   "id": "09767358",
   "metadata": {},
   "outputs": [],
   "source": [
    "def apply_time_decay(ratings_df, decay_factor, year_divisor):\n",
    "    \"\"\"\n",
    "    Apply time decay to ratings.\n",
    "\n",
    "    This function adjusts the ratings based on the time since the rating was given and the release year of the movie.\n",
    "    More recent ratings and newer movies are given higher importance.\n",
    "\n",
    "    Parameters:\n",
    "        ratings_df (pd.DataFrame): DataFrame containing ratings data.\n",
    "        decay_factor (float): Decay factor for time decay.\n",
    "        year_divisor (float): Divisor for year difference to adjust importance of release year.\n",
    "\n",
    "    Returns:\n",
    "        pd.DataFrame: DataFrame with adjusted ratings.\n",
    "    \"\"\"\n",
    "    current_time = pd.to_datetime('now')  # Get current time\n",
    "    time_diff_days = (current_time - ratings_df['timestamp']).dt.total_seconds() / (3600 * 24)  # Calculate time difference in days\n",
    "    time_weights = decay_factor ** (time_diff_days / 365)  # Calculate time decay weights\n",
    "\n",
    "    year_diff = (current_time.year - ratings_df['release_year']) / year_divisor  # Calculate year difference\n",
    "    adjusted_ratings = ratings_df['rating'] * time_weights / (1 + year_diff)  # Adjust ratings based on time decay and year difference\n",
    "\n",
    "    min_rating, max_rating = adjusted_ratings.min(), adjusted_ratings.max()\n",
    "    if (min_rating != max_rating) and (min_rating != float('inf')) and (max_rating != float('inf')):\n",
    "        adjusted_ratings = 5.0 * (adjusted_ratings - min_rating) / (max_rating - min_rating)  # Normalize adjusted ratings to 0.5 - 5.0\n",
    "\n",
    "    ratings_df['adjusted_rating'] = adjusted_ratings.clip(0.5, 5.0).round(1)  # Clip and round adjusted ratings to 0.5 - 5.0\n",
    "\n",
    "    return ratings_df\n"
   ]
  }
 ],
 "metadata": {
  "kernelspec": {
   "display_name": "Python 3 (ipykernel)",
   "language": "python",
   "name": "python3"
  },
  "language_info": {
   "codemirror_mode": {
    "name": "ipython",
    "version": 3
   },
   "file_extension": ".py",
   "mimetype": "text/x-python",
   "name": "python",
   "nbconvert_exporter": "python",
   "pygments_lexer": "ipython3",
   "version": "3.11.5"
  }
 },
 "nbformat": 4,
 "nbformat_minor": 5
}
