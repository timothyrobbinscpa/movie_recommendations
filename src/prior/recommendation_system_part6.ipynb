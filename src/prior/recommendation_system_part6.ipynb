{
 "cells": [
  {
   "cell_type": "code",
   "execution_count": null,
   "id": "9465814c",
   "metadata": {},
   "outputs": [],
   "source": [
    "# Plot the distribution of movie release years\n",
    "merged_df['release_year'] = merged_df['release_year'].astype(float)\n",
    "plt.figure(figsize=(10, 5))\n",
    "sns.histplot(merged_df['release_year'].dropna(), bins=int(merged_df['release_year'].max() - merged_df['release_year'].min() + 1), kde=False)\n",
    "plt.title('Distribution of Movie Release Years')  # Set the title of the plot\n",
    "plt.xlabel('Release Year')  # Label the x-axis\n",
    "plt.ylabel('Frequency')  # Label the y-axis\n",
    "plt.show()  # Display the plot\n",
    "\n",
    "# Plot the correlation matrix\n",
    "plt.figure(figsize=(12, 10))\n",
    "corr = merged_df.select_dtypes(include=['float64', 'int64']).corr()\n",
    "sns.heatmap(corr, annot=True, cmap='coolwarm', vmin=-1, vmax=1)\n",
    "plt.title('Correlation Matrix')  # Set the title of the plot\n",
    "plt.show()  # Display the plot\n"
   ]
  }
 ],
 "metadata": {
  "kernelspec": {
   "display_name": "Python 3 (ipykernel)",
   "language": "python",
   "name": "python3"
  },
  "language_info": {
   "codemirror_mode": {
    "name": "ipython",
    "version": 3
   },
   "file_extension": ".py",
   "mimetype": "text/x-python",
   "name": "python",
   "nbconvert_exporter": "python",
   "pygments_lexer": "ipython3",
   "version": "3.11.5"
  }
 },
 "nbformat": 4,
 "nbformat_minor": 5
}
