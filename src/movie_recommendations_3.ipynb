{
 "cells": [
  {
   "cell_type": "code",
   "execution_count": 46,
   "id": "079e6d40-75e6-4c78-9968-cbb2ddc9d7b3",
   "metadata": {
    "tags": []
   },
   "outputs": [
    {
     "name": "stdout",
     "output_type": "stream",
     "text": [
      "Top Rated Movie ID by User: 5060.0\n",
      "Recommended Movie IDs: [1304, 1179, 1299, 2110, 2944, 919, 1078, 1278, 1079, 1387]\n",
      "Actual Likes: [1024, 1, 1025, 3, 2048, 1029, 6, 1031, 1032, 2054, 2058, 2571, 527, 1552, 1042, 2580, 1049, 2078, 543, 3617, 1060, 1573, 2596, 552, 553, 2090, 2094, 47, 2096, 1073, 50, 1587, 2099, 3639, 1080, 2105, 2616, 1089, 1090, 2115, 1092, 2116, 2628, 1097, 3147, 590, 592, 593, 1617, 2640, 596, 1620, 2641, 2644, 2648, 1625, 2137, 2139, 3671, 2141, 2654, 2143, 608, 3168, 101, 1127, 110, 1136, 2161, 3702, 3703, 2174, 2692, 2700, 2193, 3729, 661, 151, 2716, 157, 3740, 3744, 163, 1196, 1197, 1198, 3253, 1206, 1208, 1210, 1213, 1214, 1220, 1732, 1222, 1224, 2761, 1226, 3273, 3793, 216, 1240, 2268, 733, 2273, 3809, 231, 1256, 235, 2797, 1265, 1777, 2291, 1270, 1275, 1278, 1793, 1282, 260, 2826, 1291, 1804, 1805, 1298, 2329, 804, 2858, 2353, 2872, 3386, 2366, 1348, 333, 2387, 2899, 2395, 349, 356, 2916, 2406, 362, 367, 3439, 3440, 3441, 3448, 3450, 2427, 1920, 2944, 2947, 2948, 2949, 1927, 2959, 2450, 919, 3479, 923, 2459, 3489, 1954, 2470, 4006, 2985, 2987, 940, 2478, 943, 1967, 2991, 2993, 2997, 441, 954, 2492, 1473, 5060, 2502, 3527, 457, 2000, 2005, 3033, 3034, 1500, 2012, 480, 2529, 2018, 2028, 1517, 2542, 3052, 3053, 2033, 3062, 3578, 2046, 1023]\n",
      "Evaluation Metrics: {'precision': 0.3, 'recall': 0.015, 'f1_score': 0.02857142857142857}\n"
     ]
    }
   ],
   "source": [
    "import pandas as pd\n",
    "import numpy as np\n",
    "from sklearn.metrics.pairwise import cosine_similarity\n",
    "\n",
    "# Load data\n",
    "movies_df = pd.read_csv('../data/movies.csv')\n",
    "ratings_df = pd.read_csv('../data/ratings.csv')\n",
    "\n",
    "# Convert the ratings table to a 2D matrix (users on one axis, movies on the other)\n",
    "movie_user_matrix = ratings_df.pivot_table(index='movieId', columns='userId', values='rating').fillna(0)\n",
    "\n",
    "# Compute cosine similarity between items\n",
    "cosine_sim = cosine_similarity(movie_user_matrix, movie_user_matrix)\n",
    "\n",
    "# Convert to DataFrame for better handling\n",
    "cosine_sim_df = pd.DataFrame(cosine_sim, index=movie_user_matrix.index, columns=movie_user_matrix.index)\n",
    "\n",
    "# Function to make recommendations\n",
    "def make_expanded_recommendations(movie_id, num_recommendations=20):\n",
    "    # Get similarity scores for the given movie with all others\n",
    "    sim_scores = cosine_sim_df[movie_id]\n",
    "    \n",
    "    # Sort the movies based on similarity scores\n",
    "    sim_scores = sim_scores.sort_values(ascending=False)\n",
    "    \n",
    "    # Select a larger pool of potential recommendations\n",
    "    larger_pool = sim_scores.iloc[1:num_recommendations*2].index.tolist()  # Select twice the number intended\n",
    "    \n",
    "    # Return the top-N from this larger pool\n",
    "    final_recommendations = larger_pool[:num_recommendations]\n",
    "    \n",
    "    return final_recommendations\n",
    "\n",
    "# Function to evaluate recommendations\n",
    "def evaluate_recommendations(recommended_movies, actual_likes):\n",
    "    recommended_set = set(recommended_movies)\n",
    "    true_positives = len(recommended_set & actual_likes)\n",
    "    false_positives = len(recommended_set - actual_likes)\n",
    "    false_negatives = len(actual_likes - set(recommended_movies))\n",
    "    \n",
    "    precision = true_positives / (true_positives + false_positives) if true_positives + false_positives > 0 else 0\n",
    "    recall = true_positives / (true_positives + false_negatives) if true_positives + false_negatives > 0 else 0\n",
    "    f1_score = 2 * (precision * recall) / (precision + recall) if precision + recall > 0 else 0\n",
    "    \n",
    "    return {'precision': precision, 'recall': recall, 'f1_score': f1_score}\n",
    "\n",
    "# Define user's actual likes based on a threshold (e.g., rating >= 4)\n",
    "def get_actual_likes(user_id, threshold=4):\n",
    "    actual_likes = set(ratings_df[(ratings_df['userId'] == user_id) & (ratings_df['rating'] >= threshold)]['movieId'].tolist())\n",
    "    return actual_likes\n",
    "\n",
    "# Example usage\n",
    "user_id = 1  # Example user ID\n",
    "top_rated_movie_id = ratings_df[ratings_df['userId'] == user_id].sort_values(by='rating', ascending=False).iloc[0]['movieId']\n",
    "recommended_movies = make_expanded_recommendations(top_rated_movie_id, 10)\n",
    "actual_likes = get_actual_likes(user_id)\n",
    "evaluation_metrics = evaluate_recommendations(recommended_movies, actual_likes)\n",
    "\n",
    "print(\"Top Rated Movie ID by User:\", top_rated_movie_id)\n",
    "print(\"Recommended Movie IDs:\", recommended_movies)\n",
    "print(\"Actual Likes:\", list(actual_likes))\n",
    "print(\"Evaluation Metrics:\", evaluation_metrics)\n"
   ]
  },
  {
   "cell_type": "markdown",
   "id": "014780b6-ad52-47bc-9c6c-c98dae0aacf5",
   "metadata": {},
   "source": [
    "Typical Accuracy Levels:\n",
    "\n",
    "- General Accuracy: It's challenging to state a specific \"average accuracy\" because it depends highly on the context and the specific system configuration. However, good movie recommendation systems generally achieve:\n",
    "    - RMSE: Values around 0.8 to 1.2 for rating predictions, with lower values indicating better accuracy.\n",
    "    - Precision/Recall: Precision and recall can vary, but good systems might achieve over 20-30% precision in top-N recommendations in practical settings.\n",
    "    - High-Performance Systems: In competitions like the Netflix Prize, the winning entries achieved RMSEs around 0.85, considered very high accuracy in a real-world system."
   ]
  },
  {
   "cell_type": "code",
   "execution_count": null,
   "id": "d0b54ad9-6ddd-4031-8e29-7f7d0eb1b341",
   "metadata": {},
   "outputs": [],
   "source": []
  },
  {
   "cell_type": "code",
   "execution_count": 78,
   "id": "3aadedfe-d319-4367-bd98-454c88893857",
   "metadata": {
    "tags": []
   },
   "outputs": [
    {
     "name": "stdout",
     "output_type": "stream",
     "text": [
      "Top Rated Movie ID by User: 5060.0\n",
      "Recommended Movie IDs: [1304, 1179, 1299, 2110, 2944, 919, 1078, 1278, 1079, 1387]\n",
      "Actual Likes: [1024, 1, 1025, 3, 2048, 1029, 6, 1031, 1032, 2054, 2058, 2571, 527, 1552, 1042, 2580, 1049, 2078, 543, 3617, 1060, 1573, 2596, 552, 553, 2090, 2094, 47, 2096, 1073, 50, 1587, 2099, 3639, 1080, 2105, 2616, 1089, 1090, 2115, 1092, 2116, 2628, 1097, 3147, 590, 592, 593, 1617, 2640, 596, 1620, 2641, 2644, 2648, 1625, 2137, 2139, 3671, 2141, 2654, 2143, 608, 3168, 101, 1127, 110, 1136, 2161, 3702, 3703, 2174, 2692, 2700, 2193, 3729, 661, 151, 2716, 157, 3740, 3744, 163, 1196, 1197, 1198, 3253, 1206, 1208, 1210, 1213, 1214, 1220, 1732, 1222, 1224, 2761, 1226, 3273, 3793, 216, 1240, 2268, 733, 2273, 3809, 231, 1256, 235, 2797, 1265, 1777, 2291, 1270, 1275, 1278, 1793, 1282, 260, 2826, 1291, 1804, 1805, 1298, 2329, 804, 2858, 2353, 2872, 3386, 2366, 1348, 333, 2387, 2899, 2395, 349, 356, 2916, 2406, 362, 367, 3439, 3440, 3441, 3448, 3450, 2427, 1920, 2944, 2947, 2948, 2949, 1927, 2959, 2450, 919, 3479, 923, 2459, 3489, 1954, 2470, 4006, 2985, 2987, 940, 2478, 943, 1967, 2991, 2993, 2997, 441, 954, 2492, 1473, 5060, 2502, 3527, 457, 2000, 2005, 3033, 3034, 1500, 2012, 480, 2529, 2018, 2028, 1517, 2542, 3052, 3053, 2033, 3062, 3578, 2046, 1023]\n",
      "Evaluation Metrics: {'precision': 0.3, 'recall': 0.015, 'f1_score': 0.02857142857142857}\n"
     ]
    }
   ],
   "source": [
    "import pandas as pd\n",
    "import numpy as np\n",
    "from sklearn.metrics.pairwise import cosine_similarity\n",
    "from scipy.sparse import csr_matrix\n",
    "\n",
    "# Load data\n",
    "movies_df = pd.read_csv('../data/movies.csv')\n",
    "ratings_df = pd.read_csv('../data/ratings.csv')\n",
    "\n",
    "# Convert the ratings table to a 2D matrix (users on one axis, movies on the other)\n",
    "movie_user_matrix = ratings_df.pivot_table(index='movieId', columns='userId', values='rating').fillna(0)\n",
    "\n",
    "# Convert dense matrix to sparse matrix format\n",
    "sparse_movie_user_matrix = csr_matrix(movie_user_matrix.values)\n",
    "\n",
    "# Compute cosine similarity between items using sparse matrix\n",
    "cosine_sim_sparse = cosine_similarity(sparse_movie_user_matrix, dense_output=False)\n",
    "\n",
    "# Convert sparse matrix of similarities to DataFrame for better handling\n",
    "cosine_sim_df = pd.DataFrame.sparse.from_spmatrix(cosine_sim_sparse, index=movie_user_matrix.index, columns=movie_user_matrix.index)\n",
    "\n",
    "# Function to make recommendations\n",
    "def make_expanded_recommendations(movie_id, num_recommendations=20):\n",
    "    # Get similarity scores for the given movie with all others\n",
    "    sim_scores = cosine_sim_df.loc[movie_id]\n",
    "    \n",
    "    # Sort the movies based on similarity scores\n",
    "    sim_scores = sim_scores.sort_values(ascending=False)\n",
    "    \n",
    "    # Select a larger pool of potential recommendations\n",
    "    larger_pool = sim_scores.iloc[1:num_recommendations*2].index.tolist()  # Select twice the number intended\n",
    "    \n",
    "    # Return the top-N from this larger pool\n",
    "    final_recommendations = larger_pool[:num_recommendations]\n",
    "    \n",
    "    return final_recommendations\n",
    "\n",
    "# Function to evaluate recommendations\n",
    "def evaluate_recommendations(recommended_movies, actual_likes):\n",
    "    recommended_set = set(recommended_movies)\n",
    "    true_positives = len(recommended_set & actual_likes)\n",
    "    false_positives = len(recommended_set - actual_likes)\n",
    "    false_negatives = len(actual_likes - set(recommended_movies))\n",
    "    \n",
    "    precision = true_positives / (true_positives + false_positives) if true_positives + false_positives > 0 else 0\n",
    "    recall = true_positives / (true_positives + false_negatives) if true_positives + false_negatives > 0 else 0\n",
    "    f1_score = 2 * (precision * recall) / (precision + recall) if precision + recall > 0 else 0\n",
    "    \n",
    "    return {'precision': precision, 'recall': recall, 'f1_score': f1_score}\n",
    "\n",
    "# Define user's actual likes based on a threshold (e.g., rating >= 4)\n",
    "def get_actual_likes(user_id, threshold=4):\n",
    "    actual_likes = set(ratings_df[(ratings_df['userId'] == user_id) & (ratings_df['rating'] >= threshold)]['movieId'].tolist())\n",
    "    return actual_likes\n",
    "\n",
    "# Example usage\n",
    "user_id = 1  # Example user ID\n",
    "top_rated_movie_id = ratings_df[ratings_df['userId'] == user_id].sort_values(by='rating', ascending=False).iloc[0]['movieId']\n",
    "recommended_movies = make_expanded_recommendations(top_rated_movie_id, 10)\n",
    "actual_likes = get_actual_likes(user_id)\n",
    "evaluation_metrics = evaluate_recommendations(recommended_movies, actual_likes)\n",
    "\n",
    "print(\"Top Rated Movie ID by User:\", top_rated_movie_id)\n",
    "print(\"Recommended Movie IDs:\", recommended_movies)\n",
    "print(\"Actual Likes:\", list(actual_likes))\n",
    "print(\"Evaluation Metrics:\", evaluation_metrics)\n"
   ]
  },
  {
   "cell_type": "code",
   "execution_count": 82,
   "id": "8549d045-ba36-416b-b54c-cc4c50af1be9",
   "metadata": {
    "tags": []
   },
   "outputs": [
    {
     "name": "stdout",
     "output_type": "stream",
     "text": [
      "Top Rated Movie ID by User: 5060.0\n",
      "Recommended Movie IDs: [1299, 1078, 3448, 1090, 1272, 2944, 1263, 1292, 2973, 2289]\n",
      "Actual Likes: [1024, 1, 1025, 3, 2048, 1029, 6, 1031, 1032, 2054, 2058, 2571, 527, 1552, 1042, 2580, 1049, 2078, 543, 3617, 1060, 1573, 2596, 552, 553, 2090, 2094, 47, 2096, 1073, 50, 1587, 2099, 3639, 1080, 2105, 2616, 1089, 1090, 2115, 1092, 2116, 2628, 1097, 3147, 590, 592, 593, 1617, 2640, 596, 1620, 2641, 2644, 2648, 1625, 2137, 2139, 3671, 2141, 2654, 2143, 608, 3168, 101, 1127, 110, 1136, 2161, 3702, 3703, 2174, 2692, 2700, 2193, 3729, 661, 151, 2716, 157, 3740, 3744, 163, 1196, 1197, 1198, 3253, 1206, 1208, 1210, 1213, 1214, 1220, 1732, 1222, 1224, 2761, 1226, 3273, 3793, 216, 1240, 2268, 733, 2273, 3809, 231, 1256, 235, 2797, 1265, 1777, 2291, 1270, 1275, 1278, 1793, 1282, 260, 2826, 1291, 1804, 1805, 1298, 2329, 804, 2858, 2353, 2872, 3386, 2366, 1348, 333, 2387, 2899, 2395, 349, 356, 2916, 2406, 362, 367, 3439, 3440, 3441, 3448, 3450, 2427, 1920, 2944, 2947, 2948, 2949, 1927, 2959, 2450, 919, 3479, 923, 2459, 3489, 1954, 2470, 4006, 2985, 2987, 940, 2478, 943, 1967, 2991, 2993, 2997, 441, 954, 2492, 1473, 5060, 2502, 3527, 457, 2000, 2005, 3033, 3034, 1500, 2012, 480, 2529, 2018, 2028, 1517, 2542, 3052, 3053, 2033, 3062, 3578, 2046, 1023]\n",
      "Evaluation Metrics: {'precision': 0.3, 'recall': 0.015, 'f1_score': 0.02857142857142857}\n"
     ]
    }
   ],
   "source": [
    "import pandas as pd\n",
    "import numpy as np\n",
    "from sklearn.metrics.pairwise import cosine_similarity\n",
    "from scipy.sparse import csr_matrix\n",
    "\n",
    "# Load data\n",
    "movies_df = pd.read_csv('../data/movies.csv')\n",
    "ratings_df = pd.read_csv('../data/ratings.csv')\n",
    "\n",
    "# Convert the ratings table to a 2D matrix (users on one axis, movies on the other)\n",
    "movie_user_matrix = ratings_df.pivot_table(index='movieId', columns='userId', values='rating').fillna(0)\n",
    "\n",
    "# Convert dense matrix to sparse matrix format\n",
    "sparse_movie_user_matrix = csr_matrix(movie_user_matrix.values)\n",
    "\n",
    "# Compute cosine similarity between items using sparse matrix\n",
    "cosine_sim_sparse = cosine_similarity(sparse_movie_user_matrix, dense_output=False)\n",
    "\n",
    "# Convert sparse matrix of similarities to DataFrame for better handling\n",
    "cosine_sim_df = pd.DataFrame.sparse.from_spmatrix(cosine_sim_sparse, index=movie_user_matrix.index, columns=movie_user_matrix.index)\n",
    "\n",
    "# Calculate genre-based similarity matrix\n",
    "def get_genre_matrix():\n",
    "    # Convert genre strings into a binary matrix\n",
    "    genres_matrix = movies_df['genres'].str.get_dummies(sep='|')\n",
    "    return csr_matrix(genres_matrix.values)\n",
    "\n",
    "genre_matrix = get_genre_matrix()\n",
    "genre_similarity = cosine_similarity(genre_matrix, dense_output=False)\n",
    "genre_sim_df = pd.DataFrame.sparse.from_spmatrix(genre_similarity, index=movies_df['movieId'].values, columns=movies_df['movieId'].values)\n",
    "\n",
    "def hybrid_recommendations(movie_id, num_recommendations=20, weight_factor=0.7):\n",
    "    rating_sim_scores = cosine_sim_df.loc[movie_id]\n",
    "    genre_sim_scores = genre_sim_df.loc[movie_id]\n",
    "\n",
    "    # Adjust weights based on the number of ratings a movie has\n",
    "    num_ratings = movie_user_matrix.loc[movie_id].count()\n",
    "    weight = weight_factor if num_ratings > 10 else 1 - weight_factor  # More weight on genre if fewer ratings\n",
    "\n",
    "    hybrid_scores = weight * rating_sim_scores + (1 - weight) * genre_sim_scores\n",
    "    hybrid_scores = hybrid_scores.sort_values(ascending=False)\n",
    "\n",
    "    return hybrid_scores.iloc[1:num_recommendations+1].index.tolist()\n",
    "\n",
    "# Function to evaluate recommendations\n",
    "def evaluate_recommendations(recommended_movies, actual_likes):\n",
    "    recommended_set = set(recommended_movies)\n",
    "    true_positives = len(recommended_set & actual_likes)\n",
    "    false_positives = len(recommended_set - actual_likes)\n",
    "    false_negatives = len(actual_likes - set(recommended_movies))\n",
    "\n",
    "    precision = true_positives / (true_positives + false_positives) if true_positives + false_positives > 0 else 0\n",
    "    recall = true_positives / (true_positives + false_negatives) if true_positives + false_negatives > 0 else 0\n",
    "    f1_score = 2 * (precision * recall) / (precision + recall) if precision + recall > 0 else 0\n",
    "\n",
    "    return {'precision': precision, 'recall': recall, 'f1_score': f1_score}\n",
    "\n",
    "# Define user's actual likes based on a threshold (e.g., rating >= 4)\n",
    "def get_actual_likes(user_id, threshold=4):\n",
    "    actual_likes = set(ratings_df[(ratings_df['userId'] == user_id) & (ratings_df['rating'] >= threshold)]['movieId'].tolist())\n",
    "    return actual_likes\n",
    "\n",
    "# Example usage\n",
    "user_id = 1  # Example user ID\n",
    "top_rated_movie_id = ratings_df[ratings_df['userId'] == user_id].sort_values(by='rating', ascending=False).iloc[0]['movieId']\n",
    "recommended_movies = hybrid_recommendations(top_rated_movie_id, 10)\n",
    "actual_likes = get_actual_likes(user_id)\n",
    "evaluation_metrics = evaluate_recommendations(recommended_movies, actual_likes)\n",
    "\n",
    "print(\"Top Rated Movie ID by User:\", top_rated_movie_id)\n",
    "print(\"Recommended Movie IDs:\", recommended_movies)\n",
    "print(\"Actual Likes:\", list(actual_likes))\n",
    "print(\"Evaluation Metrics:\", evaluation_metrics)\n"
   ]
  },
  {
   "cell_type": "code",
   "execution_count": 94,
   "id": "899b5545-3a7a-4c58-b652-2236d329f308",
   "metadata": {
    "tags": []
   },
   "outputs": [
    {
     "ename": "NameError",
     "evalue": "name 'python' is not defined",
     "output_type": "error",
     "traceback": [
      "\u001b[1;31m---------------------------------------------------------------------------\u001b[0m",
      "\u001b[1;31mNameError\u001b[0m                                 Traceback (most recent call last)",
      "Cell \u001b[1;32mIn[94], line 1\u001b[0m\n\u001b[1;32m----> 1\u001b[0m python\u001b[38;5;241m-\u001b[39m\u001b[38;5;241m-\u001b[39mversion\n",
      "\u001b[1;31mNameError\u001b[0m: name 'python' is not defined"
     ]
    }
   ],
   "source": []
  },
  {
   "cell_type": "code",
   "execution_count": 84,
   "id": "a843f86f-3c71-4c2e-a36e-ae7f5dd8117c",
   "metadata": {
    "tags": []
   },
   "outputs": [
    {
     "ename": "ModuleNotFoundError",
     "evalue": "No module named 'surprise'",
     "output_type": "error",
     "traceback": [
      "\u001b[1;31m---------------------------------------------------------------------------\u001b[0m",
      "\u001b[1;31mModuleNotFoundError\u001b[0m                       Traceback (most recent call last)",
      "Cell \u001b[1;32mIn[84], line 1\u001b[0m\n\u001b[1;32m----> 1\u001b[0m \u001b[38;5;28;01mfrom\u001b[39;00m \u001b[38;5;21;01msurprise\u001b[39;00m \u001b[38;5;28;01mimport\u001b[39;00m SVD, Dataset, Reader\n\u001b[0;32m      2\u001b[0m \u001b[38;5;28;01mfrom\u001b[39;00m \u001b[38;5;21;01msurprise\u001b[39;00m\u001b[38;5;21;01m.\u001b[39;00m\u001b[38;5;21;01mmodel_selection\u001b[39;00m \u001b[38;5;28;01mimport\u001b[39;00m cross_validate\n\u001b[0;32m      4\u001b[0m \u001b[38;5;66;03m# Load data into surprise library format\u001b[39;00m\n",
      "\u001b[1;31mModuleNotFoundError\u001b[0m: No module named 'surprise'"
     ]
    }
   ],
   "source": [
    "from surprise import SVD, Dataset, Reader\n",
    "from surprise.model_selection import cross_validate\n",
    "\n",
    "# Load data into surprise library format\n",
    "reader = Reader(rating_scale=(1, 5))\n",
    "data = Dataset.load_from_df(ratings_df[['userId', 'movieId', 'rating']], reader)\n",
    "\n",
    "# Define SVD algorithm\n",
    "algo = SVD()\n",
    "\n",
    "# Perform cross-validation\n",
    "cross_validate(algo, data, measures=['RMSE', 'MAE'], cv=5, verbose=True)\n",
    "\n",
    "# Train on full dataset\n",
    "trainset = data.build_full_trainset()\n",
    "algo.fit(trainset)\n",
    "\n",
    "# Predict a rating for a user and item\n",
    "user_id = 1\n",
    "movie_id = 2\n",
    "predicted_rating = algo.predict(user_id, movie_id).est\n",
    "print(\"Predicted Rating for user:\", user_id, \"item:\", movie_id, \"is\", predicted_rating)\n"
   ]
  },
  {
   "cell_type": "code",
   "execution_count": null,
   "id": "e3b88ec2-95ac-42c9-8df9-1551625a2e2a",
   "metadata": {},
   "outputs": [],
   "source": []
  },
  {
   "cell_type": "code",
   "execution_count": null,
   "id": "bc5d551c-975f-4911-a644-7f69d6933a14",
   "metadata": {},
   "outputs": [],
   "source": []
  }
 ],
 "metadata": {
  "kernelspec": {
   "display_name": "Python 3 (ipykernel)",
   "language": "python",
   "name": "python3"
  },
  "language_info": {
   "codemirror_mode": {
    "name": "ipython",
    "version": 3
   },
   "file_extension": ".py",
   "mimetype": "text/x-python",
   "name": "python",
   "nbconvert_exporter": "python",
   "pygments_lexer": "ipython3",
   "version": "3.11.5"
  }
 },
 "nbformat": 4,
 "nbformat_minor": 5
}
