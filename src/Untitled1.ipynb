{
 "cells": [
  {
   "cell_type": "code",
   "execution_count": null,
   "id": "26762521-9600-4ff8-b0ba-be50086b5b46",
   "metadata": {
    "tags": []
   },
   "outputs": [
    {
     "name": "stderr",
     "output_type": "stream",
     "text": [
      "C:\\users\\trobb\\anaconda3\\Lib\\site-packages\\lightfm\\_lightfm_fast.py:9: UserWarning: LightFM was compiled without OpenMP support. Only a single thread will be used.\n",
      "  warnings.warn(\n"
     ]
    }
   ],
   "source": [
    "import numpy as np\n",
    "from lightfm import LightFM\n",
    "from lightfm.datasets import fetch_movielens\n",
    "\n",
    "def test_lightfm():\n",
    "    try:\n",
    "        # Fetch the Movielens 100k dataset\n",
    "        data = fetch_movielens(min_rating=4.0)\n",
    "\n",
    "        # Create train and test interaction matrices\n",
    "        train = data['train']\n",
    "        test = data['test']\n",
    "\n",
    "        # Create a LightFM model instance\n",
    "        model = LightFM(loss='warp', no_components=30, learning_schedule='adadelta')\n",
    "\n",
    "        # Train the model on the training data\n",
    "        model.fit(train, epochs=30, num_threads=4)\n",
    "\n",
    "        # Evaluate the model on the test data\n",
    "        from lightfm.evaluation import precision_at_k, recall_at_k\n",
    "\n",
    "        train_precision = precision_at_k(model, train, k=5).mean()\n",
    "        test_precision = precision_at_k(model, test, k=5).mean()\n",
    "\n",
    "        train_recall = recall_at_k(model, train, k=5).mean()\n",
    "        test_recall = recall_at_k(model, test, k=5).mean()\n",
    "\n",
    "        print(f'Train precision at k=5: {train_precision:.4f}')\n",
    "        print(f'Test precision at k=5: {test_precision:.4f}')\n",
    "        print(f'Train recall at k=5: {train_recall:.4f}')\n",
    "        print(f'Test recall at k=5: {test_recall:.4f}')\n",
    "    except Exception as e:\n",
    "        print(f\"Error: {e}\")\n",
    "\n",
    "if __name__ == \"__main__\":\n",
    "    test_lightfm()\n"
   ]
  }
 ],
 "metadata": {
  "kernelspec": {
   "display_name": "Python 3 (ipykernel)",
   "language": "python",
   "name": "python3"
  },
  "language_info": {
   "codemirror_mode": {
    "name": "ipython",
    "version": 3
   },
   "file_extension": ".py",
   "mimetype": "text/x-python",
   "name": "python",
   "nbconvert_exporter": "python",
   "pygments_lexer": "ipython3",
   "version": "3.11.5"
  }
 },
 "nbformat": 4,
 "nbformat_minor": 5
}
